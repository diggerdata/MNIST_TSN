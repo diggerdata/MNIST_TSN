{
 "cells": [
  {
   "cell_type": "code",
   "execution_count": 1,
   "metadata": {},
   "outputs": [],
   "source": [
    "%matplotlib inline"
   ]
  },
  {
   "cell_type": "markdown",
   "metadata": {},
   "source": [
    "# Decision Tree"
   ]
  },
  {
   "cell_type": "code",
   "execution_count": 2,
   "metadata": {},
   "outputs": [],
   "source": [
    "from time import time\n",
    "import numpy as np\n",
    "from sklearn.tree import DecisionTreeClassifier, export_graphviz\n",
    "from sklearn.ensemble import RandomForestClassifier\n",
    "from sklearn.metrics import accuracy_score, confusion_matrix, classification_report\n",
    "import matplotlib.pyplot as plt"
   ]
  },
  {
   "cell_type": "code",
   "execution_count": 3,
   "metadata": {},
   "outputs": [
    {
     "name": "stdout",
     "output_type": "stream",
     "text": [
      "X_train original shape: (6500, 28, 28)\n",
      "y_train original shape: (6500,)\n"
     ]
    }
   ],
   "source": [
    "X_raw = np.load('./data/images.npy')\n",
    "y_raw = np.load('./data/labels.npy')\n",
    "y_train = y_raw[0:3900]\n",
    "y_test = y_raw[4875:6500]\n",
    "\n",
    "print(\"X_train original shape:\", X_raw.shape)\n",
    "print(\"y_train original shape:\", y_raw.shape)"
   ]
  },
  {
   "cell_type": "code",
   "execution_count": 4,
   "metadata": {},
   "outputs": [
    {
     "data": {
      "image/png": "[encoded data removed]",
      "text/plain": [
       "<matplotlib.figure.Figure at 0x7ff140847048>"
      ]
     },
     "metadata": {},
     "output_type": "display_data"
    }
   ],
   "source": [
    "num_figures = 6\n",
    "plt.figure(figsize=(16,8))\n",
    "for i in range(num_figures):\n",
    "    plt.subplot(1,num_figures,i+1)\n",
    "    plt.imshow(X_raw[i], cmap='gray', interpolation='none')\n",
    "    plt.title(\"Class {}\".format(y_raw[i]))"
   ]
  },
  {
   "cell_type": "code",
   "execution_count": 5,
   "metadata": {},
   "outputs": [
    {
     "name": "stdout",
     "output_type": "stream",
     "text": [
      "Training matrix shape (3900, 784)\n",
      "Validation matrix shape (975, 784)\n",
      "Testing matrix shape (1625, 784)\n"
     ]
    }
   ],
   "source": [
    "X_train = X_raw[0:3900].reshape(3900, 784)\n",
    "X_valid = X_raw[3900:4875].reshape(975, 784)\n",
    "X_test = X_raw[4875:6500].reshape(1625, 784)\n",
    "\n",
    "X_train = X_train.astype('float32')\n",
    "X_valid = X_valid.astype('float32')\n",
    "X_test = X_test.astype('float32')\n",
    "X_train /= 255\n",
    "X_valid /= 255\n",
    "X_test /= 255\n",
    "print(\"Training matrix shape\", X_train.shape)\n",
    "print(\"Validation matrix shape\", X_valid.shape)\n",
    "print(\"Testing matrix shape\", X_test.shape)"
   ]
  },
  {
   "cell_type": "code",
   "execution_count": 6,
   "metadata": {},
   "outputs": [
    {
     "name": "stdout",
     "output_type": "stream",
     "text": [
      "DecisionTreeClassifier(class_weight=None, criterion='gini', max_depth=None,\n",
      "            max_features=None, max_leaf_nodes=None,\n",
      "            min_impurity_decrease=0.0, min_impurity_split=None,\n",
      "            min_samples_leaf=1, min_samples_split=2,\n",
      "            min_weight_fraction_leaf=0.0, presort=False, random_state=None,\n",
      "            splitter='best')\n",
      "Time elapsed: 0.37s\n"
     ]
    }
   ],
   "source": [
    "t0 = time()\n",
    "clf_dt = DecisionTreeClassifier()\n",
    "print(clf_dt.fit(X_train.reshape(-1,28*28), y_train))\n",
    "print('Time elapsed: %.2fs' % (time()-t0))"
   ]
  },
  {
   "cell_type": "code",
   "execution_count": 7,
   "metadata": {},
   "outputs": [
    {
     "name": "stdout",
     "output_type": "stream",
     "text": [
      "Predicted 1625 digits with accuracy: 0.7766153846153846\n"
     ]
    }
   ],
   "source": [
    "pred_dt = clf_dt.predict(X_test.reshape(-1,28*28))\n",
    "print('Predicted', len(pred_dt), 'digits with accuracy:', accuracy_score(y_test, pred_dt))"
   ]
  },
  {
   "cell_type": "code",
   "execution_count": 8,
   "metadata": {},
   "outputs": [
    {
     "name": "stdout",
     "output_type": "stream",
     "text": [
      "RandomForestClassifier(bootstrap=True, class_weight=None, criterion='gini',\n",
      "            max_depth=None, max_features='auto', max_leaf_nodes=None,\n",
      "            min_impurity_decrease=0.0, min_impurity_split=None,\n",
      "            min_samples_leaf=1, min_samples_split=2,\n",
      "            min_weight_fraction_leaf=0.0, n_estimators=10, n_jobs=1,\n",
      "            oob_score=False, random_state=None, verbose=0,\n",
      "            warm_start=False)\n",
      "Time elapsed: 0.11s\n"
     ]
    }
   ],
   "source": [
    "t0 = time()\n",
    "clf_rf = RandomForestClassifier()\n",
    "print(clf_rf.fit(X_train.reshape(-1,28*28), y_train))\n",
    "print('Time elapsed: %.2fs' % (time()-t0))"
   ]
  },
  {
   "cell_type": "code",
   "execution_count": 9,
   "metadata": {},
   "outputs": [
    {
     "name": "stdout",
     "output_type": "stream",
     "text": [
      "Predicted 1625 digits with accuracy: 0.9009230769230769\n"
     ]
    }
   ],
   "source": [
    "pred_rf = clf_rf.predict(X_test.reshape(-1,28*28))\n",
    "print('Predicted', len(pred_rf), 'digits with accuracy:', accuracy_score(y_test, pred_rf))"
   ]
  },
  {
   "cell_type": "code",
   "execution_count": 10,
   "metadata": {},
   "outputs": [],
   "source": [
    "correct_indices = np.nonzero(pred_rf == y_test)[0]\n",
    "incorrect_indices = np.nonzero(pred_rf != y_test)[0]"
   ]
  },
  {
   "cell_type": "code",
   "execution_count": 11,
   "metadata": {},
   "outputs": [
    {
     "data": {
      "image/png": "[encoded data removed]",
      "text/plain": [
       "<matplotlib.figure.Figure at 0x7ff13df731d0>"
      ]
     },
     "metadata": {},
     "output_type": "display_data"
    }
   ],
   "source": [
    "num_figures = 6\n",
    "plt.figure(figsize=(16,8))\n",
    "for i, correct in enumerate(correct_indices[:num_figures]):\n",
    "    plt.subplot(1,num_figures,i+1)\n",
    "    plt.imshow(X_test[correct].reshape(28,28), cmap='gray', interpolation='none')\n",
    "    plt.title(\"Predicted {}, Class {}\".format(pred_rf[correct], y_test[correct]))"
   ]
  },
  {
   "cell_type": "code",
   "execution_count": 12,
   "metadata": {},
   "outputs": [
    {
     "data": {
      "image/png": "[encoded data removed]",
      "text/plain": [
       "<matplotlib.figure.Figure at 0x7ff13e13a978>"
      ]
     },
     "metadata": {},
     "output_type": "display_data"
    }
   ],
   "source": [
    "num_figures = 6\n",
    "plt.figure(figsize=(16,8))\n",
    "for i, incorrect in enumerate(incorrect_indices[:num_figures]):\n",
    "    plt.subplot(1,num_figures,i+1)\n",
    "    plt.imshow(X_test[incorrect].reshape(28,28), cmap='gray', interpolation='none')\n",
    "    plt.title(\"Predicted {}, Class {}\".format(pred_rf[incorrect], y_test[incorrect]))"
   ]
  },
  {
   "cell_type": "code",
   "execution_count": null,
   "metadata": {},
   "outputs": [],
   "source": []
  }
 ],
 "metadata": {
  "kernelspec": {
   "display_name": "Python 3",
   "language": "python",
   "name": "python3"
  },
  "language_info": {
   "codemirror_mode": {
    "name": "ipython",
    "version": 3
   },
   "file_extension": ".py",
   "mimetype": "text/x-python",
   "name": "python",
   "nbconvert_exporter": "python",
   "pygments_lexer": "ipython3",
   "version": "3.5.2"
  }
 },
 "nbformat": 4,
 "nbformat_minor": 2
}
