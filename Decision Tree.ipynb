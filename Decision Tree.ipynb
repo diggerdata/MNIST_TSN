{
 "cells": [
  {
   "cell_type": "code",
   "execution_count": 1,
   "metadata": {},
   "outputs": [],
   "source": [
    "%matplotlib inline"
   ]
  },
  {
   "cell_type": "markdown",
   "metadata": {},
   "source": [
    "# Decision Tree"
   ]
  },
  {
   "cell_type": "markdown",
   "metadata": {},
   "source": [
    "## Import Dependencies"
   ]
  },
  {
   "cell_type": "code",
   "execution_count": 2,
   "metadata": {},
   "outputs": [],
   "source": [
    "from time import time\n",
    "import numpy as np\n",
    "from sklearn.tree import DecisionTreeClassifier, export_graphviz\n",
    "from sklearn.ensemble import RandomForestClassifier\n",
    "from sklearn.metrics import accuracy_score, confusion_matrix, classification_report\n",
    "import matplotlib.pyplot as plt"
   ]
  },
  {
   "cell_type": "markdown",
   "metadata": {},
   "source": [
    "## Load the Data"
   ]
  },
  {
   "cell_type": "code",
   "execution_count": 39,
   "metadata": {},
   "outputs": [
    {
     "name": "stdout",
     "output_type": "stream",
     "text": [
      "X_train original shape: (6500, 28, 28)\n",
      "y_train original shape: (6500,)\n"
     ]
    }
   ],
   "source": [
    "X_raw = np.load('./data/images.npy')\n",
    "y_raw = np.load('./data/labels.npy')\n",
    "y_train = y_raw[0:3900]\n",
    "y_valid = y_raw[3900:4875]\n",
    "y_test = y_raw[4875:6500]\n",
    "\n",
    "print(\"X_train original shape:\", X_raw.shape)\n",
    "print(\"y_train original shape:\", y_raw.shape)"
   ]
  },
  {
   "cell_type": "markdown",
   "metadata": {},
   "source": [
    "### Print Out Example Data"
   ]
  },
  {
   "cell_type": "code",
   "execution_count": 4,
   "metadata": {},
   "outputs": [
    {
     "data": {
      "image/png": "[encoded data removed]",
      "text/plain": [
       "<matplotlib.figure.Figure at 0x7fd66f91a630>"
      ]
     },
     "metadata": {},
     "output_type": "display_data"
    }
   ],
   "source": [
    "num_figures = 6\n",
    "plt.figure(figsize=(16,8))\n",
    "for i in range(num_figures):\n",
    "    plt.subplot(1,num_figures,i+1)\n",
    "    plt.imshow(X_raw[i], cmap='gray', interpolation='none')\n",
    "    plt.title(\"Class {}\".format(y_raw[i]))"
   ]
  },
  {
   "cell_type": "markdown",
   "metadata": {},
   "source": [
    "## Reshape The Data"
   ]
  },
  {
   "cell_type": "code",
   "execution_count": 5,
   "metadata": {},
   "outputs": [
    {
     "name": "stdout",
     "output_type": "stream",
     "text": [
      "Training matrix shape (3900, 784)\n",
      "Validation matrix shape (975, 784)\n",
      "Testing matrix shape (1625, 784)\n"
     ]
    }
   ],
   "source": [
    "X_train = X_raw[0:3900].reshape(3900, 784)\n",
    "X_valid = X_raw[3900:4875].reshape(975, 784)\n",
    "X_test = X_raw[4875:6500].reshape(1625, 784)\n",
    "\n",
    "X_train = X_train.astype('float32')\n",
    "X_valid = X_valid.astype('float32')\n",
    "X_test = X_test.astype('float32')\n",
    "X_train /= 255\n",
    "X_valid /= 255\n",
    "X_test /= 255\n",
    "print(\"Training matrix shape\", X_train.shape)\n",
    "print(\"Validation matrix shape\", X_valid.shape)\n",
    "print(\"Testing matrix shape\", X_test.shape)"
   ]
  },
  {
   "cell_type": "markdown",
   "metadata": {},
   "source": [
    "## Decision Tree Classifier\n",
    "TODO: Add some parameters and graph for each."
   ]
  },
  {
   "cell_type": "code",
   "execution_count": 6,
   "metadata": {},
   "outputs": [
    {
     "name": "stdout",
     "output_type": "stream",
     "text": [
      "DecisionTreeClassifier(class_weight=None, criterion='gini', max_depth=None,\n",
      "            max_features=None, max_leaf_nodes=None,\n",
      "            min_impurity_decrease=0.0, min_impurity_split=None,\n",
      "            min_samples_leaf=1, min_samples_split=2,\n",
      "            min_weight_fraction_leaf=0.0, presort=False, random_state=None,\n",
      "            splitter='best')\n",
      "Time elapsed: 0.37s\n"
     ]
    }
   ],
   "source": [
    "t0 = time()\n",
    "clf_dt = DecisionTreeClassifier()\n",
    "print(clf_dt.fit(X_train.reshape(-1,28*28), y_train))\n",
    "print('Time elapsed: %.2fs' % (time()-t0))"
   ]
  },
  {
   "cell_type": "markdown",
   "metadata": {},
   "source": [
    "## Feature Heatmap"
   ]
  },
  {
   "cell_type": "code",
   "execution_count": 16,
   "metadata": {},
   "outputs": [
    {
     "data": {
      "text/plain": [
       "<matplotlib.image.AxesImage at 0x7fd66b95ba20>"
      ]
     },
     "execution_count": 16,
     "metadata": {},
     "output_type": "execute_result"
    },
    {
     "data": {
      "image/png": "[encoded data removed]",
      "text/plain": [
       "<matplotlib.figure.Figure at 0x7fd66ba0c4a8>"
      ]
     },
     "metadata": {},
     "output_type": "display_data"
    }
   ],
   "source": [
    "importances = clf_dt.feature_importances_\n",
    "indices = np.argsort(importances)[::-1]\n",
    "heat = importances.reshape(28,28)\n",
    "plt.figure(figsize=(5,5))\n",
    "plt.imshow(heat, cmap='hot', interpolation='nearest')\n",
    "# plt.colorbar()"
   ]
  },
  {
   "cell_type": "markdown",
   "metadata": {},
   "source": [
    "## Run Prediction of Data"
   ]
  },
  {
   "cell_type": "code",
   "execution_count": 7,
   "metadata": {},
   "outputs": [
    {
     "name": "stdout",
     "output_type": "stream",
     "text": [
      "Predicted 1625 digits with accuracy: 0.7698461538461538\n"
     ]
    }
   ],
   "source": [
    "pred_dt = clf_dt.predict(X_test.reshape(-1,28*28))\n",
    "print('Predicted', len(pred_dt), 'digits with accuracy:', accuracy_score(y_test, pred_dt))"
   ]
  },
  {
   "cell_type": "code",
   "execution_count": 8,
   "metadata": {},
   "outputs": [],
   "source": [
    "correct_indices = np.nonzero(pred_dt == y_test)[0]\n",
    "incorrect_indices = np.nonzero(pred_dt != y_test)[0]"
   ]
  },
  {
   "cell_type": "markdown",
   "metadata": {},
   "source": [
    "## Display Correct Prediction Examples"
   ]
  },
  {
   "cell_type": "code",
   "execution_count": 9,
   "metadata": {},
   "outputs": [
    {
     "data": {
      "image/png": "[encoded data removed]",
      "text/plain": [
       "<matplotlib.figure.Figure at 0x7feada0b06a0>"
      ]
     },
     "metadata": {},
     "output_type": "display_data"
    }
   ],
   "source": [
    "num_figures = 6\n",
    "plt.figure(figsize=(16,8))\n",
    "for i, correct in enumerate(correct_indices[:num_figures]):\n",
    "    plt.subplot(1,num_figures,i+1)\n",
    "    plt.imshow(X_test[correct].reshape(28,28), cmap='gray', interpolation='none')\n",
    "    plt.title(\"Predicted {}, Class {}\".format(pred_dt[correct], y_test[correct]))"
   ]
  },
  {
   "cell_type": "markdown",
   "metadata": {},
   "source": [
    "## Display Incorrect Prediction Examples"
   ]
  },
  {
   "cell_type": "code",
   "execution_count": 10,
   "metadata": {},
   "outputs": [
    {
     "data": {
      "image/png": "[encoded data removed]",
      "text/plain": [
       "<matplotlib.figure.Figure at 0x7feacd363438>"
      ]
     },
     "metadata": {},
     "output_type": "display_data"
    }
   ],
   "source": [
    "num_figures = 6\n",
    "plt.figure(figsize=(16,8))\n",
    "for i, incorrect in enumerate(incorrect_indices[:num_figures]):\n",
    "    plt.subplot(1,num_figures,i+1)\n",
    "    plt.imshow(X_test[incorrect].reshape(28,28), cmap='gray', interpolation='none')\n",
    "    plt.title(\"Predicted {}, Class {}\".format(pred_dt[incorrect], y_test[incorrect]))"
   ]
  },
  {
   "cell_type": "markdown",
   "metadata": {},
   "source": [
    "## Evaluation of Incorrect Prediction\n",
    "\n",
    "Compared to the ANN, the decision tree classifier was less accurate and made some more obvious mistakes. It struggled often to identify major features that are similar between two numbers, as example six shows. The algorithm saw the top of the '7' as a downward curve and misinterpreted it as the top of the number '4'. It appears that the Decision Tree algorithm was worse at identifying the general shapes of a lot of numbers if they didn't fit closely to the general style of writing the number, as shown in the first two examples, where the '8' is more slanted and has a gap at the top, and the '0' has a line down the center. "
   ]
  },
  {
   "cell_type": "markdown",
   "metadata": {},
   "source": [
    "# Decision Trees with Different Depths"
   ]
  },
  {
   "cell_type": "code",
   "execution_count": 40,
   "metadata": {
    "scrolled": true
   },
   "outputs": [
    {
     "name": "stdout",
     "output_type": "stream",
     "text": [
      "Episode: 1/100\n",
      "Episode: 2/100\n",
      "Episode: 3/100\n",
      "Episode: 4/100\n",
      "Episode: 5/100\n",
      "Episode: 6/100\n",
      "Episode: 7/100\n",
      "Episode: 8/100\n",
      "Episode: 9/100\n",
      "Episode: 10/100\n",
      "Episode: 11/100\n",
      "Episode: 12/100\n",
      "Episode: 13/100\n",
      "Episode: 14/100\n",
      "Episode: 15/100\n",
      "Episode: 16/100\n",
      "Episode: 17/100\n",
      "Episode: 18/100\n",
      "Episode: 19/100\n",
      "Episode: 20/100\n",
      "Episode: 21/100\n",
      "Episode: 22/100\n",
      "Episode: 23/100\n",
      "Episode: 24/100\n",
      "Episode: 25/100\n",
      "Episode: 26/100\n",
      "Episode: 27/100\n",
      "Episode: 28/100\n",
      "Episode: 29/100\n",
      "Episode: 30/100\n",
      "Episode: 31/100\n",
      "Episode: 32/100\n",
      "Episode: 33/100\n",
      "Episode: 34/100\n",
      "Episode: 35/100\n",
      "Episode: 36/100\n",
      "Episode: 37/100\n",
      "Episode: 38/100\n",
      "Episode: 39/100\n",
      "Episode: 40/100\n",
      "Episode: 41/100\n",
      "Episode: 42/100\n",
      "Episode: 43/100\n",
      "Episode: 44/100\n",
      "Episode: 45/100\n",
      "Episode: 46/100\n",
      "Episode: 47/100\n",
      "Episode: 48/100\n",
      "Episode: 49/100\n",
      "Episode: 50/100\n",
      "Episode: 51/100\n",
      "Episode: 52/100\n",
      "Episode: 53/100\n",
      "Episode: 54/100\n",
      "Episode: 55/100\n",
      "Episode: 56/100\n",
      "Episode: 57/100\n",
      "Episode: 58/100\n",
      "Episode: 59/100\n",
      "Episode: 60/100\n",
      "Episode: 61/100\n",
      "Episode: 62/100\n",
      "Episode: 63/100\n",
      "Episode: 64/100\n",
      "Episode: 65/100\n",
      "Episode: 66/100\n",
      "Episode: 67/100\n",
      "Episode: 68/100\n",
      "Episode: 69/100\n",
      "Episode: 70/100\n",
      "Episode: 71/100\n",
      "Episode: 72/100\n",
      "Episode: 73/100\n",
      "Episode: 74/100\n",
      "Episode: 75/100\n",
      "Episode: 76/100\n",
      "Episode: 77/100\n",
      "Episode: 78/100\n",
      "Episode: 79/100\n",
      "Episode: 80/100\n",
      "Episode: 81/100\n",
      "Episode: 82/100\n",
      "Episode: 83/100\n",
      "Episode: 84/100\n",
      "Episode: 85/100\n",
      "Episode: 86/100\n",
      "Episode: 87/100\n",
      "Episode: 88/100\n",
      "Episode: 89/100\n",
      "Episode: 90/100\n",
      "Episode: 91/100\n",
      "Episode: 92/100\n",
      "Episode: 93/100\n",
      "Episode: 94/100\n",
      "Episode: 95/100\n",
      "Episode: 96/100\n",
      "Episode: 97/100\n",
      "Episode: 98/100\n",
      "Episode: 99/100\n",
      "DecisionTreeClassifier(class_weight=None, criterion='gini', max_depth=99,\n",
      "            max_features=None, max_leaf_nodes=None,\n",
      "            min_impurity_decrease=0.0, min_impurity_split=None,\n",
      "            min_samples_leaf=1, min_samples_split=2,\n",
      "            min_weight_fraction_leaf=0.0, presort=False, random_state=None,\n",
      "            splitter='best')\n",
      "Time elapsed: 35.96s\n"
     ]
    }
   ],
   "source": [
    "test_accuracy = []\n",
    "valid_accuracy = []\n",
    "t0 = time()\n",
    "depth_range = 100\n",
    "for i in range(1, depth_range):\n",
    "    clf_dt = DecisionTreeClassifier(max_depth=i)\n",
    "    clf_dt.fit(X_train.reshape(-1,28*28), y_train)\n",
    "    test_pred_dt = clf_dt.predict(X_test.reshape(-1,28*28))\n",
    "    valid_pred_dt = clf_dt.predict(X_valid.reshape(-1,28*28))\n",
    "    test_accuracy.append(accuracy_score(y_test, test_pred_dt))\n",
    "    valid_accuracy.append(accuracy_score(y_valid, valid_pred_dt))\n",
    "    print('Episode: {}/{}'.format(i,depth_range))\n",
    "print(clf_dt.fit(X_train.reshape(-1,28*28), y_train))\n",
    "print('Time elapsed: %.2fs' % (time()-t0))"
   ]
  },
  {
   "cell_type": "code",
   "execution_count": 45,
   "metadata": {},
   "outputs": [
    {
     "data": {
      "image/png": "[encoded data removed]",
      "text/plain": [
       "<matplotlib.figure.Figure at 0x7fd66f609c88>"
      ]
     },
     "metadata": {},
     "output_type": "display_data"
    },
    {
     "name": "stdout",
     "output_type": "stream",
     "text": [
      "Highest test accuracy: 0.788923076923077 with depth of 49\n",
      "Highest validation accuracy: 0.7856410256410257 with depth of 19\n"
     ]
    }
   ],
   "source": [
    "plt.figure(figsize=(6,6))\n",
    "plt.title('Accuracy vs. Depth')\n",
    "plt.xlabel('Depth')\n",
    "plt.ylabel('Accuracy')\n",
    "plt.plot(test_accuracy)\n",
    "plt.plot(valid_accuracy)\n",
    "plt.legend(['Test', 'Validation'])\n",
    "plt.show()\n",
    "\n",
    "print('Highest test accuracy: {} with depth of {}'.format(max(test_accuracy), test_accuracy.index(max(test_accuracy))+1))\n",
    "print('Highest validation accuracy: {} with depth of {}'.format(max(valid_accuracy), valid_accuracy.index(max(valid_accuracy))+1))"
   ]
  },
  {
   "cell_type": "markdown",
   "metadata": {},
   "source": [
    "# Random Forest Classifier"
   ]
  },
  {
   "cell_type": "code",
   "execution_count": 11,
   "metadata": {},
   "outputs": [
    {
     "name": "stdout",
     "output_type": "stream",
     "text": [
      "RandomForestClassifier(bootstrap=True, class_weight=None, criterion='gini',\n",
      "            max_depth=None, max_features='auto', max_leaf_nodes=None,\n",
      "            min_impurity_decrease=0.0, min_impurity_split=None,\n",
      "            min_samples_leaf=1, min_samples_split=2,\n",
      "            min_weight_fraction_leaf=0.0, n_estimators=10, n_jobs=1,\n",
      "            oob_score=False, random_state=None, verbose=0,\n",
      "            warm_start=False)\n",
      "Time elapsed: 0.11s\n"
     ]
    }
   ],
   "source": [
    "t0 = time()\n",
    "clf_rf = RandomForestClassifier()\n",
    "print(clf_rf.fit(X_train.reshape(-1,28*28), y_train))\n",
    "print('Time elapsed: %.2fs' % (time()-t0))"
   ]
  },
  {
   "cell_type": "code",
   "execution_count": 12,
   "metadata": {},
   "outputs": [
    {
     "name": "stdout",
     "output_type": "stream",
     "text": [
      "Predicted 1625 digits with accuracy: 0.8953846153846153\n"
     ]
    }
   ],
   "source": [
    "pred_rf = clf_rf.predict(X_test.reshape(-1,28*28))\n",
    "print('Predicted', len(pred_rf), 'digits with accuracy:', accuracy_score(y_test, pred_rf))"
   ]
  },
  {
   "cell_type": "code",
   "execution_count": 13,
   "metadata": {},
   "outputs": [],
   "source": [
    "correct_indices = np.nonzero(pred_rf == y_test)[0]\n",
    "incorrect_indices = np.nonzero(pred_rf != y_test)[0]"
   ]
  },
  {
   "cell_type": "code",
   "execution_count": 14,
   "metadata": {},
   "outputs": [
    {
     "data": {
      "image/png": "[encoded data removed]",
      "text/plain": [
       "<matplotlib.figure.Figure at 0x7feacd49da20>"
      ]
     },
     "metadata": {},
     "output_type": "display_data"
    }
   ],
   "source": [
    "num_figures = 6\n",
    "plt.figure(figsize=(16,8))\n",
    "for i, correct in enumerate(correct_indices[:num_figures]):\n",
    "    plt.subplot(1,num_figures,i+1)\n",
    "    plt.imshow(X_test[correct].reshape(28,28), cmap='gray', interpolation='none')\n",
    "    plt.title(\"Predicted {}, Class {}\".format(pred_rf[correct], y_test[correct]))"
   ]
  },
  {
   "cell_type": "code",
   "execution_count": 15,
   "metadata": {},
   "outputs": [
    {
     "data": {
      "image/png": "[encoded data removed]",
      "text/plain": [
       "<matplotlib.figure.Figure at 0x7feacd4a8c18>"
      ]
     },
     "metadata": {},
     "output_type": "display_data"
    }
   ],
   "source": [
    "num_figures = 6\n",
    "plt.figure(figsize=(16,8))\n",
    "for i, incorrect in enumerate(incorrect_indices[:num_figures]):\n",
    "    plt.subplot(1,num_figures,i+1)\n",
    "    plt.imshow(X_test[incorrect].reshape(28,28), cmap='gray', interpolation='none')\n",
    "    plt.title(\"Predicted {}, Class {}\".format(pred_rf[incorrect], y_test[incorrect]))"
   ]
  },
  {
   "cell_type": "markdown",
   "metadata": {},
   "source": [
    "## Evaluation of Incorrect Random Forest Prediction\n",
    "\n",
    "Though the random forest classifier was more accurate than the decision tree classifier, it still struggled to identify some basic features, more commonly the identification of curves as shown in the examples. This algorithm struggled especially with the number '9' both in terms of correctly identifying 9's as well as incorrectly labelling other numbers as 9's. A possible reason could be how it interpreted the length and angle of the curves in some numbers and leading it to false conclusions. "
   ]
  }
 ],
 "metadata": {
  "kernelspec": {
   "display_name": "Python 3",
   "language": "python",
   "name": "python3"
  },
  "language_info": {
   "codemirror_mode": {
    "name": "ipython",
    "version": 3
   },
   "file_extension": ".py",
   "mimetype": "text/x-python",
   "name": "python",
   "nbconvert_exporter": "python",
   "pygments_lexer": "ipython3",
   "version": "3.5.2"
  }
 },
 "nbformat": 4,
 "nbformat_minor": 2
}
