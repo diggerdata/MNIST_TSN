{
 "cells": [
  {
   "cell_type": "code",
   "execution_count": 1,
   "metadata": {},
   "outputs": [],
   "source": [
    "%matplotlib inline"
   ]
  },
  {
   "cell_type": "markdown",
   "metadata": {},
   "source": [
    "# Decision Tree Classifier\n",
    "The decision tree algorithm that employs a tree of decisions to classify an input. Each node of the tree corresponds to a feature that gives insight as to what classification the input could or could not be. Multiple features are thus used to differentiate inputs. For our dataset, the model is trained by examining how combinations of features relate to the known classification of an input. The best depth for our tree was at depth 69 with a test accuracy of 78.8%."
   ]
  },
  {
   "cell_type": "markdown",
   "metadata": {},
   "source": [
    "## Import Dependencies\n",
    "We start by importing the dependencies."
   ]
  },
  {
   "cell_type": "code",
   "execution_count": 10,
   "metadata": {},
   "outputs": [],
   "source": [
    "from time import time\n",
    "import numpy as np\n",
    "from sklearn.tree import DecisionTreeClassifier, export_graphviz\n",
    "from sklearn.ensemble import RandomForestClassifier\n",
    "from sklearn.metrics import accuracy_score, confusion_matrix, classification_report\n",
    "from scipy import ndimage\n",
    "import matplotlib.pyplot as plt"
   ]
  },
  {
   "cell_type": "markdown",
   "metadata": {},
   "source": [
    "## Load the Data\n",
    "Here we load the data from *images.npy* and *labels.npy* and print the shape of each."
   ]
  },
  {
   "cell_type": "code",
   "execution_count": 3,
   "metadata": {},
   "outputs": [
    {
     "name": "stdout",
     "output_type": "stream",
     "text": [
      "X_train original shape: (6500, 28, 28)\n",
      "y_train original shape: (6500,)\n"
     ]
    }
   ],
   "source": [
    "# Load the image and label data\n",
    "X_raw = np.load('./data/images.npy')\n",
    "y_raw = np.load('./data/labels.npy')\n",
    "\n",
    "# Print the shape of each\n",
    "print(\"X_train original shape:\", X_raw.shape)\n",
    "print(\"y_train original shape:\", y_raw.shape)"
   ]
  },
  {
   "cell_type": "markdown",
   "metadata": {},
   "source": [
    "## Print Out Example Data\n",
    "Using Matplotlib we display 6 examples of the raw images given to us and the classes they are associated with."
   ]
  },
  {
   "cell_type": "code",
   "execution_count": 4,
   "metadata": {},
   "outputs": [
    {
     "data": {
      "image/png": "[encoded data removed]",
      "text/plain": [
       "<matplotlib.figure.Figure at 0x7f95844095f8>"
      ]
     },
     "metadata": {},
     "output_type": "display_data"
    }
   ],
   "source": [
    "# Plot the first 6 images given\n",
    "num_figures = 6\n",
    "plt.figure(figsize=(16,8))\n",
    "for i in range(num_figures):\n",
    "    plt.subplot(1,num_figures,i+1)\n",
    "    plt.imshow(X_raw[i], cmap='gray', interpolation='none')\n",
    "    plt.title(\"Class {}\".format(y_raw[i]))"
   ]
  },
  {
   "cell_type": "markdown",
   "metadata": {},
   "source": [
    "## Reshape The Data\n",
    "We begin by reshaping the raw data given to us in a *6500x28x28* array into three classes:\n",
    "* **X_train** - The training set which is composed of 60%, or 3900 images, of the raw image data.\n",
    "* **X_valid** - The validation set which is composed of 15%, or 975 images, of the raw image data.\n",
    "* **X_test** - The test set which is composed of 25%, or 1625 images, of the raw image data.\n",
    "\n",
    "For each of these sets, we reshape the *28x28* images into a *1x784* array."
   ]
  },
  {
   "cell_type": "code",
   "execution_count": 5,
   "metadata": {},
   "outputs": [
    {
     "name": "stdout",
     "output_type": "stream",
     "text": [
      "Training matrix shape (3900, 784)\n",
      "Validation matrix shape (975, 784)\n",
      "Testing matrix shape (1625, 784)\n"
     ]
    }
   ],
   "source": [
    "# Split and reshape the images into test, validation, and test sets\n",
    "X_train = X_raw[0:3900].reshape(3900, 784)\n",
    "X_valid = X_raw[3900:4875].reshape(975, 784)\n",
    "X_test = X_raw[4875:6500].reshape(1625, 784)\n",
    "\n",
    "# Split the labels into test, validation, and test sets\n",
    "y_train = y_raw[0:3900]\n",
    "y_valid = y_raw[3900:4875]\n",
    "y_test = y_raw[4875:6500]\n",
    "\n",
    "# Reformat the images from 0-255 integers to 0-1 floats\n",
    "X_train = X_train.astype('float32')\n",
    "X_valid = X_valid.astype('float32')\n",
    "X_test = X_test.astype('float32')\n",
    "X_train /= 255\n",
    "X_valid /= 255\n",
    "X_test /= 255\n",
    "\n",
    "# Print the shape of the new images\n",
    "print(\"Training matrix shape\", X_train.shape)\n",
    "print(\"Validation matrix shape\", X_valid.shape)\n",
    "print(\"Testing matrix shape\", X_test.shape)"
   ]
  },
  {
   "cell_type": "markdown",
   "metadata": {},
   "source": [
    "## Default Decision Tree Classifier\n",
    "Here we setup the decision tree classifier and fit it to the *X_train* and *y_train* datasets. For this first test we use the default properties. For this classifier we used the default settings; Gini for split quality measurement, Best for node split strategy, and no max depth. "
   ]
  },
  {
   "cell_type": "code",
   "execution_count": 6,
   "metadata": {},
   "outputs": [
    {
     "name": "stdout",
     "output_type": "stream",
     "text": [
      "Time elapsed: 0.48s\n"
     ]
    }
   ],
   "source": [
    "t0 = time()\n",
    "clf_dt = DecisionTreeClassifier()\n",
    "clf_dt.fit(X_train.reshape(-1,28*28), y_train)\n",
    "print('Time elapsed: %.2fs' % (time()-t0))"
   ]
  },
  {
   "cell_type": "markdown",
   "metadata": {},
   "source": [
    "### Run the Prediction\n",
    "We now run the trained tree through the test sets and get the prediction accuracy. "
   ]
  },
  {
   "cell_type": "code",
   "execution_count": 7,
   "metadata": {},
   "outputs": [
    {
     "name": "stdout",
     "output_type": "stream",
     "text": [
      "Predicted 1625 digits with accuracy: 0.7741538461538462\n"
     ]
    }
   ],
   "source": [
    "pred_dt = clf_dt.predict(X_test.reshape(-1,28*28))\n",
    "print('Predicted', len(pred_dt), 'digits with accuracy:', accuracy_score(y_test, pred_dt))"
   ]
  },
  {
   "cell_type": "markdown",
   "metadata": {},
   "source": [
    "### Default Confusion Matrix\n",
    "Plotting the confusion matrix of the prediction gives us the following graphic."
   ]
  },
  {
   "cell_type": "code",
   "execution_count": 8,
   "metadata": {},
   "outputs": [
    {
     "data": {
      "text/plain": [
       "Text(0.5,1,'Confusion Matrix w/ Default Params')"
      ]
     },
     "execution_count": 8,
     "metadata": {},
     "output_type": "execute_result"
    },
    {
     "data": {
      "image/png": "[encoded data removed]",
      "text/plain": [
       "<matplotlib.figure.Figure at 0x7f9581bca0b8>"
      ]
     },
     "metadata": {},
     "output_type": "display_data"
    }
   ],
   "source": [
    "cnf_matrix_dt = confusion_matrix(y_test,pred_dt)\n",
    "plt.figure(figsize=(5,5))\n",
    "plt.imshow(cnf_matrix_dt, cmap='plasma')\n",
    "plt.colorbar()\n",
    "plt.title(\"Confusion Matrix w/ Default Params\")"
   ]
  },
  {
   "cell_type": "markdown",
   "metadata": {},
   "source": [
    "### Default Precision-Recall\n",
    "Here we have the precision-recall report for each of the classes."
   ]
  },
  {
   "cell_type": "code",
   "execution_count": 11,
   "metadata": {},
   "outputs": [
    {
     "name": "stdout",
     "output_type": "stream",
     "text": [
      "             precision    recall  f1-score   support\n",
      "\n",
      "          0       0.89      0.86      0.87       159\n",
      "          1       0.85      0.88      0.86       168\n",
      "          2       0.71      0.70      0.70       177\n",
      "          3       0.74      0.72      0.73       156\n",
      "          4       0.76      0.80      0.78       162\n",
      "          5       0.70      0.69      0.69       146\n",
      "          6       0.86      0.80      0.83       190\n",
      "          7       0.85      0.83      0.84       178\n",
      "          8       0.64      0.68      0.66       132\n",
      "          9       0.70      0.76      0.73       157\n",
      "\n",
      "avg / total       0.78      0.77      0.77      1625\n",
      "\n"
     ]
    }
   ],
   "source": [
    "print(classification_report(y_test, pred_dt))"
   ]
  },
  {
   "cell_type": "markdown",
   "metadata": {},
   "source": [
    "### Display Prediction Examples\n",
    "First, we add indicies of correct and incorrectly predicted classes to arrays."
   ]
  },
  {
   "cell_type": "code",
   "execution_count": 12,
   "metadata": {},
   "outputs": [],
   "source": [
    "correct_indices = np.nonzero(pred_dt == y_test)[0]\n",
    "incorrect_indices = np.nonzero(pred_dt != y_test)[0]"
   ]
  },
  {
   "cell_type": "markdown",
   "metadata": {},
   "source": [
    "#### Correctly Predicted Classes\n",
    "Next, we plot the first 6 examples of correctly predicted classes."
   ]
  },
  {
   "cell_type": "code",
   "execution_count": 13,
   "metadata": {},
   "outputs": [
    {
     "data": {
      "image/png": "[encoded data removed]",
      "text/plain": [
       "<matplotlib.figure.Figure at 0x7f9581bc5a20>"
      ]
     },
     "metadata": {},
     "output_type": "display_data"
    }
   ],
   "source": [
    "num_figures = 6\n",
    "plt.figure(figsize=(16,8))\n",
    "for i, correct in enumerate(correct_indices[:num_figures]):\n",
    "    plt.subplot(1,num_figures,i+1)\n",
    "    plt.imshow(X_test[correct].reshape(28,28), cmap='gray', interpolation='none')\n",
    "    plt.title(\"Predicted {}, Class {}\".format(pred_dt[correct], y_test[correct]))"
   ]
  },
  {
   "cell_type": "markdown",
   "metadata": {},
   "source": [
    "#### Incorrectly Predicted Classes\n",
    "The following are examples of incorrectly predicted classes."
   ]
  },
  {
   "cell_type": "code",
   "execution_count": 14,
   "metadata": {},
   "outputs": [
    {
     "data": {
      "image/png": "[encoded data removed]",
      "text/plain": [
       "<matplotlib.figure.Figure at 0x7f9581bcab00>"
      ]
     },
     "metadata": {},
     "output_type": "display_data"
    }
   ],
   "source": [
    "num_figures = 6\n",
    "plt.figure(figsize=(16,8))\n",
    "for i, incorrect in enumerate(incorrect_indices[:num_figures]):\n",
    "    plt.subplot(1,num_figures,i+1)\n",
    "    plt.imshow(X_test[incorrect].reshape(28,28), cmap='gray', interpolation='none')\n",
    "    plt.title(\"Predicted {}, Class {}\".format(pred_dt[incorrect], y_test[incorrect]))"
   ]
  },
  {
   "cell_type": "markdown",
   "metadata": {},
   "source": [
    "### Evaluation of Incorrect Prediction\n",
    "\n",
    "Compared to the ANN, the decision tree classifier was less accurate and made some more obvious mistakes. It struggled often to identify major features that are similar between two numbers, as example six shows. The algorithm saw the top of the '7' as a downward curve and misinterpreted it as the top of the number '4'. It appears that the Decision Tree algorithm was worse at identifying the general shapes of a lot of numbers if they didn't fit closely to the general style of writing the number, as shown in the first two examples, where the '8' is more slanted and has a gap at the top, and the '0' has a line down the center. "
   ]
  },
  {
   "cell_type": "markdown",
   "metadata": {},
   "source": [
    "## Decision Tree Classifier with Different Depths"
   ]
  },
  {
   "cell_type": "code",
   "execution_count": 15,
   "metadata": {
    "scrolled": true
   },
   "outputs": [
    {
     "name": "stdout",
     "output_type": "stream",
     "text": [
      "Depth: 1/100 and took 0.07s\n",
      "Depth: 2/100 and took 0.10s\n",
      "Depth: 3/100 and took 0.15s\n",
      "Depth: 4/100 and took 0.18s\n",
      "Depth: 5/100 and took 0.23s\n",
      "Depth: 6/100 and took 0.26s\n",
      "Depth: 7/100 and took 0.33s\n",
      "Depth: 8/100 and took 0.34s\n",
      "Depth: 9/100 and took 0.36s\n",
      "Depth: 10/100 and took 0.39s\n",
      "Depth: 11/100 and took 0.41s\n",
      "Depth: 12/100 and took 0.43s\n",
      "Depth: 13/100 and took 0.44s\n",
      "Depth: 14/100 and took 0.45s\n",
      "Depth: 15/100 and took 0.46s\n",
      "Depth: 16/100 and took 0.45s\n",
      "Depth: 17/100 and took 0.45s\n",
      "Depth: 18/100 and took 0.47s\n",
      "Depth: 19/100 and took 0.46s\n",
      "Depth: 20/100 and took 0.46s\n",
      "Depth: 21/100 and took 0.46s\n",
      "Depth: 22/100 and took 0.47s\n",
      "Depth: 23/100 and took 0.46s\n",
      "Depth: 24/100 and took 0.46s\n",
      "Depth: 25/100 and took 0.47s\n",
      "Depth: 26/100 and took 0.47s\n",
      "Depth: 27/100 and took 0.46s\n",
      "Depth: 28/100 and took 0.45s\n",
      "Depth: 29/100 and took 0.46s\n",
      "Depth: 30/100 and took 0.45s\n",
      "Depth: 31/100 and took 0.47s\n",
      "Depth: 32/100 and took 0.47s\n",
      "Depth: 33/100 and took 0.47s\n",
      "Depth: 34/100 and took 0.45s\n",
      "Depth: 35/100 and took 0.46s\n",
      "Depth: 36/100 and took 0.45s\n",
      "Depth: 37/100 and took 0.45s\n",
      "Depth: 38/100 and took 0.45s\n",
      "Depth: 39/100 and took 0.45s\n",
      "Depth: 40/100 and took 0.46s\n",
      "Depth: 41/100 and took 0.46s\n",
      "Depth: 42/100 and took 0.45s\n",
      "Depth: 43/100 and took 0.45s\n",
      "Depth: 44/100 and took 0.45s\n",
      "Depth: 45/100 and took 0.45s\n",
      "Depth: 46/100 and took 0.45s\n",
      "Depth: 47/100 and took 0.46s\n",
      "Depth: 48/100 and took 0.45s\n",
      "Depth: 49/100 and took 0.45s\n",
      "Depth: 50/100 and took 0.45s\n",
      "Depth: 51/100 and took 0.45s\n",
      "Depth: 52/100 and took 0.45s\n",
      "Depth: 53/100 and took 0.45s\n",
      "Depth: 54/100 and took 0.46s\n",
      "Depth: 55/100 and took 0.46s\n",
      "Depth: 56/100 and took 0.45s\n",
      "Depth: 57/100 and took 0.47s\n",
      "Depth: 58/100 and took 0.46s\n",
      "Depth: 59/100 and took 0.45s\n",
      "Depth: 60/100 and took 0.45s\n",
      "Depth: 61/100 and took 0.45s\n",
      "Depth: 62/100 and took 0.45s\n",
      "Depth: 63/100 and took 0.45s\n",
      "Depth: 64/100 and took 0.45s\n",
      "Depth: 65/100 and took 0.45s\n",
      "Depth: 66/100 and took 0.45s\n",
      "Depth: 67/100 and took 0.45s\n",
      "Depth: 68/100 and took 0.45s\n",
      "Depth: 69/100 and took 0.45s\n",
      "Depth: 70/100 and took 0.45s\n",
      "Depth: 71/100 and took 0.48s\n",
      "Depth: 72/100 and took 0.45s\n",
      "Depth: 73/100 and took 0.45s\n",
      "Depth: 74/100 and took 0.45s\n",
      "Depth: 75/100 and took 0.46s\n",
      "Depth: 76/100 and took 0.47s\n",
      "Depth: 77/100 and took 0.46s\n",
      "Depth: 78/100 and took 0.45s\n",
      "Depth: 79/100 and took 0.45s\n",
      "Depth: 80/100 and took 0.45s\n",
      "Depth: 81/100 and took 0.45s\n",
      "Depth: 82/100 and took 0.45s\n",
      "Depth: 83/100 and took 0.46s\n",
      "Depth: 84/100 and took 0.46s\n",
      "Depth: 85/100 and took 0.48s\n",
      "Depth: 86/100 and took 0.53s\n",
      "Depth: 87/100 and took 0.61s\n",
      "Depth: 88/100 and took 0.57s\n",
      "Depth: 89/100 and took 0.50s\n",
      "Depth: 90/100 and took 0.52s\n",
      "Depth: 91/100 and took 0.51s\n",
      "Depth: 92/100 and took 0.45s\n",
      "Depth: 93/100 and took 0.56s\n",
      "Depth: 94/100 and took 0.54s\n",
      "Depth: 95/100 and took 0.46s\n",
      "Depth: 96/100 and took 0.46s\n",
      "Depth: 97/100 and took 0.45s\n",
      "Depth: 98/100 and took 0.45s\n",
      "Depth: 99/100 and took 0.45s\n",
      "DecisionTreeClassifier(class_weight=None, criterion='gini', max_depth=99,\n",
      "            max_features=None, max_leaf_nodes=None,\n",
      "            min_impurity_decrease=0.0, min_impurity_split=None,\n",
      "            min_samples_leaf=1, min_samples_split=2,\n",
      "            min_weight_fraction_leaf=0.0, presort=False, random_state=None,\n",
      "            splitter='best')\n",
      "Time elapsed: 44.16s\n"
     ]
    }
   ],
   "source": [
    "test_accuracy = []\n",
    "valid_accuracy = []\n",
    "t0 = time()\n",
    "depth_range = 100\n",
    "for i in range(1, depth_range):\n",
    "    ti = time()\n",
    "    clf_dt_depth = DecisionTreeClassifier(max_depth=i)\n",
    "    clf_dt_depth.fit(X_train.reshape(-1,28*28), y_train)\n",
    "    test_pred_dt = clf_dt_depth.predict(X_test.reshape(-1,28*28))\n",
    "    valid_pred_dt = clf_dt_depth.predict(X_valid.reshape(-1,28*28))\n",
    "    test_accuracy.append(accuracy_score(y_test, test_pred_dt))\n",
    "    valid_accuracy.append(accuracy_score(y_valid, valid_pred_dt))\n",
    "    print('Depth: {}/{} and took %.2fs'.format(i,depth_range) % (time()-ti))\n",
    "print(clf_dt_depth.fit(X_train.reshape(-1,28*28), y_train))\n",
    "print('Time elapsed: %.2fs' % (time()-t0))"
   ]
  },
  {
   "cell_type": "markdown",
   "metadata": {},
   "source": [
    "### Plot the Accuracy"
   ]
  },
  {
   "cell_type": "code",
   "execution_count": 16,
   "metadata": {
    "scrolled": false
   },
   "outputs": [
    {
     "data": {
      "image/png": "[encoded data removed]",
      "text/plain": [
       "<matplotlib.figure.Figure at 0x7f9581ca71d0>"
      ]
     },
     "metadata": {},
     "output_type": "display_data"
    }
   ],
   "source": [
    "plt.figure(figsize=(14,6))\n",
    "plt.title('Accuracy vs. Depth')\n",
    "plt.xlabel('Depth')\n",
    "plt.ylabel('Accuracy')\n",
    "plt.plot(test_accuracy)\n",
    "plt.plot(valid_accuracy)\n",
    "plt.legend(['Test', 'Validation'])\n",
    "plt.show()"
   ]
  },
  {
   "cell_type": "code",
   "execution_count": 17,
   "metadata": {},
   "outputs": [
    {
     "name": "stdout",
     "output_type": "stream",
     "text": [
      "Highest test accuracy: 0.7858461538461539 at depth of 12\n",
      "Highest validation accuracy: 0.7887179487179488 at depth of 71\n"
     ]
    }
   ],
   "source": [
    "print('Highest test accuracy: {} at depth of {}'\n",
    "      .format(max(test_accuracy), test_accuracy.index(max(test_accuracy))+1))\n",
    "print('Highest validation accuracy: {} at depth of {}'\n",
    "      .format(max(valid_accuracy), valid_accuracy.index(max(valid_accuracy))+1))"
   ]
  },
  {
   "cell_type": "markdown",
   "metadata": {},
   "source": [
    "### Use the Best Depth\n",
    "\n",
    "From the above analysis, we create a decision tree at the best depth and run a prediction on the test data sets. This classifier uses the best depth calculated above of `69`. "
   ]
  },
  {
   "cell_type": "code",
   "execution_count": 18,
   "metadata": {},
   "outputs": [],
   "source": [
    "clf_dt_best_depth = DecisionTreeClassifier(max_depth=test_accuracy.index(max(test_accuracy))+1)\n",
    "clf_dt_best_depth.fit(X_train.reshape(-1,28*28), y_train)\n",
    "pred_dt_best_depth = clf_dt_best_depth.predict(X_test.reshape(-1,28*28))"
   ]
  },
  {
   "cell_type": "markdown",
   "metadata": {},
   "source": [
    "### Confusion Matrix at Best Depth"
   ]
  },
  {
   "cell_type": "code",
   "execution_count": 19,
   "metadata": {},
   "outputs": [
    {
     "data": {
      "text/plain": [
       "Text(0.5,1,'Confusion Matrix at Best Depth of 12')"
      ]
     },
     "execution_count": 19,
     "metadata": {},
     "output_type": "execute_result"
    },
    {
     "data": {
      "image/png": "[encoded data removed]",
      "text/plain": [
       "<matplotlib.figure.Figure at 0x7f95819b08d0>"
      ]
     },
     "metadata": {},
     "output_type": "display_data"
    }
   ],
   "source": [
    "cnf_matrix_bd = confusion_matrix(y_test,pred_dt_best_depth)\n",
    "plt.figure(figsize=(5,5))\n",
    "plt.imshow(cnf_matrix_bd, cmap='plasma')\n",
    "plt.colorbar()\n",
    "plt.title(\"Confusion Matrix at Best Depth of {}\".format(test_accuracy.index(max(test_accuracy))+1))"
   ]
  },
  {
   "cell_type": "markdown",
   "metadata": {},
   "source": [
    "### Best Depth Precision-Recall\n",
    "Here we have the precision-recall report for each of the classes."
   ]
  },
  {
   "cell_type": "code",
   "execution_count": 20,
   "metadata": {},
   "outputs": [
    {
     "name": "stdout",
     "output_type": "stream",
     "text": [
      "             precision    recall  f1-score   support\n",
      "\n",
      "          0       0.87      0.86      0.86       159\n",
      "          1       0.86      0.87      0.86       168\n",
      "          2       0.75      0.71      0.73       177\n",
      "          3       0.74      0.71      0.72       156\n",
      "          4       0.79      0.79      0.79       162\n",
      "          5       0.71      0.71      0.71       146\n",
      "          6       0.82      0.81      0.82       190\n",
      "          7       0.84      0.89      0.86       178\n",
      "          8       0.66      0.69      0.68       132\n",
      "          9       0.73      0.75      0.74       157\n",
      "\n",
      "avg / total       0.78      0.78      0.78      1625\n",
      "\n"
     ]
    }
   ],
   "source": [
    "print(classification_report(y_test,pred_dt_best_depth))"
   ]
  },
  {
   "cell_type": "markdown",
   "metadata": {},
   "source": [
    "### Display Prediction Examples at Best Depth\n",
    "Again, we add indicies of correct and incorrectly predicted classes to arrays. "
   ]
  },
  {
   "cell_type": "code",
   "execution_count": 21,
   "metadata": {},
   "outputs": [],
   "source": [
    "correct_indices_d = np.nonzero(pred_dt_best_depth == y_test)[0]\n",
    "incorrect_indices_d = np.nonzero(pred_dt_best_depth != y_test)[0]"
   ]
  },
  {
   "cell_type": "markdown",
   "metadata": {},
   "source": [
    "#### Correctly Predicted Classes\n",
    "Next, we plot the first 6 examples of correctly predicted classes."
   ]
  },
  {
   "cell_type": "code",
   "execution_count": 22,
   "metadata": {},
   "outputs": [
    {
     "data": {
      "image/png": "[encoded data removed]",
      "text/plain": [
       "<matplotlib.figure.Figure at 0x7f958194e7f0>"
      ]
     },
     "metadata": {},
     "output_type": "display_data"
    }
   ],
   "source": [
    "num_figures = 6\n",
    "plt.figure(figsize=(16,8))\n",
    "for i, correct in enumerate(correct_indices_d[:num_figures]):\n",
    "    plt.subplot(1,num_figures,i+1)\n",
    "    plt.imshow(X_test[correct].reshape(28,28), cmap='gray', interpolation='none')\n",
    "    plt.title(\"Predicted {}, Class {}\".format(pred_dt_best_depth[correct], y_test[correct]))"
   ]
  },
  {
   "cell_type": "markdown",
   "metadata": {},
   "source": [
    "#### Incorrectly Predicted Classes\n",
    "Then, we plot the first 6 examples of incorrectly predicted classes."
   ]
  },
  {
   "cell_type": "code",
   "execution_count": 23,
   "metadata": {},
   "outputs": [
    {
     "data": {
      "image/png": "[encoded data removed]",
      "text/plain": [
       "<matplotlib.figure.Figure at 0x7f958042e390>"
      ]
     },
     "metadata": {},
     "output_type": "display_data"
    }
   ],
   "source": [
    "num_figures = 6\n",
    "plt.figure(figsize=(16,8))\n",
    "for i, incorrect in enumerate(incorrect_indices_d[:num_figures]):\n",
    "    plt.subplot(1,num_figures,i+1)\n",
    "    plt.imshow(X_test[incorrect].reshape(28,28), cmap='gray', interpolation='none')\n",
    "    plt.title(\"Predicted {}, Class {}\".format(pred_dt_best_depth[incorrect], y_test[incorrect]))"
   ]
  },
  {
   "cell_type": "markdown",
   "metadata": {},
   "source": [
    "## Importances of Each Pixel\n",
    "To better understand how these the decision trees work we create a heatmap of the importances of each pixel. We do this for each decision tree and compaire the differences in the third graphic.\n",
    "\n",
    "We see that pixels in the center of the image seem to be the most important and pixels around the edges are not."
   ]
  },
  {
   "cell_type": "code",
   "execution_count": 24,
   "metadata": {},
   "outputs": [
    {
     "data": {
      "image/png": "[encoded data removed]",
      "text/plain": [
       "<matplotlib.figure.Figure at 0x7f95802c4eb8>"
      ]
     },
     "metadata": {},
     "output_type": "display_data"
    }
   ],
   "source": [
    "importances_dt = clf_dt.feature_importances_\n",
    "importances_depth = clf_dt_best_depth.feature_importances_\n",
    "\n",
    "heat_dt = importances_dt.reshape(28,28)\n",
    "heat_depth = importances_depth.reshape(28,28)\n",
    "heat_dif = heat_dt-heat_depth\n",
    "plt.figure(figsize=(16,5))\n",
    "plt.subplot(1,3,1)\n",
    "plt.title('Default Decision Tree')\n",
    "plt.imshow(heat_dt, cmap='plasma', interpolation='nearest')\n",
    "plt.colorbar()\n",
    "plt.subplot(1,3,2)\n",
    "plt.title('Decision Tree at Depth {}'.format(test_accuracy.index(max(test_accuracy))+1))\n",
    "plt.imshow(heat_depth, cmap='plasma', interpolation='nearest')\n",
    "plt.colorbar()\n",
    "plt.subplot(1,3,3)\n",
    "plt.title('Difference')\n",
    "plt.imshow(heat_dif, cmap='plasma', interpolation='nearest')\n",
    "plt.colorbar()\n",
    "plt.show()"
   ]
  },
  {
   "cell_type": "markdown",
   "metadata": {},
   "source": [
    "## Decision Tree with Custom Features\n",
    "So far we have only dealt with fitting decision trees on the pixel features of each image. What if we were to only feed it extracted information from each image instead? In this section we define a series of custom features, including:\n",
    "* The average value of all the pixels.\n",
    "* Number of features with a value > 0.\n",
    "* Sum of center of mass coordinates (X+Y).\n",
    "* Mean of center of mass coordinates ((X+Y)/2).\n",
    "\n",
    "We start by defining if we should add in the pixel features or not."
   ]
  },
  {
   "cell_type": "code",
   "execution_count": 25,
   "metadata": {},
   "outputs": [],
   "source": [
    "add_in_pixels = False"
   ]
  },
  {
   "cell_type": "markdown",
   "metadata": {},
   "source": [
    "### Create Custom Features\n",
    "Next, we create a function to loop through a numpy array and extract features. These are then added to a new array that is returned."
   ]
  },
  {
   "cell_type": "code",
   "execution_count": 26,
   "metadata": {},
   "outputs": [],
   "source": [
    "def add_custom_features(features):\n",
    "    new_features = []\n",
    "    for feature in features:\n",
    "        if add_in_pixels:\n",
    "            tmp_feature = feature.reshape(28*28)\n",
    "            tmp_feature = tmp_feature.tolist()\n",
    "        else:\n",
    "            tmp_feature = []\n",
    "        tmp_feature.append(np.mean(feature))  # Find the average pixel value\n",
    "        tmp_feature.append(np.count_nonzero(feature.tolist()))  # Count non-zero values\n",
    "        center = ndimage.measurements.center_of_mass(feature.reshape(28,28))\n",
    "        tmp_feature.append(np.sum(center))  # Sum of center of mass\n",
    "        tmp_feature.append(np.mean(center))  # Mean of center of mass\n",
    "        new_features.append(tmp_feature)\n",
    "    return np.array(new_features)"
   ]
  },
  {
   "cell_type": "markdown",
   "metadata": {},
   "source": [
    "Here we call the function and create new X_train, X_test, and X_valid arrays with the processed features."
   ]
  },
  {
   "cell_type": "code",
   "execution_count": 27,
   "metadata": {},
   "outputs": [],
   "source": [
    "X_train_new = add_custom_features(X_train)\n",
    "X_test_new = add_custom_features(X_test)\n",
    "X_valid_new = add_custom_features(X_valid)"
   ]
  },
  {
   "cell_type": "markdown",
   "metadata": {},
   "source": [
    "### Create a New Decision Tree\n",
    "We then fit a new decision tree on these features."
   ]
  },
  {
   "cell_type": "code",
   "execution_count": 28,
   "metadata": {},
   "outputs": [
    {
     "name": "stdout",
     "output_type": "stream",
     "text": [
      "Time elapsed: 0.02s\n"
     ]
    }
   ],
   "source": [
    "t0 = time()\n",
    "clf_dt_new = DecisionTreeClassifier()\n",
    "clf_dt_new.fit(X_train_new, y_train)\n",
    "print('Time elapsed: %.2fs' % (time()-t0))"
   ]
  },
  {
   "cell_type": "markdown",
   "metadata": {},
   "source": [
    "### Run the Prediction\n",
    "Testing the accuracy we get 21.8%. This is is 11.8% bettern than randomly choosing a predicted class."
   ]
  },
  {
   "cell_type": "code",
   "execution_count": 29,
   "metadata": {},
   "outputs": [
    {
     "name": "stdout",
     "output_type": "stream",
     "text": [
      "Predicted 1625 digits with accuracy: 0.20615384615384616\n"
     ]
    }
   ],
   "source": [
    "pred_dt_new = clf_dt_new.predict(X_test_new)\n",
    "print('Predicted', len(pred_dt), 'digits with accuracy:', accuracy_score(y_test, pred_dt_new))"
   ]
  },
  {
   "cell_type": "markdown",
   "metadata": {},
   "source": [
    "### Display Importances of Each Feature\n",
    "Next, we then find the importances of each of our new features."
   ]
  },
  {
   "cell_type": "code",
   "execution_count": 30,
   "metadata": {},
   "outputs": [
    {
     "name": "stdout",
     "output_type": "stream",
     "text": [
      "Importanes: [0.3343279  0.29137017 0.17895487 0.19534705]\n"
     ]
    }
   ],
   "source": [
    "if add_in_pixels:\n",
    "    importances_dt_new = clf_dt_new.feature_importances_[784:]\n",
    "else:\n",
    "    importances_dt_new = clf_dt_new.feature_importances_\n",
    "print('Importanes: {}'.format(importances_dt_new))"
   ]
  },
  {
   "cell_type": "markdown",
   "metadata": {},
   "source": [
    "We can graph these in a bar graph to compair."
   ]
  },
  {
   "cell_type": "code",
   "execution_count": 31,
   "metadata": {},
   "outputs": [
    {
     "data": {
      "image/png": "[encoded data removed]",
      "text/plain": [
       "<matplotlib.figure.Figure at 0x7f958051ca58>"
      ]
     },
     "metadata": {},
     "output_type": "display_data"
    }
   ],
   "source": [
    "plt.figure(figsize=(16,6))\n",
    "ind = np.arange(len(importances_dt_new))\n",
    "plt.bar(ind, importances_dt_new, 0.35)\n",
    "plt.title('Comparision of Custom Feature Importance')\n",
    "plt.ylabel('Importance')\n",
    "plt.xticks(ind, ('Average Pixel Value', '# Non-Zero Pixels', 'Sum of Centroid', 'Mean of Centroid'))\n",
    "plt.show()"
   ]
  },
  {
   "cell_type": "markdown",
   "metadata": {},
   "source": [
    "### Custom Feature Confusion Matrix\n",
    "We can now create a confusion matrix of the accuracy of our predicted values."
   ]
  },
  {
   "cell_type": "code",
   "execution_count": 32,
   "metadata": {
    "scrolled": false
   },
   "outputs": [
    {
     "data": {
      "image/png": "[encoded data removed]",
      "text/plain": [
       "<matplotlib.figure.Figure at 0x7f95803192b0>"
      ]
     },
     "metadata": {},
     "output_type": "display_data"
    }
   ],
   "source": [
    "cnf_matrix_custom = confusion_matrix(y_test,pred_dt_new)\n",
    "plt.figure(figsize=(5,5))\n",
    "plt.imshow(cnf_matrix_custom, cmap='plasma')\n",
    "plt.colorbar()\n",
    "plt.title(\"Confusion Matrix Custom Features\")\n",
    "plt.show()"
   ]
  },
  {
   "cell_type": "markdown",
   "metadata": {},
   "source": [
    "### Custom Features Precision-Recall\n",
    "Here we have the precision-recall report for each of the classes."
   ]
  },
  {
   "cell_type": "code",
   "execution_count": 33,
   "metadata": {},
   "outputs": [
    {
     "name": "stdout",
     "output_type": "stream",
     "text": [
      "             precision    recall  f1-score   support\n",
      "\n",
      "          0       0.21      0.21      0.21       159\n",
      "          1       0.71      0.70      0.71       168\n",
      "          2       0.13      0.12      0.12       177\n",
      "          3       0.11      0.12      0.11       156\n",
      "          4       0.13      0.12      0.13       162\n",
      "          5       0.12      0.12      0.12       146\n",
      "          6       0.14      0.14      0.14       190\n",
      "          7       0.16      0.16      0.16       178\n",
      "          8       0.17      0.20      0.18       132\n",
      "          9       0.16      0.15      0.16       157\n",
      "\n",
      "avg / total       0.21      0.21      0.21      1625\n",
      "\n"
     ]
    }
   ],
   "source": [
    "print(classification_report(y_test,pred_dt_new))"
   ]
  },
  {
   "cell_type": "code",
   "execution_count": null,
   "metadata": {},
   "outputs": [],
   "source": []
  }
 ],
 "metadata": {
  "kernelspec": {
   "display_name": "Python 3",
   "language": "python",
   "name": "python3"
  },
  "language_info": {
   "codemirror_mode": {
    "name": "ipython",
    "version": 3
   },
   "file_extension": ".py",
   "mimetype": "text/x-python",
   "name": "python",
   "nbconvert_exporter": "python",
   "pygments_lexer": "ipython3",
   "version": "3.5.4"
  }
 },
 "nbformat": 4,
 "nbformat_minor": 2
}
