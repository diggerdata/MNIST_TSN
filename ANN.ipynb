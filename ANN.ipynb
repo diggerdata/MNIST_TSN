{
 "cells": [
  {
   "cell_type": "code",
   "execution_count": 1,
   "metadata": {},
   "outputs": [],
   "source": [
    "%matplotlib inline"
   ]
  },
  {
   "cell_type": "markdown",
   "metadata": {},
   "source": [
    "# Artificial Neural Networks\n",
    "This Artificial Neural Network(ANN) is composed of an input of 784 greyscale ratings from 0-255 representing each of the pixels in the 28x28 image. The 28x28 array representing the image is linearized to an array of length 784. This gets passed through two layers of 512 neurons each, to get an output of ten nodes, with only one activating to resprent the answer from 0-9. 100 epochs were used for training on 3900 of the 6500 data points to achieve a testing accuracy of 96.12%.\n",
    "\n",
    "## Import Dependencies\n",
    "We begin by importing the required packages."
   ]
  },
  {
   "cell_type": "code",
   "execution_count": 2,
   "metadata": {},
   "outputs": [
    {
     "name": "stderr",
     "output_type": "stream",
     "text": [
      "Using TensorFlow backend.\n"
     ]
    }
   ],
   "source": [
    "import numpy as np\n",
    "import matplotlib.pyplot as plt\n",
    "from keras.datasets import mnist\n",
    "from keras.models import Sequential\n",
    "from keras.layers.core import Dense, Dropout, Activation\n",
    "from keras.utils import np_utils\n",
    "from IPython.display import SVG\n",
    "from keras.utils.vis_utils import model_to_dot"
   ]
  },
  {
   "cell_type": "markdown",
   "metadata": {},
   "source": [
    "## Load the Data"
   ]
  },
  {
   "cell_type": "code",
   "execution_count": 3,
   "metadata": {},
   "outputs": [
    {
     "name": "stdout",
     "output_type": "stream",
     "text": [
      "X_train original shape: (6500, 28, 28)\n",
      "y_train original shape: (6500,)\n"
     ]
    }
   ],
   "source": [
    "nb_classes = 10\n",
    "\n",
    "# the data, shuffled and split between tran and test sets\n",
    "X_raw = np.load('./data/images.npy')\n",
    "y_raw = np.load('./data/labels.npy')\n",
    "y_test = y_raw[4875:6500]\n",
    "# print(\"X_train original shape\", X_train.shape)\n",
    "# print(\"y_train original shape\", y_train.shape)\n",
    "print(\"X_train original shape:\", X_raw.shape)\n",
    "print(\"y_train original shape:\", y_raw.shape)"
   ]
  },
  {
   "cell_type": "markdown",
   "metadata": {},
   "source": [
    "### Print Out Example Data\n"
   ]
  },
  {
   "cell_type": "code",
   "execution_count": 4,
   "metadata": {},
   "outputs": [
    {
     "data": {
      "image/png": "[encoded data removed]",
      "text/plain": [
       "<matplotlib.figure.Figure at 0x7f1016815978>"
      ]
     },
     "metadata": {},
     "output_type": "display_data"
    }
   ],
   "source": [
    "num_figures = 6\n",
    "plt.figure(figsize=(16,8))\n",
    "for i in range(num_figures):\n",
    "    plt.subplot(1,num_figures,i+1)\n",
    "    plt.imshow(X_raw[i], cmap='gray', interpolation='none')\n",
    "    plt.title(\"Class {}\".format(y_raw[i]))"
   ]
  },
  {
   "cell_type": "markdown",
   "metadata": {},
   "source": [
    "## Reshape The Data"
   ]
  },
  {
   "cell_type": "code",
   "execution_count": 5,
   "metadata": {},
   "outputs": [
    {
     "name": "stdout",
     "output_type": "stream",
     "text": [
      "Training matrix shape (3900, 784)\n",
      "Validation matrix shape (975, 784)\n",
      "Testing matrix shape (1625, 784)\n"
     ]
    }
   ],
   "source": [
    "X_train = X_raw[0:3900].reshape(3900, 784)\n",
    "X_valid = X_raw[3900:4875].reshape(975, 784)\n",
    "X_test = X_raw[4875:6500].reshape(1625, 784)\n",
    "\n",
    "X_train = X_train.astype('float32')\n",
    "X_valid = X_valid.astype('float32')\n",
    "X_test = X_test.astype('float32')\n",
    "X_train /= 255\n",
    "X_valid /= 255\n",
    "X_test /= 255\n",
    "print(\"Training matrix shape\", X_train.shape)\n",
    "print(\"Validation matrix shape\", X_valid.shape)\n",
    "print(\"Testing matrix shape\", X_test.shape)"
   ]
  },
  {
   "cell_type": "code",
   "execution_count": 6,
   "metadata": {},
   "outputs": [],
   "source": [
    "Y_train = np_utils.to_categorical(y_raw[0:3900], nb_classes)\n",
    "Y_valid = np_utils.to_categorical(y_raw[3900:4875], nb_classes)\n",
    "Y_test = np_utils.to_categorical(y_raw[4875:6500], nb_classes)"
   ]
  },
  {
   "cell_type": "markdown",
   "metadata": {},
   "source": [
    "## Build Our Model"
   ]
  },
  {
   "cell_type": "code",
   "execution_count": 7,
   "metadata": {},
   "outputs": [],
   "source": [
    "model = Sequential()\n",
    "model.add(Dense(512, input_shape=(784,)))\n",
    "model.add(Activation('relu'))\n",
    "                           \n",
    "model.add(Dropout(0.2))\n",
    "model.add(Dense(512))\n",
    "model.add(Activation('relu'))\n",
    "model.add(Dropout(0.2))\n",
    "model.add(Dense(10))\n",
    "model.add(Activation('softmax'))"
   ]
  },
  {
   "cell_type": "code",
   "execution_count": 8,
   "metadata": {},
   "outputs": [],
   "source": [
    "model.compile(loss='categorical_crossentropy', optimizer='adam', metrics=['accuracy'])"
   ]
  },
  {
   "cell_type": "markdown",
   "metadata": {},
   "source": [
    "## Train the Model"
   ]
  },
  {
   "cell_type": "code",
   "execution_count": 9,
   "metadata": {},
   "outputs": [
    {
     "name": "stdout",
     "output_type": "stream",
     "text": [
      "Train on 3900 samples, validate on 975 samples\n",
      "Epoch 1/100\n",
      "3900/3900 [==============================] - 1s 167us/step - loss: 0.9062 - acc: 0.7274 - val_loss: 0.3897 - val_acc: 0.8933\n",
      "Epoch 2/100\n",
      "3900/3900 [==============================] - 0s 37us/step - loss: 0.3290 - acc: 0.9046 - val_loss: 0.2817 - val_acc: 0.9138\n",
      "Epoch 3/100\n",
      "3900/3900 [==============================] - 0s 33us/step - loss: 0.2217 - acc: 0.9323 - val_loss: 0.2350 - val_acc: 0.9364\n",
      "Epoch 4/100\n",
      "3900/3900 [==============================] - 0s 38us/step - loss: 0.1554 - acc: 0.9551 - val_loss: 0.2355 - val_acc: 0.9323\n",
      "Epoch 5/100\n",
      "3900/3900 [==============================] - 0s 34us/step - loss: 0.1135 - acc: 0.9672 - val_loss: 0.2283 - val_acc: 0.9374\n",
      "Epoch 6/100\n",
      "3900/3900 [==============================] - 0s 31us/step - loss: 0.0821 - acc: 0.9774 - val_loss: 0.2451 - val_acc: 0.9364\n",
      "Epoch 7/100\n",
      "3900/3900 [==============================] - 0s 33us/step - loss: 0.0619 - acc: 0.9826 - val_loss: 0.2101 - val_acc: 0.9456\n",
      "Epoch 8/100\n",
      "3900/3900 [==============================] - 0s 32us/step - loss: 0.0473 - acc: 0.9879 - val_loss: 0.2300 - val_acc: 0.9395\n",
      "Epoch 9/100\n",
      "3900/3900 [==============================] - 0s 34us/step - loss: 0.0355 - acc: 0.9918 - val_loss: 0.2124 - val_acc: 0.9436\n",
      "Epoch 10/100\n",
      "3900/3900 [==============================] - 0s 32us/step - loss: 0.0243 - acc: 0.9951 - val_loss: 0.2498 - val_acc: 0.9436\n",
      "Epoch 11/100\n",
      "3900/3900 [==============================] - 0s 31us/step - loss: 0.0221 - acc: 0.9941 - val_loss: 0.2311 - val_acc: 0.9456\n",
      "Epoch 12/100\n",
      "3900/3900 [==============================] - 0s 35us/step - loss: 0.0144 - acc: 0.9969 - val_loss: 0.2575 - val_acc: 0.9415\n",
      "Epoch 13/100\n",
      "3900/3900 [==============================] - 0s 32us/step - loss: 0.0110 - acc: 0.9977 - val_loss: 0.2554 - val_acc: 0.9456\n",
      "Epoch 14/100\n",
      "3900/3900 [==============================] - 0s 35us/step - loss: 0.0180 - acc: 0.9946 - val_loss: 0.2548 - val_acc: 0.9456\n",
      "Epoch 15/100\n",
      "3900/3900 [==============================] - 0s 34us/step - loss: 0.0179 - acc: 0.9944 - val_loss: 0.2419 - val_acc: 0.9446\n",
      "Epoch 16/100\n",
      "3900/3900 [==============================] - 0s 32us/step - loss: 0.0148 - acc: 0.9967 - val_loss: 0.2354 - val_acc: 0.9487\n",
      "Epoch 17/100\n",
      "3900/3900 [==============================] - 0s 32us/step - loss: 0.0101 - acc: 0.9979 - val_loss: 0.2623 - val_acc: 0.9467\n",
      "Epoch 18/100\n",
      "3900/3900 [==============================] - 0s 35us/step - loss: 0.0064 - acc: 0.9990 - val_loss: 0.2494 - val_acc: 0.9477\n",
      "Epoch 19/100\n",
      "3900/3900 [==============================] - 0s 33us/step - loss: 0.0104 - acc: 0.9977 - val_loss: 0.2483 - val_acc: 0.9497\n",
      "Epoch 20/100\n",
      "3900/3900 [==============================] - 0s 32us/step - loss: 0.0061 - acc: 0.9992 - val_loss: 0.2426 - val_acc: 0.9497\n",
      "Epoch 21/100\n",
      "3900/3900 [==============================] - 0s 35us/step - loss: 0.0049 - acc: 0.9995 - val_loss: 0.3118 - val_acc: 0.9415\n",
      "Epoch 22/100\n",
      "3900/3900 [==============================] - 0s 32us/step - loss: 0.0079 - acc: 0.9985 - val_loss: 0.2775 - val_acc: 0.9508\n",
      "Epoch 23/100\n",
      "3900/3900 [==============================] - 0s 37us/step - loss: 0.0056 - acc: 0.9987 - val_loss: 0.3011 - val_acc: 0.9426\n",
      "Epoch 24/100\n",
      "3900/3900 [==============================] - 0s 34us/step - loss: 0.0032 - acc: 0.9997 - val_loss: 0.2835 - val_acc: 0.9497\n",
      "Epoch 25/100\n",
      "3900/3900 [==============================] - 0s 36us/step - loss: 0.0017 - acc: 1.0000 - val_loss: 0.2854 - val_acc: 0.9467\n",
      "Epoch 26/100\n",
      "3900/3900 [==============================] - 0s 32us/step - loss: 0.0017 - acc: 1.0000 - val_loss: 0.2813 - val_acc: 0.9467\n",
      "Epoch 27/100\n",
      "3900/3900 [==============================] - 0s 34us/step - loss: 0.0028 - acc: 0.9997 - val_loss: 0.2960 - val_acc: 0.9497\n",
      "Epoch 28/100\n",
      "3900/3900 [==============================] - 0s 35us/step - loss: 0.0020 - acc: 1.0000 - val_loss: 0.2806 - val_acc: 0.9487\n",
      "Epoch 29/100\n",
      "3900/3900 [==============================] - 0s 41us/step - loss: 0.0015 - acc: 1.0000 - val_loss: 0.2875 - val_acc: 0.9467\n",
      "Epoch 30/100\n",
      "3900/3900 [==============================] - 0s 46us/step - loss: 0.0035 - acc: 0.9995 - val_loss: 0.2852 - val_acc: 0.9487\n",
      "Epoch 31/100\n",
      "3900/3900 [==============================] - 0s 38us/step - loss: 0.0091 - acc: 0.9979 - val_loss: 0.2875 - val_acc: 0.9456\n",
      "Epoch 32/100\n",
      "3900/3900 [==============================] - 0s 35us/step - loss: 0.0068 - acc: 0.9982 - val_loss: 0.2933 - val_acc: 0.9487\n",
      "Epoch 33/100\n",
      "3900/3900 [==============================] - 0s 40us/step - loss: 0.0054 - acc: 0.9985 - val_loss: 0.3109 - val_acc: 0.9446\n",
      "Epoch 34/100\n",
      "3900/3900 [==============================] - 0s 42us/step - loss: 0.0059 - acc: 0.9987 - val_loss: 0.3176 - val_acc: 0.9477\n",
      "Epoch 35/100\n",
      "3900/3900 [==============================] - 0s 39us/step - loss: 0.0117 - acc: 0.9969 - val_loss: 0.2641 - val_acc: 0.9549\n",
      "Epoch 36/100\n",
      "3900/3900 [==============================] - 0s 40us/step - loss: 0.0045 - acc: 0.9995 - val_loss: 0.2657 - val_acc: 0.9518\n",
      "Epoch 37/100\n",
      "3900/3900 [==============================] - 0s 32us/step - loss: 0.0041 - acc: 0.9987 - val_loss: 0.3136 - val_acc: 0.9508\n",
      "Epoch 38/100\n",
      "3900/3900 [==============================] - 0s 32us/step - loss: 0.0059 - acc: 0.9977 - val_loss: 0.3036 - val_acc: 0.9497\n",
      "Epoch 39/100\n",
      "3900/3900 [==============================] - 0s 32us/step - loss: 0.0060 - acc: 0.9990 - val_loss: 0.2647 - val_acc: 0.9538\n",
      "Epoch 40/100\n",
      "3900/3900 [==============================] - 0s 31us/step - loss: 0.0208 - acc: 0.9949 - val_loss: 0.2908 - val_acc: 0.9477\n",
      "Epoch 41/100\n",
      "3900/3900 [==============================] - 0s 32us/step - loss: 0.0264 - acc: 0.9910 - val_loss: 0.2839 - val_acc: 0.9528\n",
      "Epoch 42/100\n",
      "3900/3900 [==============================] - 0s 29us/step - loss: 0.0148 - acc: 0.9956 - val_loss: 0.2963 - val_acc: 0.9426\n",
      "Epoch 43/100\n",
      "3900/3900 [==============================] - 0s 33us/step - loss: 0.0096 - acc: 0.9977 - val_loss: 0.3182 - val_acc: 0.9477\n",
      "Epoch 44/100\n",
      "3900/3900 [==============================] - 0s 31us/step - loss: 0.0073 - acc: 0.9977 - val_loss: 0.3044 - val_acc: 0.9518\n",
      "Epoch 45/100\n",
      "3900/3900 [==============================] - 0s 31us/step - loss: 0.0096 - acc: 0.9972 - val_loss: 0.3476 - val_acc: 0.9446\n",
      "Epoch 46/100\n",
      "3900/3900 [==============================] - 0s 31us/step - loss: 0.0046 - acc: 0.9990 - val_loss: 0.3255 - val_acc: 0.9456\n",
      "Epoch 47/100\n",
      "3900/3900 [==============================] - 0s 31us/step - loss: 0.0099 - acc: 0.9967 - val_loss: 0.2972 - val_acc: 0.9508\n",
      "Epoch 48/100\n",
      "3900/3900 [==============================] - 0s 30us/step - loss: 0.0037 - acc: 0.9995 - val_loss: 0.3115 - val_acc: 0.9528\n",
      "Epoch 49/100\n",
      "3900/3900 [==============================] - 0s 30us/step - loss: 0.0071 - acc: 0.9977 - val_loss: 0.3232 - val_acc: 0.9508\n",
      "Epoch 50/100\n",
      "3900/3900 [==============================] - 0s 31us/step - loss: 0.0028 - acc: 0.9995 - val_loss: 0.3315 - val_acc: 0.9518\n",
      "Epoch 51/100\n",
      "3900/3900 [==============================] - 0s 30us/step - loss: 0.0017 - acc: 0.9992 - val_loss: 0.2951 - val_acc: 0.9528\n",
      "Epoch 52/100\n",
      "3900/3900 [==============================] - 0s 30us/step - loss: 0.0026 - acc: 0.9995 - val_loss: 0.3255 - val_acc: 0.9487\n",
      "Epoch 53/100\n",
      "3900/3900 [==============================] - 0s 31us/step - loss: 0.0085 - acc: 0.9972 - val_loss: 0.3113 - val_acc: 0.9518\n",
      "Epoch 54/100\n",
      "3900/3900 [==============================] - 0s 30us/step - loss: 0.0047 - acc: 0.9985 - val_loss: 0.3187 - val_acc: 0.9467\n",
      "Epoch 55/100\n",
      "3900/3900 [==============================] - 0s 30us/step - loss: 0.0137 - acc: 0.9946 - val_loss: 0.3874 - val_acc: 0.9426\n",
      "Epoch 56/100\n",
      "3900/3900 [==============================] - 0s 33us/step - loss: 0.0148 - acc: 0.9954 - val_loss: 0.3467 - val_acc: 0.9436\n",
      "Epoch 57/100\n",
      "3900/3900 [==============================] - 0s 29us/step - loss: 0.0070 - acc: 0.9974 - val_loss: 0.3586 - val_acc: 0.9446\n",
      "Epoch 58/100\n",
      "3900/3900 [==============================] - 0s 31us/step - loss: 0.0069 - acc: 0.9977 - val_loss: 0.3732 - val_acc: 0.9456\n",
      "Epoch 59/100\n",
      "3900/3900 [==============================] - 0s 32us/step - loss: 0.0084 - acc: 0.9967 - val_loss: 0.3985 - val_acc: 0.9364\n",
      "Epoch 60/100\n"
     ]
    },
    {
     "name": "stdout",
     "output_type": "stream",
     "text": [
      "3900/3900 [==============================] - 0s 31us/step - loss: 0.0164 - acc: 0.9954 - val_loss: 0.3352 - val_acc: 0.9508\n",
      "Epoch 61/100\n",
      "3900/3900 [==============================] - 0s 28us/step - loss: 0.0110 - acc: 0.9964 - val_loss: 0.3497 - val_acc: 0.9477\n",
      "Epoch 62/100\n",
      "3900/3900 [==============================] - 0s 29us/step - loss: 0.0065 - acc: 0.9972 - val_loss: 0.3843 - val_acc: 0.9456\n",
      "Epoch 63/100\n",
      "3900/3900 [==============================] - 0s 28us/step - loss: 0.0097 - acc: 0.9967 - val_loss: 0.4112 - val_acc: 0.9446\n",
      "Epoch 64/100\n",
      "3900/3900 [==============================] - 0s 28us/step - loss: 0.0118 - acc: 0.9964 - val_loss: 0.4585 - val_acc: 0.9374\n",
      "Epoch 65/100\n",
      "3900/3900 [==============================] - 0s 30us/step - loss: 0.0182 - acc: 0.9941 - val_loss: 0.3389 - val_acc: 0.9456\n",
      "Epoch 66/100\n",
      "3900/3900 [==============================] - 0s 28us/step - loss: 0.0067 - acc: 0.9982 - val_loss: 0.3646 - val_acc: 0.9446\n",
      "Epoch 67/100\n",
      "3900/3900 [==============================] - 0s 28us/step - loss: 0.0026 - acc: 0.9995 - val_loss: 0.3428 - val_acc: 0.9508\n",
      "Epoch 68/100\n",
      "3900/3900 [==============================] - 0s 28us/step - loss: 0.0019 - acc: 0.9995 - val_loss: 0.3221 - val_acc: 0.9538\n",
      "Epoch 69/100\n",
      "3900/3900 [==============================] - 0s 29us/step - loss: 0.0020 - acc: 0.9995 - val_loss: 0.3385 - val_acc: 0.9528\n",
      "Epoch 70/100\n",
      "3900/3900 [==============================] - 0s 29us/step - loss: 6.5410e-04 - acc: 1.0000 - val_loss: 0.3215 - val_acc: 0.9579\n",
      "Epoch 71/100\n",
      "3900/3900 [==============================] - 0s 28us/step - loss: 0.0010 - acc: 0.9995 - val_loss: 0.3839 - val_acc: 0.9456\n",
      "Epoch 72/100\n",
      "3900/3900 [==============================] - 0s 28us/step - loss: 0.0014 - acc: 0.9995 - val_loss: 0.3120 - val_acc: 0.9528\n",
      "Epoch 73/100\n",
      "3900/3900 [==============================] - 0s 28us/step - loss: 0.0013 - acc: 0.9995 - val_loss: 0.3186 - val_acc: 0.9569\n",
      "Epoch 74/100\n",
      "3900/3900 [==============================] - 0s 28us/step - loss: 0.0028 - acc: 0.9987 - val_loss: 0.3084 - val_acc: 0.9549\n",
      "Epoch 75/100\n",
      "3900/3900 [==============================] - 0s 28us/step - loss: 0.0012 - acc: 0.9995 - val_loss: 0.3523 - val_acc: 0.9456\n",
      "Epoch 76/100\n",
      "3900/3900 [==============================] - 0s 28us/step - loss: 0.0027 - acc: 0.9992 - val_loss: 0.3983 - val_acc: 0.9477\n",
      "Epoch 77/100\n",
      "3900/3900 [==============================] - 0s 28us/step - loss: 0.0041 - acc: 0.9987 - val_loss: 0.3825 - val_acc: 0.9508\n",
      "Epoch 78/100\n",
      "3900/3900 [==============================] - 0s 30us/step - loss: 0.0040 - acc: 0.9987 - val_loss: 0.3943 - val_acc: 0.9477\n",
      "Epoch 79/100\n",
      "3900/3900 [==============================] - 0s 29us/step - loss: 0.0041 - acc: 0.9985 - val_loss: 0.3823 - val_acc: 0.9497\n",
      "Epoch 80/100\n",
      "3900/3900 [==============================] - 0s 29us/step - loss: 0.0054 - acc: 0.9985 - val_loss: 0.3584 - val_acc: 0.9508\n",
      "Epoch 81/100\n",
      "3900/3900 [==============================] - 0s 29us/step - loss: 0.0029 - acc: 0.9987 - val_loss: 0.3734 - val_acc: 0.9477\n",
      "Epoch 82/100\n",
      "3900/3900 [==============================] - 0s 29us/step - loss: 0.0018 - acc: 0.9995 - val_loss: 0.3500 - val_acc: 0.9518\n",
      "Epoch 83/100\n",
      "3900/3900 [==============================] - 0s 27us/step - loss: 4.7782e-04 - acc: 1.0000 - val_loss: 0.3453 - val_acc: 0.9497\n",
      "Epoch 84/100\n",
      "3900/3900 [==============================] - 0s 29us/step - loss: 2.1676e-04 - acc: 1.0000 - val_loss: 0.3526 - val_acc: 0.9518\n",
      "Epoch 85/100\n",
      "3900/3900 [==============================] - 0s 29us/step - loss: 3.6128e-04 - acc: 0.9997 - val_loss: 0.3337 - val_acc: 0.9549\n",
      "Epoch 86/100\n",
      "3900/3900 [==============================] - 0s 28us/step - loss: 0.0012 - acc: 0.9995 - val_loss: 0.4004 - val_acc: 0.9508\n",
      "Epoch 87/100\n",
      "3900/3900 [==============================] - 0s 28us/step - loss: 3.5885e-04 - acc: 1.0000 - val_loss: 0.3768 - val_acc: 0.9497\n",
      "Epoch 88/100\n",
      "3900/3900 [==============================] - 0s 29us/step - loss: 1.4170e-04 - acc: 1.0000 - val_loss: 0.3798 - val_acc: 0.9487\n",
      "Epoch 89/100\n",
      "3900/3900 [==============================] - 0s 28us/step - loss: 3.5000e-04 - acc: 0.9997 - val_loss: 0.3625 - val_acc: 0.9549\n",
      "Epoch 90/100\n",
      "3900/3900 [==============================] - 0s 28us/step - loss: 7.5654e-04 - acc: 0.9995 - val_loss: 0.3836 - val_acc: 0.9497\n",
      "Epoch 91/100\n",
      "3900/3900 [==============================] - 0s 29us/step - loss: 3.0072e-04 - acc: 1.0000 - val_loss: 0.3472 - val_acc: 0.9538\n",
      "Epoch 92/100\n",
      "3900/3900 [==============================] - 0s 29us/step - loss: 4.0739e-04 - acc: 0.9997 - val_loss: 0.3424 - val_acc: 0.9559\n",
      "Epoch 93/100\n",
      "3900/3900 [==============================] - 0s 29us/step - loss: 3.7239e-04 - acc: 1.0000 - val_loss: 0.3657 - val_acc: 0.9538\n",
      "Epoch 94/100\n",
      "3900/3900 [==============================] - 0s 29us/step - loss: 4.2745e-04 - acc: 1.0000 - val_loss: 0.3244 - val_acc: 0.9559\n",
      "Epoch 95/100\n",
      "3900/3900 [==============================] - 0s 28us/step - loss: 6.9160e-04 - acc: 0.9997 - val_loss: 0.3433 - val_acc: 0.9579\n",
      "Epoch 96/100\n",
      "3900/3900 [==============================] - 0s 29us/step - loss: 0.0025 - acc: 0.9995 - val_loss: 0.3851 - val_acc: 0.9538\n",
      "Epoch 97/100\n",
      "3900/3900 [==============================] - 0s 29us/step - loss: 0.0133 - acc: 0.9979 - val_loss: 0.4158 - val_acc: 0.9344\n",
      "Epoch 98/100\n",
      "3900/3900 [==============================] - 0s 30us/step - loss: 0.0137 - acc: 0.9967 - val_loss: 0.3488 - val_acc: 0.9518\n",
      "Epoch 99/100\n",
      "3900/3900 [==============================] - 0s 28us/step - loss: 0.0118 - acc: 0.9969 - val_loss: 0.4868 - val_acc: 0.9405\n",
      "Epoch 100/100\n",
      "3900/3900 [==============================] - 0s 29us/step - loss: 0.0183 - acc: 0.9941 - val_loss: 0.3526 - val_acc: 0.9487\n"
     ]
    }
   ],
   "source": [
    "history = model.fit(X_train, Y_train,\n",
    "          batch_size=128, \n",
    "          epochs=100,\n",
    "          verbose=1,\n",
    "          validation_data=(X_valid, Y_valid))"
   ]
  },
  {
   "cell_type": "markdown",
   "metadata": {},
   "source": [
    "## Generate Loss and Accuracy Graphs by Epoch"
   ]
  },
  {
   "cell_type": "code",
   "execution_count": 10,
   "metadata": {},
   "outputs": [
    {
     "data": {
      "text/plain": [
       "<matplotlib.legend.Legend at 0x7f101079dc18>"
      ]
     },
     "execution_count": 10,
     "metadata": {},
     "output_type": "execute_result"
    },
    {
     "data": {
      "image/png": "[encoded data removed]",
      "text/plain": [
       "<matplotlib.figure.Figure at 0x7f10107e54e0>"
      ]
     },
     "metadata": {},
     "output_type": "display_data"
    }
   ],
   "source": [
    "plt.figure(figsize=(16,5))\n",
    "plt.subplot(1,2,1)\n",
    "plt.title('Loss per Epoch')\n",
    "plt.xlabel('Epochs')\n",
    "plt.ylabel('Loss')\n",
    "plt.plot(history.history['loss'])\n",
    "plt.plot(history.history['val_loss'])\n",
    "plt.legend(['Training', 'Validation'])\n",
    "\n",
    "plt.subplot(1,2,2)\n",
    "plt.title('Accuracy per Epoch')\n",
    "plt.xlabel('Epochs')\n",
    "plt.ylabel('Accuracy')\n",
    "plt.plot(history.history['acc'])\n",
    "plt.plot(history.history['val_acc'])\n",
    "plt.legend(['Training', 'Validation'], loc='lower right')"
   ]
  },
  {
   "cell_type": "code",
   "execution_count": 11,
   "metadata": {},
   "outputs": [
    {
     "data": {
      "image/svg+xml": [
       "<svg height=\"629pt\" viewBox=\"0.00 0.00 171.00 629.00\" width=\"171pt\" xmlns=\"http://www.w3.org/2000/svg\" xmlns:xlink=\"http://www.w3.org/1999/xlink\">\n",
       "<g class=\"graph\" id=\"graph0\" transform=\"scale(1 1) rotate(0) translate(4 625)\">\n",
       "<title>G</title>\n",
       "<polygon fill=\"white\" points=\"-4,4 -4,-625 167,-625 167,4 -4,4\" stroke=\"none\"/>\n",
       "<!-- 139707073781712 -->\n",
       "<g class=\"node\" id=\"node1\"><title>139707073781712</title>\n",
       "<polygon fill=\"none\" points=\"0,-584.5 0,-620.5 163,-620.5 163,-584.5 0,-584.5\" stroke=\"black\"/>\n",
       "<text font-family=\"Times,serif\" font-size=\"14.00\" text-anchor=\"middle\" x=\"81.5\" y=\"-598.8\">dense_1_input: InputLayer</text>\n",
       "</g>\n",
       "<!-- 139707073779864 -->\n",
       "<g class=\"node\" id=\"node2\"><title>139707073779864</title>\n",
       "<polygon fill=\"none\" points=\"30.5,-511.5 30.5,-547.5 132.5,-547.5 132.5,-511.5 30.5,-511.5\" stroke=\"black\"/>\n",
       "<text font-family=\"Times,serif\" font-size=\"14.00\" text-anchor=\"middle\" x=\"81.5\" y=\"-525.8\">dense_1: Dense</text>\n",
       "</g>\n",
       "<!-- 139707073781712&#45;&gt;139707073779864 -->\n",
       "<g class=\"edge\" id=\"edge1\"><title>139707073781712-&gt;139707073779864</title>\n",
       "<path d=\"M81.5,-584.313C81.5,-576.289 81.5,-566.547 81.5,-557.569\" fill=\"none\" stroke=\"black\"/>\n",
       "<polygon fill=\"black\" points=\"85.0001,-557.529 81.5,-547.529 78.0001,-557.529 85.0001,-557.529\" stroke=\"black\"/>\n",
       "</g>\n",
       "<!-- 139707073779528 -->\n",
       "<g class=\"node\" id=\"node3\"><title>139707073779528</title>\n",
       "<polygon fill=\"none\" points=\"7.5,-438.5 7.5,-474.5 155.5,-474.5 155.5,-438.5 7.5,-438.5\" stroke=\"black\"/>\n",
       "<text font-family=\"Times,serif\" font-size=\"14.00\" text-anchor=\"middle\" x=\"81.5\" y=\"-452.8\">activation_1: Activation</text>\n",
       "</g>\n",
       "<!-- 139707073779864&#45;&gt;139707073779528 -->\n",
       "<g class=\"edge\" id=\"edge2\"><title>139707073779864-&gt;139707073779528</title>\n",
       "<path d=\"M81.5,-511.313C81.5,-503.289 81.5,-493.547 81.5,-484.569\" fill=\"none\" stroke=\"black\"/>\n",
       "<polygon fill=\"black\" points=\"85.0001,-484.529 81.5,-474.529 78.0001,-484.529 85.0001,-484.529\" stroke=\"black\"/>\n",
       "</g>\n",
       "<!-- 139707031256704 -->\n",
       "<g class=\"node\" id=\"node4\"><title>139707031256704</title>\n",
       "<polygon fill=\"none\" points=\"19,-365.5 19,-401.5 144,-401.5 144,-365.5 19,-365.5\" stroke=\"black\"/>\n",
       "<text font-family=\"Times,serif\" font-size=\"14.00\" text-anchor=\"middle\" x=\"81.5\" y=\"-379.8\">dropout_1: Dropout</text>\n",
       "</g>\n",
       "<!-- 139707073779528&#45;&gt;139707031256704 -->\n",
       "<g class=\"edge\" id=\"edge3\"><title>139707073779528-&gt;139707031256704</title>\n",
       "<path d=\"M81.5,-438.313C81.5,-430.289 81.5,-420.547 81.5,-411.569\" fill=\"none\" stroke=\"black\"/>\n",
       "<polygon fill=\"black\" points=\"85.0001,-411.529 81.5,-401.529 78.0001,-411.529 85.0001,-411.529\" stroke=\"black\"/>\n",
       "</g>\n",
       "<!-- 139707031346872 -->\n",
       "<g class=\"node\" id=\"node5\"><title>139707031346872</title>\n",
       "<polygon fill=\"none\" points=\"30.5,-292.5 30.5,-328.5 132.5,-328.5 132.5,-292.5 30.5,-292.5\" stroke=\"black\"/>\n",
       "<text font-family=\"Times,serif\" font-size=\"14.00\" text-anchor=\"middle\" x=\"81.5\" y=\"-306.8\">dense_2: Dense</text>\n",
       "</g>\n",
       "<!-- 139707031256704&#45;&gt;139707031346872 -->\n",
       "<g class=\"edge\" id=\"edge4\"><title>139707031256704-&gt;139707031346872</title>\n",
       "<path d=\"M81.5,-365.313C81.5,-357.289 81.5,-347.547 81.5,-338.569\" fill=\"none\" stroke=\"black\"/>\n",
       "<polygon fill=\"black\" points=\"85.0001,-338.529 81.5,-328.529 78.0001,-338.529 85.0001,-338.529\" stroke=\"black\"/>\n",
       "</g>\n",
       "<!-- 139707031328752 -->\n",
       "<g class=\"node\" id=\"node6\"><title>139707031328752</title>\n",
       "<polygon fill=\"none\" points=\"7.5,-219.5 7.5,-255.5 155.5,-255.5 155.5,-219.5 7.5,-219.5\" stroke=\"black\"/>\n",
       "<text font-family=\"Times,serif\" font-size=\"14.00\" text-anchor=\"middle\" x=\"81.5\" y=\"-233.8\">activation_2: Activation</text>\n",
       "</g>\n",
       "<!-- 139707031346872&#45;&gt;139707031328752 -->\n",
       "<g class=\"edge\" id=\"edge5\"><title>139707031346872-&gt;139707031328752</title>\n",
       "<path d=\"M81.5,-292.313C81.5,-284.289 81.5,-274.547 81.5,-265.569\" fill=\"none\" stroke=\"black\"/>\n",
       "<polygon fill=\"black\" points=\"85.0001,-265.529 81.5,-255.529 78.0001,-265.529 85.0001,-265.529\" stroke=\"black\"/>\n",
       "</g>\n",
       "<!-- 139707030967744 -->\n",
       "<g class=\"node\" id=\"node7\"><title>139707030967744</title>\n",
       "<polygon fill=\"none\" points=\"19,-146.5 19,-182.5 144,-182.5 144,-146.5 19,-146.5\" stroke=\"black\"/>\n",
       "<text font-family=\"Times,serif\" font-size=\"14.00\" text-anchor=\"middle\" x=\"81.5\" y=\"-160.8\">dropout_2: Dropout</text>\n",
       "</g>\n",
       "<!-- 139707031328752&#45;&gt;139707030967744 -->\n",
       "<g class=\"edge\" id=\"edge6\"><title>139707031328752-&gt;139707030967744</title>\n",
       "<path d=\"M81.5,-219.313C81.5,-211.289 81.5,-201.547 81.5,-192.569\" fill=\"none\" stroke=\"black\"/>\n",
       "<polygon fill=\"black\" points=\"85.0001,-192.529 81.5,-182.529 78.0001,-192.529 85.0001,-192.529\" stroke=\"black\"/>\n",
       "</g>\n",
       "<!-- 139707030970320 -->\n",
       "<g class=\"node\" id=\"node8\"><title>139707030970320</title>\n",
       "<polygon fill=\"none\" points=\"30.5,-73.5 30.5,-109.5 132.5,-109.5 132.5,-73.5 30.5,-73.5\" stroke=\"black\"/>\n",
       "<text font-family=\"Times,serif\" font-size=\"14.00\" text-anchor=\"middle\" x=\"81.5\" y=\"-87.8\">dense_3: Dense</text>\n",
       "</g>\n",
       "<!-- 139707030967744&#45;&gt;139707030970320 -->\n",
       "<g class=\"edge\" id=\"edge7\"><title>139707030967744-&gt;139707030970320</title>\n",
       "<path d=\"M81.5,-146.313C81.5,-138.289 81.5,-128.547 81.5,-119.569\" fill=\"none\" stroke=\"black\"/>\n",
       "<polygon fill=\"black\" points=\"85.0001,-119.529 81.5,-109.529 78.0001,-119.529 85.0001,-119.529\" stroke=\"black\"/>\n",
       "</g>\n",
       "<!-- 139707033537504 -->\n",
       "<g class=\"node\" id=\"node9\"><title>139707033537504</title>\n",
       "<polygon fill=\"none\" points=\"7.5,-0.5 7.5,-36.5 155.5,-36.5 155.5,-0.5 7.5,-0.5\" stroke=\"black\"/>\n",
       "<text font-family=\"Times,serif\" font-size=\"14.00\" text-anchor=\"middle\" x=\"81.5\" y=\"-14.8\">activation_3: Activation</text>\n",
       "</g>\n",
       "<!-- 139707030970320&#45;&gt;139707033537504 -->\n",
       "<g class=\"edge\" id=\"edge8\"><title>139707030970320-&gt;139707033537504</title>\n",
       "<path d=\"M81.5,-73.3129C81.5,-65.2895 81.5,-55.5475 81.5,-46.5691\" fill=\"none\" stroke=\"black\"/>\n",
       "<polygon fill=\"black\" points=\"85.0001,-46.5288 81.5,-36.5288 78.0001,-46.5289 85.0001,-46.5288\" stroke=\"black\"/>\n",
       "</g>\n",
       "</g>\n",
       "</svg>"
      ],
      "text/plain": [
       "<IPython.core.display.SVG object>"
      ]
     },
     "execution_count": 11,
     "metadata": {},
     "output_type": "execute_result"
    }
   ],
   "source": [
    "SVG(model_to_dot(model).create(prog='dot', format='svg'))"
   ]
  },
  {
   "cell_type": "markdown",
   "metadata": {},
   "source": [
    "## Print End Result Accuracy"
   ]
  },
  {
   "cell_type": "code",
   "execution_count": 12,
   "metadata": {},
   "outputs": [
    {
     "name": "stdout",
     "output_type": "stream",
     "text": [
      "1625/1625 [==============================] - 0s 66us/step\n",
      "Test score: 0.3314927610109489\n",
      "Test accuracy: 0.952\n"
     ]
    }
   ],
   "source": [
    "score = model.evaluate(X_test, Y_test, verbose=1)\n",
    "print('Test score:', score[0])\n",
    "print('Test accuracy:', score[1])"
   ]
  },
  {
   "cell_type": "markdown",
   "metadata": {},
   "source": [
    "## Display Correct Prediction Examples"
   ]
  },
  {
   "cell_type": "code",
   "execution_count": 13,
   "metadata": {},
   "outputs": [],
   "source": [
    "predicted_classes = model.predict_classes(X_test)\n",
    "\n",
    "correct_indices = np.nonzero(predicted_classes == y_test)[0]\n",
    "incorrect_indices = np.nonzero(predicted_classes != y_test)[0]"
   ]
  },
  {
   "cell_type": "code",
   "execution_count": 14,
   "metadata": {},
   "outputs": [
    {
     "data": {
      "image/png": "[encoded data removed]",
      "text/plain": [
       "<matplotlib.figure.Figure at 0x7f10994a0048>"
      ]
     },
     "metadata": {},
     "output_type": "display_data"
    }
   ],
   "source": [
    "num_figures = 6\n",
    "plt.figure(figsize=(16,8))\n",
    "for i, correct in enumerate(correct_indices[:num_figures]):\n",
    "    plt.subplot(1,num_figures,i+1)\n",
    "    plt.imshow(X_test[correct].reshape(28,28), cmap='gray', interpolation='none')\n",
    "    plt.title(\"Predicted {}, Class {}\".format(predicted_classes[correct], y_test[correct]))"
   ]
  },
  {
   "cell_type": "markdown",
   "metadata": {},
   "source": [
    "## Display Incorrect Prediction Examples"
   ]
  },
  {
   "cell_type": "code",
   "execution_count": 15,
   "metadata": {},
   "outputs": [
    {
     "data": {
      "image/png": "[encoded data removed]",
      "text/plain": [
       "<matplotlib.figure.Figure at 0x7f10994334e0>"
      ]
     },
     "metadata": {},
     "output_type": "display_data"
    }
   ],
   "source": [
    "num_figures = 6\n",
    "plt.figure(figsize=(16,8))\n",
    "for i, incorrect in enumerate(incorrect_indices[:num_figures]):\n",
    "    plt.subplot(1,num_figures,i+1)\n",
    "    plt.imshow(X_test[incorrect].reshape(28,28), cmap='gray', interpolation='none')\n",
    "    plt.title(\"Predicted {}, Class {}\".format(predicted_classes[incorrect], y_test[incorrect]))"
   ]
  },
  {
   "cell_type": "markdown",
   "metadata": {},
   "source": [
    "## Evaluation of Incorrect Prediction\n",
    "\n",
    "Above are six examples of the algorithm incorrectly predicting certain numbers within the data given. The neural network had difficulties in determining when a curve or line was connected to another or not, and did not accurately locate smaller gaps between lines (as in the third example, where it assumed an '8' and didn't notice the small gap making it a '2'). It also had trouble recognizing less common ways to write certain numbers. It was correctly able to identify a single vertical line as being a '1', but when written as a typed '1', like in example 4, it failed. The algorithm also could not accurately identify numbers that were blurry or poorly written, as the grayscale had a harder time determining separations between lines, as is the case in the final two examples."
   ]
  }
 ],
 "metadata": {
  "kernelspec": {
   "display_name": "Python 3",
   "language": "python",
   "name": "python3"
  },
  "language_info": {
   "codemirror_mode": {
    "name": "ipython",
    "version": 3
   },
   "file_extension": ".py",
   "mimetype": "text/x-python",
   "name": "python",
   "nbconvert_exporter": "python",
   "pygments_lexer": "ipython3",
   "version": "3.5.2"
  }
 },
 "nbformat": 4,
 "nbformat_minor": 2
}
