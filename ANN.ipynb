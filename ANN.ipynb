{
 "cells": [
  {
   "cell_type": "code",
   "execution_count": 1,
   "metadata": {},
   "outputs": [],
   "source": [
    "%matplotlib inline"
   ]
  },
  {
   "cell_type": "markdown",
   "metadata": {},
   "source": [
    "# Artificial Neural Networks\n",
    "This Artificial Neural Network(ANN) is composed of an input of 784 greyscale ratings from 0-255 representing each of the pixels in the 28x28 image. The 28x28 array representing the image is linearized to an array of length 784. This gets passed through two layers of 512 neurons each, to get an output of ten nodes, with only one activating to resprent the answer from 0-9. 100 epochs were used for training on 3900 of the 6500 data points to achieve a testing accuracy of 96.12%.\n",
    "\n",
    "## Import Dependencies\n",
    "We begin by importing the required packages."
   ]
  },
  {
   "cell_type": "code",
   "execution_count": 2,
   "metadata": {},
   "outputs": [
    {
     "name": "stderr",
     "output_type": "stream",
     "text": [
      "Using TensorFlow backend.\n"
     ]
    }
   ],
   "source": [
    "import numpy as np\n",
    "import matplotlib.pyplot as plt\n",
    "from keras.datasets import mnist\n",
    "from keras.models import Sequential\n",
    "from keras.layers.core import Dense, Dropout, Activation\n",
    "from keras.utils import np_utils\n",
    "from IPython.display import SVG\n",
    "from keras.utils.vis_utils import model_to_dot\n",
    "from sklearn.metrics import confusion_matrix"
   ]
  },
  {
   "cell_type": "markdown",
   "metadata": {},
   "source": [
    "## Load the Data"
   ]
  },
  {
   "cell_type": "code",
   "execution_count": 3,
   "metadata": {},
   "outputs": [
    {
     "name": "stdout",
     "output_type": "stream",
     "text": [
      "X_train original shape: (6500, 28, 28)\n",
      "y_train original shape: (6500,)\n"
     ]
    }
   ],
   "source": [
    "nb_classes = 10\n",
    "\n",
    "# the data, shuffled and split between tran and test sets\n",
    "X_raw = np.load('./data/images.npy')\n",
    "y_raw = np.load('./data/labels.npy')\n",
    "y_test = y_raw[4875:6500]\n",
    "# print(\"X_train original shape\", X_train.shape)\n",
    "# print(\"y_train original shape\", y_train.shape)\n",
    "print(\"X_train original shape:\", X_raw.shape)\n",
    "print(\"y_train original shape:\", y_raw.shape)"
   ]
  },
  {
   "cell_type": "markdown",
   "metadata": {},
   "source": [
    "### Print Out Example Data\n"
   ]
  },
  {
   "cell_type": "code",
   "execution_count": 4,
   "metadata": {},
   "outputs": [
    {
     "data": {
      "image/png": "[encoded data removed]",
      "text/plain": [
       "<matplotlib.figure.Figure at 0x7ff66bff1f28>"
      ]
     },
     "metadata": {},
     "output_type": "display_data"
    }
   ],
   "source": [
    "num_figures = 6\n",
    "plt.figure(figsize=(16,8))\n",
    "for i in range(num_figures):\n",
    "    plt.subplot(1,num_figures,i+1)\n",
    "    plt.imshow(X_raw[i], cmap='gray', interpolation='none')\n",
    "    plt.title(\"Class {}\".format(y_raw[i]))"
   ]
  },
  {
   "cell_type": "markdown",
   "metadata": {},
   "source": [
    "## Reshape The Data"
   ]
  },
  {
   "cell_type": "code",
   "execution_count": 5,
   "metadata": {},
   "outputs": [
    {
     "name": "stdout",
     "output_type": "stream",
     "text": [
      "Training matrix shape (3900, 784)\n",
      "Validation matrix shape (975, 784)\n",
      "Testing matrix shape (1625, 784)\n"
     ]
    }
   ],
   "source": [
    "X_train = X_raw[0:3900].reshape(3900, 784)\n",
    "X_valid = X_raw[3900:4875].reshape(975, 784)\n",
    "X_test = X_raw[4875:6500].reshape(1625, 784)\n",
    "\n",
    "X_train = X_train.astype('float32')\n",
    "X_valid = X_valid.astype('float32')\n",
    "X_test = X_test.astype('float32')\n",
    "X_train /= 255\n",
    "X_valid /= 255\n",
    "X_test /= 255\n",
    "print(\"Training matrix shape\", X_train.shape)\n",
    "print(\"Validation matrix shape\", X_valid.shape)\n",
    "print(\"Testing matrix shape\", X_test.shape)"
   ]
  },
  {
   "cell_type": "code",
   "execution_count": 6,
   "metadata": {},
   "outputs": [],
   "source": [
    "Y_train = np_utils.to_categorical(y_raw[0:3900], nb_classes)\n",
    "Y_valid = np_utils.to_categorical(y_raw[3900:4875], nb_classes)\n",
    "Y_test = np_utils.to_categorical(y_raw[4875:6500], nb_classes)"
   ]
  },
  {
   "cell_type": "markdown",
   "metadata": {},
   "source": [
    "## Build Our Model"
   ]
  },
  {
   "cell_type": "code",
   "execution_count": 7,
   "metadata": {},
   "outputs": [],
   "source": [
    "model = Sequential()\n",
    "model.add(Dense(512, input_shape=(784,)))\n",
    "model.add(Activation('relu'))\n",
    "                           \n",
    "model.add(Dropout(0.2))\n",
    "model.add(Dense(512))\n",
    "model.add(Activation('relu'))\n",
    "model.add(Dropout(0.2))\n",
    "model.add(Dense(10))\n",
    "model.add(Activation('softmax'))"
   ]
  },
  {
   "cell_type": "code",
   "execution_count": 10,
   "metadata": {},
   "outputs": [],
   "source": [
    "model.compile(loss='binary_crossentropy', optimizer='adam', metrics=['accuracy'])"
   ]
  },
  {
   "cell_type": "markdown",
   "metadata": {},
   "source": [
    "## Train the Model"
   ]
  },
  {
   "cell_type": "code",
   "execution_count": 11,
   "metadata": {},
   "outputs": [
    {
     "name": "stdout",
     "output_type": "stream",
     "text": [
      "Train on 3900 samples, validate on 975 samples\n",
      "Epoch 1/100\n",
      "3900/3900 [==============================] - 1s 209us/step - loss: 5.9633e-04 - acc: 0.9997 - val_loss: 0.0736 - val_acc: 0.9879\n",
      "Epoch 2/100\n",
      "3900/3900 [==============================] - 1s 171us/step - loss: 0.0018 - acc: 0.9994 - val_loss: 0.0859 - val_acc: 0.9881\n",
      "Epoch 3/100\n",
      "3900/3900 [==============================] - 1s 170us/step - loss: 0.0033 - acc: 0.9988 - val_loss: 0.0713 - val_acc: 0.9881\n",
      "Epoch 4/100\n",
      "3900/3900 [==============================] - 1s 175us/step - loss: 0.0027 - acc: 0.9992 - val_loss: 0.0612 - val_acc: 0.9893\n",
      "Epoch 5/100\n",
      "3900/3900 [==============================] - 1s 175us/step - loss: 0.0019 - acc: 0.9995 - val_loss: 0.0625 - val_acc: 0.9895\n",
      "Epoch 6/100\n",
      "3900/3900 [==============================] - 1s 170us/step - loss: 4.9150e-04 - acc: 0.9999 - val_loss: 0.0570 - val_acc: 0.9903\n",
      "Epoch 7/100\n",
      "3900/3900 [==============================] - 1s 173us/step - loss: 4.9495e-04 - acc: 0.9998 - val_loss: 0.0613 - val_acc: 0.9901\n",
      "Epoch 8/100\n",
      "3900/3900 [==============================] - 1s 178us/step - loss: 7.2265e-04 - acc: 0.9997 - val_loss: 0.0696 - val_acc: 0.9895\n",
      "Epoch 9/100\n",
      "3900/3900 [==============================] - 1s 179us/step - loss: 7.6596e-04 - acc: 0.9997 - val_loss: 0.0626 - val_acc: 0.9897\n",
      "Epoch 10/100\n",
      "3900/3900 [==============================] - 1s 173us/step - loss: 0.0018 - acc: 0.9995 - val_loss: 0.0695 - val_acc: 0.9885\n",
      "Epoch 11/100\n",
      "3900/3900 [==============================] - 1s 177us/step - loss: 0.0030 - acc: 0.9989 - val_loss: 0.0773 - val_acc: 0.9881\n",
      "Epoch 12/100\n",
      "3900/3900 [==============================] - 1s 175us/step - loss: 0.0026 - acc: 0.9992 - val_loss: 0.0727 - val_acc: 0.9887\n",
      "Epoch 13/100\n",
      "3900/3900 [==============================] - 1s 176us/step - loss: 0.0017 - acc: 0.9994 - val_loss: 0.0648 - val_acc: 0.9899\n",
      "Epoch 14/100\n",
      "3900/3900 [==============================] - 1s 176us/step - loss: 0.0032 - acc: 0.9989 - val_loss: 0.0782 - val_acc: 0.9870\n",
      "Epoch 15/100\n",
      "3900/3900 [==============================] - 1s 174us/step - loss: 0.0037 - acc: 0.9989 - val_loss: 0.0641 - val_acc: 0.9880\n",
      "Epoch 16/100\n",
      "3900/3900 [==============================] - 1s 173us/step - loss: 0.0039 - acc: 0.9985 - val_loss: 0.0880 - val_acc: 0.9861\n",
      "Epoch 17/100\n",
      "3900/3900 [==============================] - 1s 176us/step - loss: 0.0031 - acc: 0.9990 - val_loss: 0.0580 - val_acc: 0.9899\n",
      "Epoch 18/100\n",
      "3900/3900 [==============================] - 1s 175us/step - loss: 0.0023 - acc: 0.9994 - val_loss: 0.0617 - val_acc: 0.9887\n",
      "Epoch 19/100\n",
      "3900/3900 [==============================] - 1s 174us/step - loss: 0.0014 - acc: 0.9995 - val_loss: 0.0549 - val_acc: 0.9903\n",
      "Epoch 20/100\n",
      "3900/3900 [==============================] - 1s 173us/step - loss: 0.0013 - acc: 0.9996 - val_loss: 0.0621 - val_acc: 0.9898\n",
      "Epoch 21/100\n",
      "3900/3900 [==============================] - 1s 175us/step - loss: 9.9620e-04 - acc: 0.9997 - val_loss: 0.0596 - val_acc: 0.9904\n",
      "Epoch 22/100\n",
      "3900/3900 [==============================] - 1s 173us/step - loss: 2.6684e-04 - acc: 0.9999 - val_loss: 0.0574 - val_acc: 0.9901\n",
      "Epoch 23/100\n",
      "3900/3900 [==============================] - 1s 174us/step - loss: 9.3597e-04 - acc: 0.9997 - val_loss: 0.0655 - val_acc: 0.9893\n",
      "Epoch 24/100\n",
      "3900/3900 [==============================] - 1s 177us/step - loss: 3.8957e-04 - acc: 0.9999 - val_loss: 0.0569 - val_acc: 0.9910\n",
      "Epoch 25/100\n",
      "3900/3900 [==============================] - 1s 177us/step - loss: 7.2644e-05 - acc: 1.0000 - val_loss: 0.0554 - val_acc: 0.9908\n",
      "Epoch 26/100\n",
      "3900/3900 [==============================] - 1s 175us/step - loss: 9.7295e-05 - acc: 1.0000 - val_loss: 0.0570 - val_acc: 0.9910\n",
      "Epoch 27/100\n",
      "3900/3900 [==============================] - 1s 177us/step - loss: 7.8611e-05 - acc: 1.0000 - val_loss: 0.0566 - val_acc: 0.9917\n",
      "Epoch 28/100\n",
      "3900/3900 [==============================] - 1s 175us/step - loss: 1.4745e-04 - acc: 0.9999 - val_loss: 0.0583 - val_acc: 0.9903\n",
      "Epoch 29/100\n",
      "3900/3900 [==============================] - 1s 178us/step - loss: 2.4242e-04 - acc: 0.9999 - val_loss: 0.0563 - val_acc: 0.9910\n",
      "Epoch 30/100\n",
      "3900/3900 [==============================] - 1s 178us/step - loss: 2.8755e-05 - acc: 1.0000 - val_loss: 0.0556 - val_acc: 0.9913\n",
      "Epoch 31/100\n",
      "3900/3900 [==============================] - 1s 183us/step - loss: 1.0121e-04 - acc: 1.0000 - val_loss: 0.0629 - val_acc: 0.9910\n",
      "Epoch 32/100\n",
      "3900/3900 [==============================] - 1s 177us/step - loss: 1.4846e-04 - acc: 0.9999 - val_loss: 0.0635 - val_acc: 0.9909\n",
      "Epoch 33/100\n",
      "3900/3900 [==============================] - 1s 175us/step - loss: 5.1494e-05 - acc: 1.0000 - val_loss: 0.0612 - val_acc: 0.9911\n",
      "Epoch 34/100\n",
      "3900/3900 [==============================] - 1s 183us/step - loss: 7.4325e-05 - acc: 0.9999 - val_loss: 0.0652 - val_acc: 0.9902\n",
      "Epoch 35/100\n",
      "3900/3900 [==============================] - 1s 177us/step - loss: 1.1240e-04 - acc: 1.0000 - val_loss: 0.0593 - val_acc: 0.9901\n",
      "Epoch 36/100\n",
      "3900/3900 [==============================] - 1s 180us/step - loss: 6.5613e-05 - acc: 1.0000 - val_loss: 0.0580 - val_acc: 0.9908\n",
      "Epoch 37/100\n",
      "3900/3900 [==============================] - 1s 183us/step - loss: 2.1779e-05 - acc: 1.0000 - val_loss: 0.0592 - val_acc: 0.9912\n",
      "Epoch 38/100\n",
      "3900/3900 [==============================] - 1s 174us/step - loss: 3.9699e-05 - acc: 1.0000 - val_loss: 0.0614 - val_acc: 0.9910\n",
      "Epoch 39/100\n",
      "3900/3900 [==============================] - 1s 175us/step - loss: 2.7430e-05 - acc: 1.0000 - val_loss: 0.0615 - val_acc: 0.9910\n",
      "Epoch 40/100\n",
      "3900/3900 [==============================] - 1s 173us/step - loss: 1.9541e-05 - acc: 1.0000 - val_loss: 0.0628 - val_acc: 0.9910\n",
      "Epoch 41/100\n",
      "3900/3900 [==============================] - 1s 176us/step - loss: 1.5054e-05 - acc: 1.0000 - val_loss: 0.0621 - val_acc: 0.9909\n",
      "Epoch 42/100\n",
      "3900/3900 [==============================] - 1s 176us/step - loss: 4.2215e-05 - acc: 1.0000 - val_loss: 0.0692 - val_acc: 0.9901\n",
      "Epoch 43/100\n",
      "3900/3900 [==============================] - 1s 177us/step - loss: 1.4520e-04 - acc: 0.9999 - val_loss: 0.0637 - val_acc: 0.9904\n",
      "Epoch 44/100\n",
      "3900/3900 [==============================] - 1s 190us/step - loss: 2.1727e-04 - acc: 0.9999 - val_loss: 0.0641 - val_acc: 0.9903\n",
      "Epoch 45/100\n",
      "3900/3900 [==============================] - 1s 178us/step - loss: 4.3588e-05 - acc: 1.0000 - val_loss: 0.0674 - val_acc: 0.9904\n",
      "Epoch 46/100\n",
      "3900/3900 [==============================] - 1s 177us/step - loss: 8.7487e-05 - acc: 0.9999 - val_loss: 0.0619 - val_acc: 0.9909\n",
      "Epoch 47/100\n",
      "3900/3900 [==============================] - 1s 179us/step - loss: 1.6331e-04 - acc: 0.9999 - val_loss: 0.0685 - val_acc: 0.9897\n",
      "Epoch 48/100\n",
      "3900/3900 [==============================] - 1s 184us/step - loss: 1.0980e-04 - acc: 1.0000 - val_loss: 0.0659 - val_acc: 0.9903\n",
      "Epoch 49/100\n",
      "3900/3900 [==============================] - 1s 179us/step - loss: 8.6731e-04 - acc: 0.9998 - val_loss: 0.0709 - val_acc: 0.9885\n",
      "Epoch 50/100\n",
      "3900/3900 [==============================] - 1s 179us/step - loss: 0.0045 - acc: 0.9985 - val_loss: 0.0911 - val_acc: 0.9867\n",
      "Epoch 51/100\n",
      "3900/3900 [==============================] - 1s 178us/step - loss: 0.0060 - acc: 0.9980 - val_loss: 0.0805 - val_acc: 0.9870\n",
      "Epoch 52/100\n",
      "3900/3900 [==============================] - 1s 176us/step - loss: 0.0216 - acc: 0.9948 - val_loss: 0.0832 - val_acc: 0.9845\n",
      "Epoch 53/100\n",
      "3900/3900 [==============================] - 1s 181us/step - loss: 0.0113 - acc: 0.9968 - val_loss: 0.0719 - val_acc: 0.9888\n",
      "Epoch 54/100\n",
      "3900/3900 [==============================] - 1s 176us/step - loss: 0.0022 - acc: 0.9993 - val_loss: 0.0626 - val_acc: 0.9889\n",
      "Epoch 55/100\n",
      "3900/3900 [==============================] - 1s 193us/step - loss: 0.0012 - acc: 0.9996 - val_loss: 0.0623 - val_acc: 0.9906\n",
      "Epoch 56/100\n",
      "3900/3900 [==============================] - 1s 187us/step - loss: 4.7658e-04 - acc: 0.9998 - val_loss: 0.0635 - val_acc: 0.9891\n",
      "Epoch 57/100\n",
      "3900/3900 [==============================] - 1s 178us/step - loss: 4.8114e-04 - acc: 0.9998 - val_loss: 0.0649 - val_acc: 0.9886\n",
      "Epoch 58/100\n",
      "3900/3900 [==============================] - 1s 180us/step - loss: 3.5822e-04 - acc: 0.9998 - val_loss: 0.0636 - val_acc: 0.9894\n",
      "Epoch 59/100\n"
     ]
    },
    {
     "name": "stdout",
     "output_type": "stream",
     "text": [
      "3900/3900 [==============================] - 1s 175us/step - loss: 4.1678e-04 - acc: 0.9999 - val_loss: 0.0621 - val_acc: 0.9903\n",
      "Epoch 60/100\n",
      "3900/3900 [==============================] - 1s 171us/step - loss: 3.8187e-04 - acc: 0.9999 - val_loss: 0.0628 - val_acc: 0.9909\n",
      "Epoch 61/100\n",
      "3900/3900 [==============================] - 1s 164us/step - loss: 5.2921e-04 - acc: 0.9999 - val_loss: 0.0599 - val_acc: 0.9895\n",
      "Epoch 62/100\n",
      "3900/3900 [==============================] - 1s 165us/step - loss: 1.6443e-04 - acc: 1.0000 - val_loss: 0.0575 - val_acc: 0.9911\n",
      "Epoch 63/100\n",
      "3900/3900 [==============================] - 1s 166us/step - loss: 9.5621e-05 - acc: 1.0000 - val_loss: 0.0626 - val_acc: 0.9909\n",
      "Epoch 64/100\n",
      "3900/3900 [==============================] - 1s 165us/step - loss: 5.4207e-04 - acc: 0.9998 - val_loss: 0.0725 - val_acc: 0.9901\n",
      "Epoch 65/100\n",
      "3900/3900 [==============================] - 1s 166us/step - loss: 1.6385e-04 - acc: 1.0000 - val_loss: 0.0663 - val_acc: 0.9903\n",
      "Epoch 66/100\n",
      "3900/3900 [==============================] - 1s 166us/step - loss: 1.1091e-04 - acc: 0.9999 - val_loss: 0.0666 - val_acc: 0.9908\n",
      "Epoch 67/100\n",
      "3900/3900 [==============================] - 1s 166us/step - loss: 2.3556e-04 - acc: 0.9999 - val_loss: 0.0695 - val_acc: 0.9898\n",
      "Epoch 68/100\n",
      "3900/3900 [==============================] - 1s 164us/step - loss: 5.8291e-05 - acc: 1.0000 - val_loss: 0.0696 - val_acc: 0.9897\n",
      "Epoch 69/100\n",
      "3900/3900 [==============================] - 1s 164us/step - loss: 4.8901e-05 - acc: 1.0000 - val_loss: 0.0682 - val_acc: 0.9897\n",
      "Epoch 70/100\n",
      "3900/3900 [==============================] - 1s 166us/step - loss: 5.0731e-05 - acc: 1.0000 - val_loss: 0.0680 - val_acc: 0.9903\n",
      "Epoch 71/100\n",
      "3900/3900 [==============================] - 1s 164us/step - loss: 1.0551e-04 - acc: 1.0000 - val_loss: 0.0683 - val_acc: 0.9901\n",
      "Epoch 72/100\n",
      "3900/3900 [==============================] - 1s 167us/step - loss: 3.0920e-05 - acc: 1.0000 - val_loss: 0.0693 - val_acc: 0.9899\n",
      "Epoch 73/100\n",
      "3900/3900 [==============================] - 1s 168us/step - loss: 2.2567e-05 - acc: 1.0000 - val_loss: 0.0692 - val_acc: 0.9896\n",
      "Epoch 74/100\n",
      "3900/3900 [==============================] - 1s 168us/step - loss: 1.6792e-04 - acc: 0.9999 - val_loss: 0.0710 - val_acc: 0.9898\n",
      "Epoch 75/100\n",
      "3900/3900 [==============================] - 1s 164us/step - loss: 9.2469e-04 - acc: 0.9998 - val_loss: 0.0705 - val_acc: 0.9891\n",
      "Epoch 76/100\n",
      "3900/3900 [==============================] - 1s 166us/step - loss: 2.8486e-04 - acc: 0.9999 - val_loss: 0.0730 - val_acc: 0.9902\n",
      "Epoch 77/100\n",
      "3900/3900 [==============================] - 1s 163us/step - loss: 2.4055e-04 - acc: 0.9999 - val_loss: 0.0686 - val_acc: 0.9902\n",
      "Epoch 78/100\n",
      "3900/3900 [==============================] - 1s 166us/step - loss: 1.6742e-04 - acc: 1.0000 - val_loss: 0.0648 - val_acc: 0.9912\n",
      "Epoch 79/100\n",
      "3900/3900 [==============================] - 1s 167us/step - loss: 2.6347e-04 - acc: 0.9999 - val_loss: 0.0644 - val_acc: 0.9908\n",
      "Epoch 80/100\n",
      "3900/3900 [==============================] - 1s 167us/step - loss: 6.9072e-05 - acc: 1.0000 - val_loss: 0.0668 - val_acc: 0.9908\n",
      "Epoch 81/100\n",
      "3900/3900 [==============================] - 1s 167us/step - loss: 3.6927e-05 - acc: 1.0000 - val_loss: 0.0662 - val_acc: 0.9909\n",
      "Epoch 82/100\n",
      "3900/3900 [==============================] - 1s 164us/step - loss: 6.2038e-05 - acc: 1.0000 - val_loss: 0.0663 - val_acc: 0.9909\n",
      "Epoch 83/100\n",
      "3900/3900 [==============================] - 1s 162us/step - loss: 4.9515e-05 - acc: 1.0000 - val_loss: 0.0701 - val_acc: 0.9906\n",
      "Epoch 84/100\n",
      "3900/3900 [==============================] - 1s 162us/step - loss: 2.2240e-05 - acc: 1.0000 - val_loss: 0.0709 - val_acc: 0.9907\n",
      "Epoch 85/100\n",
      "3900/3900 [==============================] - 1s 165us/step - loss: 1.9433e-05 - acc: 1.0000 - val_loss: 0.0698 - val_acc: 0.9905\n",
      "Epoch 86/100\n",
      "3900/3900 [==============================] - 1s 169us/step - loss: 2.3739e-05 - acc: 1.0000 - val_loss: 0.0702 - val_acc: 0.9905\n",
      "Epoch 87/100\n",
      "3900/3900 [==============================] - 1s 168us/step - loss: 2.6627e-05 - acc: 1.0000 - val_loss: 0.0700 - val_acc: 0.9907\n",
      "Epoch 88/100\n",
      "3900/3900 [==============================] - 1s 168us/step - loss: 2.7891e-05 - acc: 1.0000 - val_loss: 0.0686 - val_acc: 0.9907\n",
      "Epoch 89/100\n",
      "3900/3900 [==============================] - 1s 164us/step - loss: 1.5637e-05 - acc: 1.0000 - val_loss: 0.0688 - val_acc: 0.9907\n",
      "Epoch 90/100\n",
      "3900/3900 [==============================] - 1s 167us/step - loss: 1.2095e-05 - acc: 1.0000 - val_loss: 0.0693 - val_acc: 0.9907\n",
      "Epoch 91/100\n",
      "3900/3900 [==============================] - 1s 164us/step - loss: 2.5025e-05 - acc: 1.0000 - val_loss: 0.0693 - val_acc: 0.9909\n",
      "Epoch 92/100\n",
      "3900/3900 [==============================] - 1s 164us/step - loss: 7.2455e-06 - acc: 1.0000 - val_loss: 0.0694 - val_acc: 0.9906\n",
      "Epoch 93/100\n",
      "3900/3900 [==============================] - 1s 167us/step - loss: 9.9355e-06 - acc: 1.0000 - val_loss: 0.0697 - val_acc: 0.9907\n",
      "Epoch 94/100\n",
      "3900/3900 [==============================] - 1s 165us/step - loss: 1.7138e-05 - acc: 1.0000 - val_loss: 0.0701 - val_acc: 0.9905\n",
      "Epoch 95/100\n",
      "3900/3900 [==============================] - 1s 176us/step - loss: 1.8895e-05 - acc: 1.0000 - val_loss: 0.0717 - val_acc: 0.9905\n",
      "Epoch 96/100\n",
      "3900/3900 [==============================] - 1s 180us/step - loss: 1.1540e-05 - acc: 1.0000 - val_loss: 0.0712 - val_acc: 0.9906\n",
      "Epoch 97/100\n",
      "3900/3900 [==============================] - 1s 172us/step - loss: 9.8456e-06 - acc: 1.0000 - val_loss: 0.0709 - val_acc: 0.9905\n",
      "Epoch 98/100\n",
      "3900/3900 [==============================] - 1s 169us/step - loss: 7.7369e-05 - acc: 0.9999 - val_loss: 0.0761 - val_acc: 0.9894\n",
      "Epoch 99/100\n",
      "3900/3900 [==============================] - 1s 202us/step - loss: 4.8312e-04 - acc: 0.9997 - val_loss: 0.0772 - val_acc: 0.9885\n",
      "Epoch 100/100\n",
      "3900/3900 [==============================] - 1s 181us/step - loss: 0.0011 - acc: 0.9996 - val_loss: 0.0819 - val_acc: 0.9882\n"
     ]
    }
   ],
   "source": [
    "history = model.fit(X_train, Y_train,\n",
    "          batch_size=128, \n",
    "          epochs=100,\n",
    "          verbose=1,\n",
    "          validation_data=(X_valid, Y_valid))"
   ]
  },
  {
   "cell_type": "markdown",
   "metadata": {},
   "source": [
    "## Generate Loss and Accuracy Graphs by Epoch"
   ]
  },
  {
   "cell_type": "code",
   "execution_count": 12,
   "metadata": {},
   "outputs": [
    {
     "data": {
      "text/plain": [
       "<matplotlib.legend.Legend at 0x7ff618f055f8>"
      ]
     },
     "execution_count": 12,
     "metadata": {},
     "output_type": "execute_result"
    },
    {
     "data": {
      "image/png": "[encoded data removed]",
      "text/plain": [
       "<matplotlib.figure.Figure at 0x7ff6641757b8>"
      ]
     },
     "metadata": {},
     "output_type": "display_data"
    }
   ],
   "source": [
    "plt.figure(figsize=(16,5))\n",
    "plt.subplot(1,2,1)\n",
    "plt.title('Loss per Epoch')\n",
    "plt.xlabel('Epochs')\n",
    "plt.ylabel('Loss')\n",
    "plt.plot(history.history['loss'])\n",
    "plt.plot(history.history['val_loss'])\n",
    "plt.legend(['Training', 'Validation'])\n",
    "\n",
    "plt.subplot(1,2,2)\n",
    "plt.title('Accuracy per Epoch')\n",
    "plt.xlabel('Epochs')\n",
    "plt.ylabel('Accuracy')\n",
    "plt.plot(history.history['acc'])\n",
    "plt.plot(history.history['val_acc'])\n",
    "plt.legend(['Training', 'Validation'], loc='lower right')"
   ]
  },
  {
   "cell_type": "code",
   "execution_count": 13,
   "metadata": {},
   "outputs": [
    {
     "data": {
      "image/svg+xml": [
       "<svg height=\"719pt\" viewBox=\"0.00 0.00 309.00 719.00\" width=\"309pt\" xmlns=\"http://www.w3.org/2000/svg\" xmlns:xlink=\"http://www.w3.org/1999/xlink\">\n",
       "<g class=\"graph\" id=\"graph0\" transform=\"scale(1 1) rotate(0) translate(4 715)\">\n",
       "<title>G</title>\n",
       "<polygon fill=\"white\" points=\"-4,4 -4,-715 305,-715 305,4 -4,4\" stroke=\"none\"/>\n",
       "<!-- 140696304164312 -->\n",
       "<g class=\"node\" id=\"node1\"><title>140696304164312</title>\n",
       "<polygon fill=\"none\" points=\"0,-664.5 0,-710.5 301,-710.5 301,-664.5 0,-664.5\" stroke=\"black\"/>\n",
       "<text font-family=\"Times,serif\" font-size=\"14.00\" text-anchor=\"middle\" x=\"81.5\" y=\"-683.8\">dense_1_input: InputLayer</text>\n",
       "<polyline fill=\"none\" points=\"163,-664.5 163,-710.5 \" stroke=\"black\"/>\n",
       "<text font-family=\"Times,serif\" font-size=\"14.00\" text-anchor=\"middle\" x=\"190.5\" y=\"-695.3\">input:</text>\n",
       "<polyline fill=\"none\" points=\"163,-687.5 218,-687.5 \" stroke=\"black\"/>\n",
       "<text font-family=\"Times,serif\" font-size=\"14.00\" text-anchor=\"middle\" x=\"190.5\" y=\"-672.3\">output:</text>\n",
       "<polyline fill=\"none\" points=\"218,-664.5 218,-710.5 \" stroke=\"black\"/>\n",
       "<text font-family=\"Times,serif\" font-size=\"14.00\" text-anchor=\"middle\" x=\"259.5\" y=\"-695.3\">(None, 784)</text>\n",
       "<polyline fill=\"none\" points=\"218,-687.5 301,-687.5 \" stroke=\"black\"/>\n",
       "<text font-family=\"Times,serif\" font-size=\"14.00\" text-anchor=\"middle\" x=\"259.5\" y=\"-672.3\">(None, 784)</text>\n",
       "</g>\n",
       "<!-- 140696350561728 -->\n",
       "<g class=\"node\" id=\"node2\"><title>140696350561728</title>\n",
       "<polygon fill=\"none\" points=\"30.5,-581.5 30.5,-627.5 270.5,-627.5 270.5,-581.5 30.5,-581.5\" stroke=\"black\"/>\n",
       "<text font-family=\"Times,serif\" font-size=\"14.00\" text-anchor=\"middle\" x=\"81.5\" y=\"-600.8\">dense_1: Dense</text>\n",
       "<polyline fill=\"none\" points=\"132.5,-581.5 132.5,-627.5 \" stroke=\"black\"/>\n",
       "<text font-family=\"Times,serif\" font-size=\"14.00\" text-anchor=\"middle\" x=\"160\" y=\"-612.3\">input:</text>\n",
       "<polyline fill=\"none\" points=\"132.5,-604.5 187.5,-604.5 \" stroke=\"black\"/>\n",
       "<text font-family=\"Times,serif\" font-size=\"14.00\" text-anchor=\"middle\" x=\"160\" y=\"-589.3\">output:</text>\n",
       "<polyline fill=\"none\" points=\"187.5,-581.5 187.5,-627.5 \" stroke=\"black\"/>\n",
       "<text font-family=\"Times,serif\" font-size=\"14.00\" text-anchor=\"middle\" x=\"229\" y=\"-612.3\">(None, 784)</text>\n",
       "<polyline fill=\"none\" points=\"187.5,-604.5 270.5,-604.5 \" stroke=\"black\"/>\n",
       "<text font-family=\"Times,serif\" font-size=\"14.00\" text-anchor=\"middle\" x=\"229\" y=\"-589.3\">(None, 512)</text>\n",
       "</g>\n",
       "<!-- 140696304164312&#45;&gt;140696350561728 -->\n",
       "<g class=\"edge\" id=\"edge1\"><title>140696304164312-&gt;140696350561728</title>\n",
       "<path d=\"M150.5,-664.366C150.5,-656.152 150.5,-646.658 150.5,-637.725\" fill=\"none\" stroke=\"black\"/>\n",
       "<polygon fill=\"black\" points=\"154,-637.607 150.5,-627.607 147,-637.607 154,-637.607\" stroke=\"black\"/>\n",
       "</g>\n",
       "<!-- 140696365599544 -->\n",
       "<g class=\"node\" id=\"node3\"><title>140696365599544</title>\n",
       "<polygon fill=\"none\" points=\"7.5,-498.5 7.5,-544.5 293.5,-544.5 293.5,-498.5 7.5,-498.5\" stroke=\"black\"/>\n",
       "<text font-family=\"Times,serif\" font-size=\"14.00\" text-anchor=\"middle\" x=\"81.5\" y=\"-517.8\">activation_1: Activation</text>\n",
       "<polyline fill=\"none\" points=\"155.5,-498.5 155.5,-544.5 \" stroke=\"black\"/>\n",
       "<text font-family=\"Times,serif\" font-size=\"14.00\" text-anchor=\"middle\" x=\"183\" y=\"-529.3\">input:</text>\n",
       "<polyline fill=\"none\" points=\"155.5,-521.5 210.5,-521.5 \" stroke=\"black\"/>\n",
       "<text font-family=\"Times,serif\" font-size=\"14.00\" text-anchor=\"middle\" x=\"183\" y=\"-506.3\">output:</text>\n",
       "<polyline fill=\"none\" points=\"210.5,-498.5 210.5,-544.5 \" stroke=\"black\"/>\n",
       "<text font-family=\"Times,serif\" font-size=\"14.00\" text-anchor=\"middle\" x=\"252\" y=\"-529.3\">(None, 512)</text>\n",
       "<polyline fill=\"none\" points=\"210.5,-521.5 293.5,-521.5 \" stroke=\"black\"/>\n",
       "<text font-family=\"Times,serif\" font-size=\"14.00\" text-anchor=\"middle\" x=\"252\" y=\"-506.3\">(None, 512)</text>\n",
       "</g>\n",
       "<!-- 140696350561728&#45;&gt;140696365599544 -->\n",
       "<g class=\"edge\" id=\"edge2\"><title>140696350561728-&gt;140696365599544</title>\n",
       "<path d=\"M150.5,-581.366C150.5,-573.152 150.5,-563.658 150.5,-554.725\" fill=\"none\" stroke=\"black\"/>\n",
       "<polygon fill=\"black\" points=\"154,-554.607 150.5,-544.607 147,-554.607 154,-554.607\" stroke=\"black\"/>\n",
       "</g>\n",
       "<!-- 140696365599936 -->\n",
       "<g class=\"node\" id=\"node4\"><title>140696365599936</title>\n",
       "<polygon fill=\"none\" points=\"19,-415.5 19,-461.5 282,-461.5 282,-415.5 19,-415.5\" stroke=\"black\"/>\n",
       "<text font-family=\"Times,serif\" font-size=\"14.00\" text-anchor=\"middle\" x=\"81.5\" y=\"-434.8\">dropout_1: Dropout</text>\n",
       "<polyline fill=\"none\" points=\"144,-415.5 144,-461.5 \" stroke=\"black\"/>\n",
       "<text font-family=\"Times,serif\" font-size=\"14.00\" text-anchor=\"middle\" x=\"171.5\" y=\"-446.3\">input:</text>\n",
       "<polyline fill=\"none\" points=\"144,-438.5 199,-438.5 \" stroke=\"black\"/>\n",
       "<text font-family=\"Times,serif\" font-size=\"14.00\" text-anchor=\"middle\" x=\"171.5\" y=\"-423.3\">output:</text>\n",
       "<polyline fill=\"none\" points=\"199,-415.5 199,-461.5 \" stroke=\"black\"/>\n",
       "<text font-family=\"Times,serif\" font-size=\"14.00\" text-anchor=\"middle\" x=\"240.5\" y=\"-446.3\">(None, 512)</text>\n",
       "<polyline fill=\"none\" points=\"199,-438.5 282,-438.5 \" stroke=\"black\"/>\n",
       "<text font-family=\"Times,serif\" font-size=\"14.00\" text-anchor=\"middle\" x=\"240.5\" y=\"-423.3\">(None, 512)</text>\n",
       "</g>\n",
       "<!-- 140696365599544&#45;&gt;140696365599936 -->\n",
       "<g class=\"edge\" id=\"edge3\"><title>140696365599544-&gt;140696365599936</title>\n",
       "<path d=\"M150.5,-498.366C150.5,-490.152 150.5,-480.658 150.5,-471.725\" fill=\"none\" stroke=\"black\"/>\n",
       "<polygon fill=\"black\" points=\"154,-471.607 150.5,-461.607 147,-471.607 154,-471.607\" stroke=\"black\"/>\n",
       "</g>\n",
       "<!-- 140696301004784 -->\n",
       "<g class=\"node\" id=\"node5\"><title>140696301004784</title>\n",
       "<polygon fill=\"none\" points=\"30.5,-332.5 30.5,-378.5 270.5,-378.5 270.5,-332.5 30.5,-332.5\" stroke=\"black\"/>\n",
       "<text font-family=\"Times,serif\" font-size=\"14.00\" text-anchor=\"middle\" x=\"81.5\" y=\"-351.8\">dense_2: Dense</text>\n",
       "<polyline fill=\"none\" points=\"132.5,-332.5 132.5,-378.5 \" stroke=\"black\"/>\n",
       "<text font-family=\"Times,serif\" font-size=\"14.00\" text-anchor=\"middle\" x=\"160\" y=\"-363.3\">input:</text>\n",
       "<polyline fill=\"none\" points=\"132.5,-355.5 187.5,-355.5 \" stroke=\"black\"/>\n",
       "<text font-family=\"Times,serif\" font-size=\"14.00\" text-anchor=\"middle\" x=\"160\" y=\"-340.3\">output:</text>\n",
       "<polyline fill=\"none\" points=\"187.5,-332.5 187.5,-378.5 \" stroke=\"black\"/>\n",
       "<text font-family=\"Times,serif\" font-size=\"14.00\" text-anchor=\"middle\" x=\"229\" y=\"-363.3\">(None, 512)</text>\n",
       "<polyline fill=\"none\" points=\"187.5,-355.5 270.5,-355.5 \" stroke=\"black\"/>\n",
       "<text font-family=\"Times,serif\" font-size=\"14.00\" text-anchor=\"middle\" x=\"229\" y=\"-340.3\">(None, 512)</text>\n",
       "</g>\n",
       "<!-- 140696365599936&#45;&gt;140696301004784 -->\n",
       "<g class=\"edge\" id=\"edge4\"><title>140696365599936-&gt;140696301004784</title>\n",
       "<path d=\"M150.5,-415.366C150.5,-407.152 150.5,-397.658 150.5,-388.725\" fill=\"none\" stroke=\"black\"/>\n",
       "<polygon fill=\"black\" points=\"154,-388.607 150.5,-378.607 147,-388.607 154,-388.607\" stroke=\"black\"/>\n",
       "</g>\n",
       "<!-- 140696301005792 -->\n",
       "<g class=\"node\" id=\"node6\"><title>140696301005792</title>\n",
       "<polygon fill=\"none\" points=\"7.5,-249.5 7.5,-295.5 293.5,-295.5 293.5,-249.5 7.5,-249.5\" stroke=\"black\"/>\n",
       "<text font-family=\"Times,serif\" font-size=\"14.00\" text-anchor=\"middle\" x=\"81.5\" y=\"-268.8\">activation_2: Activation</text>\n",
       "<polyline fill=\"none\" points=\"155.5,-249.5 155.5,-295.5 \" stroke=\"black\"/>\n",
       "<text font-family=\"Times,serif\" font-size=\"14.00\" text-anchor=\"middle\" x=\"183\" y=\"-280.3\">input:</text>\n",
       "<polyline fill=\"none\" points=\"155.5,-272.5 210.5,-272.5 \" stroke=\"black\"/>\n",
       "<text font-family=\"Times,serif\" font-size=\"14.00\" text-anchor=\"middle\" x=\"183\" y=\"-257.3\">output:</text>\n",
       "<polyline fill=\"none\" points=\"210.5,-249.5 210.5,-295.5 \" stroke=\"black\"/>\n",
       "<text font-family=\"Times,serif\" font-size=\"14.00\" text-anchor=\"middle\" x=\"252\" y=\"-280.3\">(None, 512)</text>\n",
       "<polyline fill=\"none\" points=\"210.5,-272.5 293.5,-272.5 \" stroke=\"black\"/>\n",
       "<text font-family=\"Times,serif\" font-size=\"14.00\" text-anchor=\"middle\" x=\"252\" y=\"-257.3\">(None, 512)</text>\n",
       "</g>\n",
       "<!-- 140696301004784&#45;&gt;140696301005792 -->\n",
       "<g class=\"edge\" id=\"edge5\"><title>140696301004784-&gt;140696301005792</title>\n",
       "<path d=\"M150.5,-332.366C150.5,-324.152 150.5,-314.658 150.5,-305.725\" fill=\"none\" stroke=\"black\"/>\n",
       "<polygon fill=\"black\" points=\"154,-305.607 150.5,-295.607 147,-305.607 154,-305.607\" stroke=\"black\"/>\n",
       "</g>\n",
       "<!-- 140696304424552 -->\n",
       "<g class=\"node\" id=\"node7\"><title>140696304424552</title>\n",
       "<polygon fill=\"none\" points=\"19,-166.5 19,-212.5 282,-212.5 282,-166.5 19,-166.5\" stroke=\"black\"/>\n",
       "<text font-family=\"Times,serif\" font-size=\"14.00\" text-anchor=\"middle\" x=\"81.5\" y=\"-185.8\">dropout_2: Dropout</text>\n",
       "<polyline fill=\"none\" points=\"144,-166.5 144,-212.5 \" stroke=\"black\"/>\n",
       "<text font-family=\"Times,serif\" font-size=\"14.00\" text-anchor=\"middle\" x=\"171.5\" y=\"-197.3\">input:</text>\n",
       "<polyline fill=\"none\" points=\"144,-189.5 199,-189.5 \" stroke=\"black\"/>\n",
       "<text font-family=\"Times,serif\" font-size=\"14.00\" text-anchor=\"middle\" x=\"171.5\" y=\"-174.3\">output:</text>\n",
       "<polyline fill=\"none\" points=\"199,-166.5 199,-212.5 \" stroke=\"black\"/>\n",
       "<text font-family=\"Times,serif\" font-size=\"14.00\" text-anchor=\"middle\" x=\"240.5\" y=\"-197.3\">(None, 512)</text>\n",
       "<polyline fill=\"none\" points=\"199,-189.5 282,-189.5 \" stroke=\"black\"/>\n",
       "<text font-family=\"Times,serif\" font-size=\"14.00\" text-anchor=\"middle\" x=\"240.5\" y=\"-174.3\">(None, 512)</text>\n",
       "</g>\n",
       "<!-- 140696301005792&#45;&gt;140696304424552 -->\n",
       "<g class=\"edge\" id=\"edge6\"><title>140696301005792-&gt;140696304424552</title>\n",
       "<path d=\"M150.5,-249.366C150.5,-241.152 150.5,-231.658 150.5,-222.725\" fill=\"none\" stroke=\"black\"/>\n",
       "<polygon fill=\"black\" points=\"154,-222.607 150.5,-212.607 147,-222.607 154,-222.607\" stroke=\"black\"/>\n",
       "</g>\n",
       "<!-- 140696304424384 -->\n",
       "<g class=\"node\" id=\"node8\"><title>140696304424384</title>\n",
       "<polygon fill=\"none\" points=\"30.5,-83.5 30.5,-129.5 270.5,-129.5 270.5,-83.5 30.5,-83.5\" stroke=\"black\"/>\n",
       "<text font-family=\"Times,serif\" font-size=\"14.00\" text-anchor=\"middle\" x=\"81.5\" y=\"-102.8\">dense_3: Dense</text>\n",
       "<polyline fill=\"none\" points=\"132.5,-83.5 132.5,-129.5 \" stroke=\"black\"/>\n",
       "<text font-family=\"Times,serif\" font-size=\"14.00\" text-anchor=\"middle\" x=\"160\" y=\"-114.3\">input:</text>\n",
       "<polyline fill=\"none\" points=\"132.5,-106.5 187.5,-106.5 \" stroke=\"black\"/>\n",
       "<text font-family=\"Times,serif\" font-size=\"14.00\" text-anchor=\"middle\" x=\"160\" y=\"-91.3\">output:</text>\n",
       "<polyline fill=\"none\" points=\"187.5,-83.5 187.5,-129.5 \" stroke=\"black\"/>\n",
       "<text font-family=\"Times,serif\" font-size=\"14.00\" text-anchor=\"middle\" x=\"229\" y=\"-114.3\">(None, 512)</text>\n",
       "<polyline fill=\"none\" points=\"187.5,-106.5 270.5,-106.5 \" stroke=\"black\"/>\n",
       "<text font-family=\"Times,serif\" font-size=\"14.00\" text-anchor=\"middle\" x=\"229\" y=\"-91.3\">(None, 10)</text>\n",
       "</g>\n",
       "<!-- 140696304424552&#45;&gt;140696304424384 -->\n",
       "<g class=\"edge\" id=\"edge7\"><title>140696304424552-&gt;140696304424384</title>\n",
       "<path d=\"M150.5,-166.366C150.5,-158.152 150.5,-148.658 150.5,-139.725\" fill=\"none\" stroke=\"black\"/>\n",
       "<polygon fill=\"black\" points=\"154,-139.607 150.5,-129.607 147,-139.607 154,-139.607\" stroke=\"black\"/>\n",
       "</g>\n",
       "<!-- 140696304724848 -->\n",
       "<g class=\"node\" id=\"node9\"><title>140696304724848</title>\n",
       "<polygon fill=\"none\" points=\"11,-0.5 11,-46.5 290,-46.5 290,-0.5 11,-0.5\" stroke=\"black\"/>\n",
       "<text font-family=\"Times,serif\" font-size=\"14.00\" text-anchor=\"middle\" x=\"85\" y=\"-19.8\">activation_3: Activation</text>\n",
       "<polyline fill=\"none\" points=\"159,-0.5 159,-46.5 \" stroke=\"black\"/>\n",
       "<text font-family=\"Times,serif\" font-size=\"14.00\" text-anchor=\"middle\" x=\"186.5\" y=\"-31.3\">input:</text>\n",
       "<polyline fill=\"none\" points=\"159,-23.5 214,-23.5 \" stroke=\"black\"/>\n",
       "<text font-family=\"Times,serif\" font-size=\"14.00\" text-anchor=\"middle\" x=\"186.5\" y=\"-8.3\">output:</text>\n",
       "<polyline fill=\"none\" points=\"214,-0.5 214,-46.5 \" stroke=\"black\"/>\n",
       "<text font-family=\"Times,serif\" font-size=\"14.00\" text-anchor=\"middle\" x=\"252\" y=\"-31.3\">(None, 10)</text>\n",
       "<polyline fill=\"none\" points=\"214,-23.5 290,-23.5 \" stroke=\"black\"/>\n",
       "<text font-family=\"Times,serif\" font-size=\"14.00\" text-anchor=\"middle\" x=\"252\" y=\"-8.3\">(None, 10)</text>\n",
       "</g>\n",
       "<!-- 140696304424384&#45;&gt;140696304724848 -->\n",
       "<g class=\"edge\" id=\"edge8\"><title>140696304424384-&gt;140696304724848</title>\n",
       "<path d=\"M150.5,-83.3664C150.5,-75.1516 150.5,-65.6579 150.5,-56.7252\" fill=\"none\" stroke=\"black\"/>\n",
       "<polygon fill=\"black\" points=\"154,-56.6068 150.5,-46.6068 147,-56.6069 154,-56.6068\" stroke=\"black\"/>\n",
       "</g>\n",
       "</g>\n",
       "</svg>"
      ],
      "text/plain": [
       "<IPython.core.display.SVG object>"
      ]
     },
     "execution_count": 13,
     "metadata": {},
     "output_type": "execute_result"
    }
   ],
   "source": [
    "SVG(model_to_dot(model, show_shapes=True, rankdir='TD').create(prog='dot', format='svg'))"
   ]
  },
  {
   "cell_type": "markdown",
   "metadata": {},
   "source": [
    "## Print End Result Accuracy"
   ]
  },
  {
   "cell_type": "code",
   "execution_count": 14,
   "metadata": {},
   "outputs": [
    {
     "name": "stdout",
     "output_type": "stream",
     "text": [
      "1625/1625 [==============================] - 0s 95us/step\n",
      "Test score: 0.05549968258985945\n",
      "Test accuracy: 0.9919384603500366\n"
     ]
    }
   ],
   "source": [
    "score = model.evaluate(X_test, Y_test, verbose=1)\n",
    "print('Test score:', score[0])\n",
    "print('Test accuracy:', score[1])"
   ]
  },
  {
   "cell_type": "code",
   "execution_count": 15,
   "metadata": {},
   "outputs": [
    {
     "data": {
      "text/plain": [
       "Text(0.5,1,'Confusion Matrix')"
      ]
     },
     "execution_count": 15,
     "metadata": {},
     "output_type": "execute_result"
    },
    {
     "data": {
      "image/png": "[encoded data removed]",
      "text/plain": [
       "<matplotlib.figure.Figure at 0x7ff618edeb38>"
      ]
     },
     "metadata": {},
     "output_type": "display_data"
    }
   ],
   "source": [
    "y_pred = model.predict(X_test)\n",
    "y_pred = y_pred > 0.5\n",
    "cnf_matrix_dt = confusion_matrix(y_test, y_pred.argmax(axis=1))\n",
    "plt.figure(figsize=(5,5))\n",
    "plt.imshow(cnf_matrix_dt, cmap='YlOrBr')\n",
    "plt.colorbar()\n",
    "plt.title(\"Confusion Matrix\")"
   ]
  },
  {
   "cell_type": "markdown",
   "metadata": {},
   "source": [
    "## Display Correct Prediction Examples"
   ]
  },
  {
   "cell_type": "code",
   "execution_count": 16,
   "metadata": {},
   "outputs": [],
   "source": [
    "predicted_classes = model.predict_classes(X_test)\n",
    "\n",
    "correct_indices = np.nonzero(predicted_classes == y_test)[0]\n",
    "incorrect_indices = np.nonzero(predicted_classes != y_test)[0]"
   ]
  },
  {
   "cell_type": "code",
   "execution_count": 17,
   "metadata": {},
   "outputs": [
    {
     "data": {
      "image/png": "[encoded data removed]",
      "text/plain": [
       "<matplotlib.figure.Figure at 0x7ff6dd97a3c8>"
      ]
     },
     "metadata": {},
     "output_type": "display_data"
    }
   ],
   "source": [
    "num_figures = 6\n",
    "plt.figure(figsize=(16,8))\n",
    "for i, correct in enumerate(correct_indices[:num_figures]):\n",
    "    plt.subplot(1,num_figures,i+1)\n",
    "    plt.imshow(X_test[correct].reshape(28,28), cmap='gray', interpolation='none')\n",
    "    plt.title(\"Predicted {}, Class {}\".format(predicted_classes[correct], y_test[correct]))"
   ]
  },
  {
   "cell_type": "markdown",
   "metadata": {},
   "source": [
    "## Display Incorrect Prediction Examples"
   ]
  },
  {
   "cell_type": "code",
   "execution_count": 18,
   "metadata": {},
   "outputs": [
    {
     "data": {
      "image/png": "[encoded data removed]",
      "text/plain": [
       "<matplotlib.figure.Figure at 0x7ff6dc89e710>"
      ]
     },
     "metadata": {},
     "output_type": "display_data"
    }
   ],
   "source": [
    "num_figures = 6\n",
    "plt.figure(figsize=(16,8))\n",
    "for i, incorrect in enumerate(incorrect_indices[:num_figures]):\n",
    "    plt.subplot(1,num_figures,i+1)\n",
    "    plt.imshow(X_test[incorrect].reshape(28,28), cmap='gray', interpolation='none')\n",
    "    plt.title(\"Predicted {}, Class {}\".format(predicted_classes[incorrect], y_test[incorrect]))"
   ]
  },
  {
   "cell_type": "markdown",
   "metadata": {},
   "source": [
    "## Evaluation of Incorrect Prediction\n",
    "\n",
    "Above are six examples of the algorithm incorrectly predicting certain numbers within the data given. The neural network had difficulties in determining when a curve or line was connected to another or not, and did not accurately locate smaller gaps between lines (as in the third example, where it assumed an '8' and didn't notice the small gap making it a '2'). It also had trouble recognizing less common ways to write certain numbers. It was correctly able to identify a single vertical line as being a '1', but when written as a typed '1', like in example 4, it failed. The algorithm also could not accurately identify numbers that were blurry or poorly written, as the grayscale had a harder time determining separations between lines, as is the case in the final two examples."
   ]
  }
 ],
 "metadata": {
  "kernelspec": {
   "display_name": "Python 3",
   "language": "python",
   "name": "python3"
  },
  "language_info": {
   "codemirror_mode": {
    "name": "ipython",
    "version": 3
   },
   "file_extension": ".py",
   "mimetype": "text/x-python",
   "name": "python",
   "nbconvert_exporter": "python",
   "pygments_lexer": "ipython3",
   "version": "3.5.2"
  }
 },
 "nbformat": 4,
 "nbformat_minor": 2
}
