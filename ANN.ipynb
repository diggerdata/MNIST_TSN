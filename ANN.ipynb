{
 "cells": [
  {
   "cell_type": "code",
   "execution_count": 1,
   "metadata": {},
   "outputs": [],
   "source": [
    "%matplotlib inline"
   ]
  },
  {
   "cell_type": "markdown",
   "metadata": {},
   "source": [
    "# Artificial Neural Networks\n",
    "This Artificial Neural Network(ANN) is composed of an input of 784 greyscale ratings from 0-255 representing each of the pixels in the 28x28 image. The 28x28 array representing the image is linearized to an array of length 784. This gets passed through two layers of 512 neurons each, to get an output of ten nodes, with only one activating to resprent the answer from 0-9. 100 epochs were used for training on 3900 of the 6500 data points to achieve a testing accuracy of 96.12%.\n",
    "\n",
    "## Import Dependencies\n",
    "We begin by importing the required packages."
   ]
  },
  {
   "cell_type": "code",
   "execution_count": 2,
   "metadata": {},
   "outputs": [
    {
     "name": "stderr",
     "output_type": "stream",
     "text": [
      "Using TensorFlow backend.\n"
     ]
    }
   ],
   "source": [
    "import numpy as np\n",
    "import matplotlib.pyplot as plt\n",
    "from keras.datasets import mnist\n",
    "from keras.models import Sequential\n",
    "from keras.layers.core import Dense, Dropout, Activation\n",
    "from keras.utils import np_utils\n",
    "from IPython.display import SVG\n",
    "from keras.utils.vis_utils import model_to_dot"
   ]
  },
  {
   "cell_type": "markdown",
   "metadata": {},
   "source": [
    "## Load the Data"
   ]
  },
  {
   "cell_type": "code",
   "execution_count": 3,
   "metadata": {},
   "outputs": [
    {
     "name": "stdout",
     "output_type": "stream",
     "text": [
      "X_train original shape: (6500, 28, 28)\n",
      "y_train original shape: (6500,)\n"
     ]
    }
   ],
   "source": [
    "nb_classes = 10\n",
    "\n",
    "# the data, shuffled and split between tran and test sets\n",
    "X_raw = np.load('./data/images.npy')\n",
    "y_raw = np.load('./data/labels.npy')\n",
    "y_test = y_raw[4875:6500]\n",
    "# print(\"X_train original shape\", X_train.shape)\n",
    "# print(\"y_train original shape\", y_train.shape)\n",
    "print(\"X_train original shape:\", X_raw.shape)\n",
    "print(\"y_train original shape:\", y_raw.shape)"
   ]
  },
  {
   "cell_type": "markdown",
   "metadata": {},
   "source": [
    "### Print Out Example Data\n"
   ]
  },
  {
   "cell_type": "code",
   "execution_count": 4,
   "metadata": {},
   "outputs": [
    {
     "data": {
      "image/png": "[encoded data removed]",
      "text/plain": [
       "<matplotlib.figure.Figure at 0x7fb4a7d989b0>"
      ]
     },
     "metadata": {},
     "output_type": "display_data"
    }
   ],
   "source": [
    "num_figures = 6\n",
    "plt.figure(figsize=(16,8))\n",
    "for i in range(num_figures):\n",
    "    plt.subplot(1,num_figures,i+1)\n",
    "    plt.imshow(X_raw[i], cmap='gray', interpolation='none')\n",
    "    plt.title(\"Class {}\".format(y_raw[i]))"
   ]
  },
  {
   "cell_type": "markdown",
   "metadata": {},
   "source": [
    "## Reshape The Data"
   ]
  },
  {
   "cell_type": "code",
   "execution_count": 5,
   "metadata": {},
   "outputs": [
    {
     "name": "stdout",
     "output_type": "stream",
     "text": [
      "Training matrix shape (3900, 784)\n",
      "Validation matrix shape (975, 784)\n",
      "Testing matrix shape (1625, 784)\n"
     ]
    }
   ],
   "source": [
    "X_train = X_raw[0:3900].reshape(3900, 784)\n",
    "X_valid = X_raw[3900:4875].reshape(975, 784)\n",
    "X_test = X_raw[4875:6500].reshape(1625, 784)\n",
    "\n",
    "X_train = X_train.astype('float32')\n",
    "X_valid = X_valid.astype('float32')\n",
    "X_test = X_test.astype('float32')\n",
    "X_train /= 255\n",
    "X_valid /= 255\n",
    "X_test /= 255\n",
    "print(\"Training matrix shape\", X_train.shape)\n",
    "print(\"Validation matrix shape\", X_valid.shape)\n",
    "print(\"Testing matrix shape\", X_test.shape)"
   ]
  },
  {
   "cell_type": "code",
   "execution_count": 6,
   "metadata": {},
   "outputs": [],
   "source": [
    "Y_train = np_utils.to_categorical(y_raw[0:3900], nb_classes)\n",
    "Y_valid = np_utils.to_categorical(y_raw[3900:4875], nb_classes)\n",
    "Y_test = np_utils.to_categorical(y_raw[4875:6500], nb_classes)"
   ]
  },
  {
   "cell_type": "markdown",
   "metadata": {},
   "source": [
    "## Build Our Model"
   ]
  },
  {
   "cell_type": "code",
   "execution_count": 7,
   "metadata": {},
   "outputs": [],
   "source": [
    "model = Sequential()\n",
    "model.add(Dense(512, input_shape=(784,)))\n",
    "model.add(Activation('relu'))\n",
    "                           \n",
    "model.add(Dropout(0.2))\n",
    "model.add(Dense(512))\n",
    "model.add(Activation('relu'))\n",
    "model.add(Dropout(0.2))\n",
    "model.add(Dense(10))\n",
    "model.add(Activation('softmax'))"
   ]
  },
  {
   "cell_type": "code",
   "execution_count": 8,
   "metadata": {},
   "outputs": [],
   "source": [
    "model.compile(loss='categorical_crossentropy', optimizer='sgd', metrics=['accuracy'])"
   ]
  },
  {
   "cell_type": "markdown",
   "metadata": {},
   "source": [
    "## Train the Model"
   ]
  },
  {
   "cell_type": "code",
   "execution_count": 9,
   "metadata": {},
   "outputs": [
    {
     "name": "stdout",
     "output_type": "stream",
     "text": [
      "Train on 3900 samples, validate on 975 samples\n",
      "Epoch 1/100\n",
      "3900/3900 [==============================] - 0s 121us/step - loss: 2.2417 - acc: 0.1818 - val_loss: 2.0893 - val_acc: 0.4492\n",
      "Epoch 2/100\n",
      "3900/3900 [==============================] - 0s 100us/step - loss: 2.0172 - acc: 0.4467 - val_loss: 1.8662 - val_acc: 0.6410\n",
      "Epoch 3/100\n",
      "3900/3900 [==============================] - 0s 104us/step - loss: 1.8101 - acc: 0.5944 - val_loss: 1.6442 - val_acc: 0.7056\n",
      "Epoch 4/100\n",
      "3900/3900 [==============================] - 0s 98us/step - loss: 1.6018 - acc: 0.6690 - val_loss: 1.4315 - val_acc: 0.7487\n",
      "Epoch 5/100\n",
      "3900/3900 [==============================] - 0s 102us/step - loss: 1.4033 - acc: 0.7108 - val_loss: 1.2411 - val_acc: 0.7785\n",
      "Epoch 6/100\n",
      "3900/3900 [==============================] - 0s 99us/step - loss: 1.2404 - acc: 0.7408 - val_loss: 1.0799 - val_acc: 0.7877\n",
      "Epoch 7/100\n",
      "3900/3900 [==============================] - 0s 99us/step - loss: 1.1000 - acc: 0.7572 - val_loss: 0.9532 - val_acc: 0.8041\n",
      "Epoch 8/100\n",
      "3900/3900 [==============================] - 0s 99us/step - loss: 0.9766 - acc: 0.7851 - val_loss: 0.8547 - val_acc: 0.8103\n",
      "Epoch 9/100\n",
      "3900/3900 [==============================] - 0s 101us/step - loss: 0.8877 - acc: 0.7918 - val_loss: 0.7753 - val_acc: 0.8123\n",
      "Epoch 10/100\n",
      "3900/3900 [==============================] - 0s 100us/step - loss: 0.8196 - acc: 0.8051 - val_loss: 0.7121 - val_acc: 0.8256\n",
      "Epoch 11/100\n",
      "3900/3900 [==============================] - 0s 100us/step - loss: 0.7622 - acc: 0.8097 - val_loss: 0.6636 - val_acc: 0.8318\n",
      "Epoch 12/100\n",
      "3900/3900 [==============================] - 0s 101us/step - loss: 0.7159 - acc: 0.8262 - val_loss: 0.6254 - val_acc: 0.8462\n",
      "Epoch 13/100\n",
      "3900/3900 [==============================] - 0s 100us/step - loss: 0.6696 - acc: 0.8326 - val_loss: 0.5923 - val_acc: 0.8492\n",
      "Epoch 14/100\n",
      "3900/3900 [==============================] - 0s 99us/step - loss: 0.6396 - acc: 0.8321 - val_loss: 0.5610 - val_acc: 0.8492\n",
      "Epoch 15/100\n",
      "3900/3900 [==============================] - 0s 100us/step - loss: 0.6096 - acc: 0.8408 - val_loss: 0.5373 - val_acc: 0.8595\n",
      "Epoch 16/100\n",
      "3900/3900 [==============================] - 0s 101us/step - loss: 0.5901 - acc: 0.8390 - val_loss: 0.5173 - val_acc: 0.8595\n",
      "Epoch 17/100\n",
      "3900/3900 [==============================] - 0s 101us/step - loss: 0.5622 - acc: 0.8518 - val_loss: 0.4988 - val_acc: 0.8636\n",
      "Epoch 18/100\n",
      "3900/3900 [==============================] - 0s 102us/step - loss: 0.5425 - acc: 0.8541 - val_loss: 0.4835 - val_acc: 0.8687\n",
      "Epoch 19/100\n",
      "3900/3900 [==============================] - 0s 101us/step - loss: 0.5256 - acc: 0.8556 - val_loss: 0.4711 - val_acc: 0.8738\n",
      "Epoch 20/100\n",
      "3900/3900 [==============================] - 0s 100us/step - loss: 0.5173 - acc: 0.8513 - val_loss: 0.4578 - val_acc: 0.8677\n",
      "Epoch 21/100\n",
      "3900/3900 [==============================] - 0s 100us/step - loss: 0.4917 - acc: 0.8669 - val_loss: 0.4470 - val_acc: 0.8718\n",
      "Epoch 22/100\n",
      "3900/3900 [==============================] - 0s 102us/step - loss: 0.4792 - acc: 0.8685 - val_loss: 0.4360 - val_acc: 0.8779\n",
      "Epoch 23/100\n",
      "3900/3900 [==============================] - 0s 100us/step - loss: 0.4677 - acc: 0.8726 - val_loss: 0.4339 - val_acc: 0.8708\n",
      "Epoch 24/100\n",
      "3900/3900 [==============================] - 0s 101us/step - loss: 0.4644 - acc: 0.8677 - val_loss: 0.4229 - val_acc: 0.8759\n",
      "Epoch 25/100\n",
      "3900/3900 [==============================] - 0s 101us/step - loss: 0.4520 - acc: 0.8715 - val_loss: 0.4123 - val_acc: 0.8779\n",
      "Epoch 26/100\n",
      "3900/3900 [==============================] - 0s 103us/step - loss: 0.4387 - acc: 0.8790 - val_loss: 0.4070 - val_acc: 0.8821\n",
      "Epoch 27/100\n",
      "3900/3900 [==============================] - 0s 101us/step - loss: 0.4379 - acc: 0.8738 - val_loss: 0.4043 - val_acc: 0.8769\n",
      "Epoch 28/100\n",
      "3900/3900 [==============================] - 0s 101us/step - loss: 0.4286 - acc: 0.8792 - val_loss: 0.3939 - val_acc: 0.8831\n",
      "Epoch 29/100\n",
      "3900/3900 [==============================] - 0s 102us/step - loss: 0.4225 - acc: 0.8828 - val_loss: 0.3893 - val_acc: 0.8841\n",
      "Epoch 30/100\n",
      "3900/3900 [==============================] - 0s 102us/step - loss: 0.4141 - acc: 0.8808 - val_loss: 0.3869 - val_acc: 0.8872\n",
      "Epoch 31/100\n",
      "3900/3900 [==============================] - 0s 102us/step - loss: 0.4067 - acc: 0.8849 - val_loss: 0.3829 - val_acc: 0.8872\n",
      "Epoch 32/100\n",
      "3900/3900 [==============================] - 0s 101us/step - loss: 0.4040 - acc: 0.8926 - val_loss: 0.3739 - val_acc: 0.8892\n",
      "Epoch 33/100\n",
      "3900/3900 [==============================] - 0s 101us/step - loss: 0.3916 - acc: 0.8964 - val_loss: 0.3708 - val_acc: 0.8913\n",
      "Epoch 34/100\n",
      "3900/3900 [==============================] - 0s 103us/step - loss: 0.3954 - acc: 0.8867 - val_loss: 0.3691 - val_acc: 0.8872\n",
      "Epoch 35/100\n",
      "3900/3900 [==============================] - 0s 100us/step - loss: 0.3785 - acc: 0.8923 - val_loss: 0.3663 - val_acc: 0.8974\n",
      "Epoch 36/100\n",
      "3900/3900 [==============================] - 0s 107us/step - loss: 0.3824 - acc: 0.8941 - val_loss: 0.3676 - val_acc: 0.8944\n",
      "Epoch 37/100\n",
      "3900/3900 [==============================] - 0s 98us/step - loss: 0.3752 - acc: 0.8969 - val_loss: 0.3613 - val_acc: 0.8974\n",
      "Epoch 38/100\n",
      "3900/3900 [==============================] - 0s 98us/step - loss: 0.3621 - acc: 0.8962 - val_loss: 0.3544 - val_acc: 0.8995\n",
      "Epoch 39/100\n",
      "3900/3900 [==============================] - 0s 98us/step - loss: 0.3613 - acc: 0.8946 - val_loss: 0.3518 - val_acc: 0.8954\n",
      "Epoch 40/100\n",
      "3900/3900 [==============================] - 0s 95us/step - loss: 0.3579 - acc: 0.8956 - val_loss: 0.3527 - val_acc: 0.8964\n",
      "Epoch 41/100\n",
      "3900/3900 [==============================] - 0s 96us/step - loss: 0.3515 - acc: 0.9044 - val_loss: 0.3454 - val_acc: 0.9026\n",
      "Epoch 42/100\n",
      "3900/3900 [==============================] - 0s 97us/step - loss: 0.3503 - acc: 0.9036 - val_loss: 0.3433 - val_acc: 0.8995\n",
      "Epoch 43/100\n",
      "3900/3900 [==============================] - 0s 98us/step - loss: 0.3436 - acc: 0.9051 - val_loss: 0.3449 - val_acc: 0.8985\n",
      "Epoch 44/100\n",
      "3900/3900 [==============================] - 0s 95us/step - loss: 0.3432 - acc: 0.9079 - val_loss: 0.3415 - val_acc: 0.8985\n",
      "Epoch 45/100\n",
      "3900/3900 [==============================] - 0s 95us/step - loss: 0.3394 - acc: 0.8979 - val_loss: 0.3357 - val_acc: 0.9036\n",
      "Epoch 46/100\n",
      "3900/3900 [==============================] - 0s 97us/step - loss: 0.3317 - acc: 0.9072 - val_loss: 0.3336 - val_acc: 0.9015\n",
      "Epoch 47/100\n",
      "3900/3900 [==============================] - 0s 97us/step - loss: 0.3359 - acc: 0.9038 - val_loss: 0.3340 - val_acc: 0.9005\n",
      "Epoch 48/100\n",
      "3900/3900 [==============================] - 0s 97us/step - loss: 0.3264 - acc: 0.9067 - val_loss: 0.3322 - val_acc: 0.9036\n",
      "Epoch 49/100\n",
      "3900/3900 [==============================] - 0s 96us/step - loss: 0.3272 - acc: 0.9056 - val_loss: 0.3305 - val_acc: 0.9067\n",
      "Epoch 50/100\n",
      "3900/3900 [==============================] - 0s 98us/step - loss: 0.3225 - acc: 0.9067 - val_loss: 0.3253 - val_acc: 0.9067\n",
      "Epoch 51/100\n",
      "3900/3900 [==============================] - 0s 97us/step - loss: 0.3184 - acc: 0.9062 - val_loss: 0.3226 - val_acc: 0.9056\n",
      "Epoch 52/100\n",
      "3900/3900 [==============================] - 0s 99us/step - loss: 0.3086 - acc: 0.9179 - val_loss: 0.3273 - val_acc: 0.9056\n",
      "Epoch 53/100\n",
      "3900/3900 [==============================] - 0s 96us/step - loss: 0.3100 - acc: 0.9136 - val_loss: 0.3230 - val_acc: 0.9118\n",
      "Epoch 54/100\n",
      "3900/3900 [==============================] - 0s 96us/step - loss: 0.3002 - acc: 0.9172 - val_loss: 0.3203 - val_acc: 0.9067\n",
      "Epoch 55/100\n",
      "3900/3900 [==============================] - 0s 97us/step - loss: 0.3087 - acc: 0.9131 - val_loss: 0.3172 - val_acc: 0.9108\n",
      "Epoch 56/100\n",
      "3900/3900 [==============================] - 0s 102us/step - loss: 0.2994 - acc: 0.9174 - val_loss: 0.3180 - val_acc: 0.9097\n",
      "Epoch 57/100\n",
      "3900/3900 [==============================] - 0s 99us/step - loss: 0.2993 - acc: 0.9151 - val_loss: 0.3142 - val_acc: 0.9118\n",
      "Epoch 58/100\n",
      "3900/3900 [==============================] - 0s 100us/step - loss: 0.2985 - acc: 0.9159 - val_loss: 0.3163 - val_acc: 0.9128\n",
      "Epoch 59/100\n",
      "3900/3900 [==============================] - 0s 98us/step - loss: 0.2897 - acc: 0.9182 - val_loss: 0.3120 - val_acc: 0.9138\n",
      "Epoch 60/100\n"
     ]
    },
    {
     "name": "stdout",
     "output_type": "stream",
     "text": [
      "3900/3900 [==============================] - 0s 94us/step - loss: 0.2902 - acc: 0.9215 - val_loss: 0.3108 - val_acc: 0.9138\n",
      "Epoch 61/100\n",
      "3900/3900 [==============================] - 0s 91us/step - loss: 0.2819 - acc: 0.9223 - val_loss: 0.3105 - val_acc: 0.9128\n",
      "Epoch 62/100\n",
      "3900/3900 [==============================] - 0s 90us/step - loss: 0.2878 - acc: 0.9190 - val_loss: 0.3139 - val_acc: 0.9087\n",
      "Epoch 63/100\n",
      "3900/3900 [==============================] - 0s 95us/step - loss: 0.2799 - acc: 0.9223 - val_loss: 0.3097 - val_acc: 0.9128\n",
      "Epoch 64/100\n",
      "3900/3900 [==============================] - 0s 91us/step - loss: 0.2817 - acc: 0.9203 - val_loss: 0.3060 - val_acc: 0.9138\n",
      "Epoch 65/100\n",
      "3900/3900 [==============================] - 0s 90us/step - loss: 0.2882 - acc: 0.9200 - val_loss: 0.3048 - val_acc: 0.9149\n",
      "Epoch 66/100\n",
      "3900/3900 [==============================] - 0s 91us/step - loss: 0.2777 - acc: 0.9223 - val_loss: 0.3055 - val_acc: 0.9149\n",
      "Epoch 67/100\n",
      "3900/3900 [==============================] - 0s 91us/step - loss: 0.2770 - acc: 0.9210 - val_loss: 0.3011 - val_acc: 0.9159\n",
      "Epoch 68/100\n",
      "3900/3900 [==============================] - 0s 91us/step - loss: 0.2705 - acc: 0.9236 - val_loss: 0.3018 - val_acc: 0.9149\n",
      "Epoch 69/100\n",
      "3900/3900 [==============================] - 0s 90us/step - loss: 0.2767 - acc: 0.9205 - val_loss: 0.3008 - val_acc: 0.9159\n",
      "Epoch 70/100\n",
      "3900/3900 [==============================] - 0s 91us/step - loss: 0.2637 - acc: 0.9233 - val_loss: 0.3013 - val_acc: 0.9138\n",
      "Epoch 71/100\n",
      "3900/3900 [==============================] - 0s 92us/step - loss: 0.2677 - acc: 0.9236 - val_loss: 0.2975 - val_acc: 0.9169\n",
      "Epoch 72/100\n",
      "3900/3900 [==============================] - 0s 90us/step - loss: 0.2604 - acc: 0.9277 - val_loss: 0.2976 - val_acc: 0.9179\n",
      "Epoch 73/100\n",
      "3900/3900 [==============================] - 0s 91us/step - loss: 0.2598 - acc: 0.9279 - val_loss: 0.2971 - val_acc: 0.9179\n",
      "Epoch 74/100\n",
      "3900/3900 [==============================] - 0s 92us/step - loss: 0.2560 - acc: 0.9282 - val_loss: 0.2945 - val_acc: 0.9200\n",
      "Epoch 75/100\n",
      "3900/3900 [==============================] - 0s 90us/step - loss: 0.2524 - acc: 0.9318 - val_loss: 0.2949 - val_acc: 0.9190\n",
      "Epoch 76/100\n",
      "3900/3900 [==============================] - 0s 91us/step - loss: 0.2533 - acc: 0.9264 - val_loss: 0.2974 - val_acc: 0.9128\n",
      "Epoch 77/100\n",
      "3900/3900 [==============================] - 0s 91us/step - loss: 0.2512 - acc: 0.9310 - val_loss: 0.2927 - val_acc: 0.9190\n",
      "Epoch 78/100\n",
      "3900/3900 [==============================] - 0s 91us/step - loss: 0.2539 - acc: 0.9254 - val_loss: 0.2938 - val_acc: 0.9159\n",
      "Epoch 79/100\n",
      "3900/3900 [==============================] - 0s 92us/step - loss: 0.2458 - acc: 0.9285 - val_loss: 0.2918 - val_acc: 0.9169\n",
      "Epoch 80/100\n",
      "3900/3900 [==============================] - 0s 93us/step - loss: 0.2425 - acc: 0.9313 - val_loss: 0.2888 - val_acc: 0.9190\n",
      "Epoch 81/100\n",
      "3900/3900 [==============================] - 0s 90us/step - loss: 0.2420 - acc: 0.9305 - val_loss: 0.2890 - val_acc: 0.9190\n",
      "Epoch 82/100\n",
      "3900/3900 [==============================] - 0s 91us/step - loss: 0.2485 - acc: 0.9292 - val_loss: 0.2917 - val_acc: 0.9138\n",
      "Epoch 83/100\n",
      "3900/3900 [==============================] - 0s 92us/step - loss: 0.2431 - acc: 0.9333 - val_loss: 0.2883 - val_acc: 0.9179\n",
      "Epoch 84/100\n",
      "3900/3900 [==============================] - 0s 92us/step - loss: 0.2396 - acc: 0.9303 - val_loss: 0.2875 - val_acc: 0.9190\n",
      "Epoch 85/100\n",
      "3900/3900 [==============================] - 0s 91us/step - loss: 0.2379 - acc: 0.9315 - val_loss: 0.2865 - val_acc: 0.9190\n",
      "Epoch 86/100\n",
      "3900/3900 [==============================] - 0s 93us/step - loss: 0.2395 - acc: 0.9297 - val_loss: 0.2849 - val_acc: 0.9200\n",
      "Epoch 87/100\n",
      "3900/3900 [==============================] - 0s 91us/step - loss: 0.2310 - acc: 0.9385 - val_loss: 0.2849 - val_acc: 0.9190\n",
      "Epoch 88/100\n",
      "3900/3900 [==============================] - 0s 92us/step - loss: 0.2321 - acc: 0.9369 - val_loss: 0.2857 - val_acc: 0.9179\n",
      "Epoch 89/100\n",
      "3900/3900 [==============================] - 0s 90us/step - loss: 0.2305 - acc: 0.9362 - val_loss: 0.2817 - val_acc: 0.9210\n",
      "Epoch 90/100\n",
      "3900/3900 [==============================] - 0s 91us/step - loss: 0.2347 - acc: 0.9321 - val_loss: 0.2814 - val_acc: 0.9221\n",
      "Epoch 91/100\n",
      "3900/3900 [==============================] - 0s 93us/step - loss: 0.2274 - acc: 0.9351 - val_loss: 0.2819 - val_acc: 0.9169\n",
      "Epoch 92/100\n",
      "3900/3900 [==============================] - 0s 92us/step - loss: 0.2221 - acc: 0.9369 - val_loss: 0.2834 - val_acc: 0.9169\n",
      "Epoch 93/100\n",
      "3900/3900 [==============================] - 0s 92us/step - loss: 0.2243 - acc: 0.9405 - val_loss: 0.2789 - val_acc: 0.9200\n",
      "Epoch 94/100\n",
      "3900/3900 [==============================] - 0s 91us/step - loss: 0.2207 - acc: 0.9369 - val_loss: 0.2828 - val_acc: 0.9200\n",
      "Epoch 95/100\n",
      "3900/3900 [==============================] - 0s 91us/step - loss: 0.2202 - acc: 0.9354 - val_loss: 0.2798 - val_acc: 0.9221\n",
      "Epoch 96/100\n",
      "3900/3900 [==============================] - 0s 91us/step - loss: 0.2187 - acc: 0.9418 - val_loss: 0.2815 - val_acc: 0.9210\n",
      "Epoch 97/100\n",
      "3900/3900 [==============================] - 0s 91us/step - loss: 0.2127 - acc: 0.9426 - val_loss: 0.2792 - val_acc: 0.9241\n",
      "Epoch 98/100\n",
      "3900/3900 [==============================] - 0s 91us/step - loss: 0.2163 - acc: 0.9403 - val_loss: 0.2815 - val_acc: 0.9190\n",
      "Epoch 99/100\n",
      "3900/3900 [==============================] - 0s 92us/step - loss: 0.2179 - acc: 0.9444 - val_loss: 0.2794 - val_acc: 0.9200\n",
      "Epoch 100/100\n",
      "3900/3900 [==============================] - 0s 92us/step - loss: 0.2137 - acc: 0.9397 - val_loss: 0.2749 - val_acc: 0.9200\n"
     ]
    }
   ],
   "source": [
    "history = model.fit(X_train, Y_train,\n",
    "          batch_size=128, \n",
    "          epochs=100,\n",
    "          verbose=1,\n",
    "          validation_data=(X_valid, Y_valid))"
   ]
  },
  {
   "cell_type": "markdown",
   "metadata": {},
   "source": [
    "## Generate Loss and Accuracy Graphs by Epoch"
   ]
  },
  {
   "cell_type": "code",
   "execution_count": 10,
   "metadata": {},
   "outputs": [
    {
     "data": {
      "text/plain": [
       "<matplotlib.legend.Legend at 0x7fb4a40ab8d0>"
      ]
     },
     "execution_count": 10,
     "metadata": {},
     "output_type": "execute_result"
    },
    {
     "data": {
      "image/png": "[encoded data removed]",
      "text/plain": [
       "<matplotlib.figure.Figure at 0x7fb4a5518d30>"
      ]
     },
     "metadata": {},
     "output_type": "display_data"
    }
   ],
   "source": [
    "plt.figure(figsize=(16,5))\n",
    "plt.subplot(1,2,1)\n",
    "plt.title('Loss per Epoch')\n",
    "plt.xlabel('Epochs')\n",
    "plt.ylabel('Loss')\n",
    "plt.plot(history.history['loss'])\n",
    "plt.plot(history.history['val_loss'])\n",
    "plt.legend(['Training', 'Validation'])\n",
    "\n",
    "plt.subplot(1,2,2)\n",
    "plt.title('Accuracy per Epoch')\n",
    "plt.xlabel('Epochs')\n",
    "plt.ylabel('Accuracy')\n",
    "plt.plot(history.history['acc'])\n",
    "plt.plot(history.history['val_acc'])\n",
    "plt.legend(['Training', 'Validation'], loc='lower right')"
   ]
  },
  {
   "cell_type": "code",
   "execution_count": 11,
   "metadata": {},
   "outputs": [
    {
     "data": {
      "image/svg+xml": [
       "<svg height=\"719pt\" viewBox=\"0.00 0.00 309.00 719.00\" width=\"309pt\" xmlns=\"http://www.w3.org/2000/svg\" xmlns:xlink=\"http://www.w3.org/1999/xlink\">\n",
       "<g class=\"graph\" id=\"graph0\" transform=\"scale(1 1) rotate(0) translate(4 715)\">\n",
       "<title>G</title>\n",
       "<polygon fill=\"white\" points=\"-4,4 -4,-715 305,-715 305,4 -4,4\" stroke=\"none\"/>\n",
       "<!-- 140413887311656 -->\n",
       "<g class=\"node\" id=\"node1\"><title>140413887311656</title>\n",
       "<polygon fill=\"none\" points=\"0,-664.5 0,-710.5 301,-710.5 301,-664.5 0,-664.5\" stroke=\"black\"/>\n",
       "<text font-family=\"Times,serif\" font-size=\"14.00\" text-anchor=\"middle\" x=\"81.5\" y=\"-683.8\">dense_1_input: InputLayer</text>\n",
       "<polyline fill=\"none\" points=\"163,-664.5 163,-710.5 \" stroke=\"black\"/>\n",
       "<text font-family=\"Times,serif\" font-size=\"14.00\" text-anchor=\"middle\" x=\"190.5\" y=\"-695.3\">input:</text>\n",
       "<polyline fill=\"none\" points=\"163,-687.5 218,-687.5 \" stroke=\"black\"/>\n",
       "<text font-family=\"Times,serif\" font-size=\"14.00\" text-anchor=\"middle\" x=\"190.5\" y=\"-672.3\">output:</text>\n",
       "<polyline fill=\"none\" points=\"218,-664.5 218,-710.5 \" stroke=\"black\"/>\n",
       "<text font-family=\"Times,serif\" font-size=\"14.00\" text-anchor=\"middle\" x=\"259.5\" y=\"-695.3\">(None, 784)</text>\n",
       "<polyline fill=\"none\" points=\"218,-687.5 301,-687.5 \" stroke=\"black\"/>\n",
       "<text font-family=\"Times,serif\" font-size=\"14.00\" text-anchor=\"middle\" x=\"259.5\" y=\"-672.3\">(None, 784)</text>\n",
       "</g>\n",
       "<!-- 140413847614632 -->\n",
       "<g class=\"node\" id=\"node2\"><title>140413847614632</title>\n",
       "<polygon fill=\"none\" points=\"30.5,-581.5 30.5,-627.5 270.5,-627.5 270.5,-581.5 30.5,-581.5\" stroke=\"black\"/>\n",
       "<text font-family=\"Times,serif\" font-size=\"14.00\" text-anchor=\"middle\" x=\"81.5\" y=\"-600.8\">dense_1: Dense</text>\n",
       "<polyline fill=\"none\" points=\"132.5,-581.5 132.5,-627.5 \" stroke=\"black\"/>\n",
       "<text font-family=\"Times,serif\" font-size=\"14.00\" text-anchor=\"middle\" x=\"160\" y=\"-612.3\">input:</text>\n",
       "<polyline fill=\"none\" points=\"132.5,-604.5 187.5,-604.5 \" stroke=\"black\"/>\n",
       "<text font-family=\"Times,serif\" font-size=\"14.00\" text-anchor=\"middle\" x=\"160\" y=\"-589.3\">output:</text>\n",
       "<polyline fill=\"none\" points=\"187.5,-581.5 187.5,-627.5 \" stroke=\"black\"/>\n",
       "<text font-family=\"Times,serif\" font-size=\"14.00\" text-anchor=\"middle\" x=\"229\" y=\"-612.3\">(None, 784)</text>\n",
       "<polyline fill=\"none\" points=\"187.5,-604.5 270.5,-604.5 \" stroke=\"black\"/>\n",
       "<text font-family=\"Times,serif\" font-size=\"14.00\" text-anchor=\"middle\" x=\"229\" y=\"-589.3\">(None, 512)</text>\n",
       "</g>\n",
       "<!-- 140413887311656&#45;&gt;140413847614632 -->\n",
       "<g class=\"edge\" id=\"edge1\"><title>140413887311656-&gt;140413847614632</title>\n",
       "<path d=\"M150.5,-664.366C150.5,-656.152 150.5,-646.658 150.5,-637.725\" fill=\"none\" stroke=\"black\"/>\n",
       "<polygon fill=\"black\" points=\"154,-637.607 150.5,-627.607 147,-637.607 154,-637.607\" stroke=\"black\"/>\n",
       "</g>\n",
       "<!-- 140413887309136 -->\n",
       "<g class=\"node\" id=\"node3\"><title>140413887309136</title>\n",
       "<polygon fill=\"none\" points=\"7.5,-498.5 7.5,-544.5 293.5,-544.5 293.5,-498.5 7.5,-498.5\" stroke=\"black\"/>\n",
       "<text font-family=\"Times,serif\" font-size=\"14.00\" text-anchor=\"middle\" x=\"81.5\" y=\"-517.8\">activation_1: Activation</text>\n",
       "<polyline fill=\"none\" points=\"155.5,-498.5 155.5,-544.5 \" stroke=\"black\"/>\n",
       "<text font-family=\"Times,serif\" font-size=\"14.00\" text-anchor=\"middle\" x=\"183\" y=\"-529.3\">input:</text>\n",
       "<polyline fill=\"none\" points=\"155.5,-521.5 210.5,-521.5 \" stroke=\"black\"/>\n",
       "<text font-family=\"Times,serif\" font-size=\"14.00\" text-anchor=\"middle\" x=\"183\" y=\"-506.3\">output:</text>\n",
       "<polyline fill=\"none\" points=\"210.5,-498.5 210.5,-544.5 \" stroke=\"black\"/>\n",
       "<text font-family=\"Times,serif\" font-size=\"14.00\" text-anchor=\"middle\" x=\"252\" y=\"-529.3\">(None, 512)</text>\n",
       "<polyline fill=\"none\" points=\"210.5,-521.5 293.5,-521.5 \" stroke=\"black\"/>\n",
       "<text font-family=\"Times,serif\" font-size=\"14.00\" text-anchor=\"middle\" x=\"252\" y=\"-506.3\">(None, 512)</text>\n",
       "</g>\n",
       "<!-- 140413847614632&#45;&gt;140413887309136 -->\n",
       "<g class=\"edge\" id=\"edge2\"><title>140413847614632-&gt;140413887309136</title>\n",
       "<path d=\"M150.5,-581.366C150.5,-573.152 150.5,-563.658 150.5,-554.725\" fill=\"none\" stroke=\"black\"/>\n",
       "<polygon fill=\"black\" points=\"154,-554.607 150.5,-544.607 147,-554.607 154,-554.607\" stroke=\"black\"/>\n",
       "</g>\n",
       "<!-- 140413844357472 -->\n",
       "<g class=\"node\" id=\"node4\"><title>140413844357472</title>\n",
       "<polygon fill=\"none\" points=\"19,-415.5 19,-461.5 282,-461.5 282,-415.5 19,-415.5\" stroke=\"black\"/>\n",
       "<text font-family=\"Times,serif\" font-size=\"14.00\" text-anchor=\"middle\" x=\"81.5\" y=\"-434.8\">dropout_1: Dropout</text>\n",
       "<polyline fill=\"none\" points=\"144,-415.5 144,-461.5 \" stroke=\"black\"/>\n",
       "<text font-family=\"Times,serif\" font-size=\"14.00\" text-anchor=\"middle\" x=\"171.5\" y=\"-446.3\">input:</text>\n",
       "<polyline fill=\"none\" points=\"144,-438.5 199,-438.5 \" stroke=\"black\"/>\n",
       "<text font-family=\"Times,serif\" font-size=\"14.00\" text-anchor=\"middle\" x=\"171.5\" y=\"-423.3\">output:</text>\n",
       "<polyline fill=\"none\" points=\"199,-415.5 199,-461.5 \" stroke=\"black\"/>\n",
       "<text font-family=\"Times,serif\" font-size=\"14.00\" text-anchor=\"middle\" x=\"240.5\" y=\"-446.3\">(None, 512)</text>\n",
       "<polyline fill=\"none\" points=\"199,-438.5 282,-438.5 \" stroke=\"black\"/>\n",
       "<text font-family=\"Times,serif\" font-size=\"14.00\" text-anchor=\"middle\" x=\"240.5\" y=\"-423.3\">(None, 512)</text>\n",
       "</g>\n",
       "<!-- 140413887309136&#45;&gt;140413844357472 -->\n",
       "<g class=\"edge\" id=\"edge3\"><title>140413887309136-&gt;140413844357472</title>\n",
       "<path d=\"M150.5,-498.366C150.5,-490.152 150.5,-480.658 150.5,-471.725\" fill=\"none\" stroke=\"black\"/>\n",
       "<polygon fill=\"black\" points=\"154,-471.607 150.5,-461.607 147,-471.607 154,-471.607\" stroke=\"black\"/>\n",
       "</g>\n",
       "<!-- 140413844473504 -->\n",
       "<g class=\"node\" id=\"node5\"><title>140413844473504</title>\n",
       "<polygon fill=\"none\" points=\"30.5,-332.5 30.5,-378.5 270.5,-378.5 270.5,-332.5 30.5,-332.5\" stroke=\"black\"/>\n",
       "<text font-family=\"Times,serif\" font-size=\"14.00\" text-anchor=\"middle\" x=\"81.5\" y=\"-351.8\">dense_2: Dense</text>\n",
       "<polyline fill=\"none\" points=\"132.5,-332.5 132.5,-378.5 \" stroke=\"black\"/>\n",
       "<text font-family=\"Times,serif\" font-size=\"14.00\" text-anchor=\"middle\" x=\"160\" y=\"-363.3\">input:</text>\n",
       "<polyline fill=\"none\" points=\"132.5,-355.5 187.5,-355.5 \" stroke=\"black\"/>\n",
       "<text font-family=\"Times,serif\" font-size=\"14.00\" text-anchor=\"middle\" x=\"160\" y=\"-340.3\">output:</text>\n",
       "<polyline fill=\"none\" points=\"187.5,-332.5 187.5,-378.5 \" stroke=\"black\"/>\n",
       "<text font-family=\"Times,serif\" font-size=\"14.00\" text-anchor=\"middle\" x=\"229\" y=\"-363.3\">(None, 512)</text>\n",
       "<polyline fill=\"none\" points=\"187.5,-355.5 270.5,-355.5 \" stroke=\"black\"/>\n",
       "<text font-family=\"Times,serif\" font-size=\"14.00\" text-anchor=\"middle\" x=\"229\" y=\"-340.3\">(None, 512)</text>\n",
       "</g>\n",
       "<!-- 140413844357472&#45;&gt;140413844473504 -->\n",
       "<g class=\"edge\" id=\"edge4\"><title>140413844357472-&gt;140413844473504</title>\n",
       "<path d=\"M150.5,-415.366C150.5,-407.152 150.5,-397.658 150.5,-388.725\" fill=\"none\" stroke=\"black\"/>\n",
       "<polygon fill=\"black\" points=\"154,-388.607 150.5,-378.607 147,-388.607 154,-388.607\" stroke=\"black\"/>\n",
       "</g>\n",
       "<!-- 140413844475576 -->\n",
       "<g class=\"node\" id=\"node6\"><title>140413844475576</title>\n",
       "<polygon fill=\"none\" points=\"7.5,-249.5 7.5,-295.5 293.5,-295.5 293.5,-249.5 7.5,-249.5\" stroke=\"black\"/>\n",
       "<text font-family=\"Times,serif\" font-size=\"14.00\" text-anchor=\"middle\" x=\"81.5\" y=\"-268.8\">activation_2: Activation</text>\n",
       "<polyline fill=\"none\" points=\"155.5,-249.5 155.5,-295.5 \" stroke=\"black\"/>\n",
       "<text font-family=\"Times,serif\" font-size=\"14.00\" text-anchor=\"middle\" x=\"183\" y=\"-280.3\">input:</text>\n",
       "<polyline fill=\"none\" points=\"155.5,-272.5 210.5,-272.5 \" stroke=\"black\"/>\n",
       "<text font-family=\"Times,serif\" font-size=\"14.00\" text-anchor=\"middle\" x=\"183\" y=\"-257.3\">output:</text>\n",
       "<polyline fill=\"none\" points=\"210.5,-249.5 210.5,-295.5 \" stroke=\"black\"/>\n",
       "<text font-family=\"Times,serif\" font-size=\"14.00\" text-anchor=\"middle\" x=\"252\" y=\"-280.3\">(None, 512)</text>\n",
       "<polyline fill=\"none\" points=\"210.5,-272.5 293.5,-272.5 \" stroke=\"black\"/>\n",
       "<text font-family=\"Times,serif\" font-size=\"14.00\" text-anchor=\"middle\" x=\"252\" y=\"-257.3\">(None, 512)</text>\n",
       "</g>\n",
       "<!-- 140413844473504&#45;&gt;140413844475576 -->\n",
       "<g class=\"edge\" id=\"edge5\"><title>140413844473504-&gt;140413844475576</title>\n",
       "<path d=\"M150.5,-332.366C150.5,-324.152 150.5,-314.658 150.5,-305.725\" fill=\"none\" stroke=\"black\"/>\n",
       "<polygon fill=\"black\" points=\"154,-305.607 150.5,-295.607 147,-305.607 154,-305.607\" stroke=\"black\"/>\n",
       "</g>\n",
       "<!-- 140413844098800 -->\n",
       "<g class=\"node\" id=\"node7\"><title>140413844098800</title>\n",
       "<polygon fill=\"none\" points=\"19,-166.5 19,-212.5 282,-212.5 282,-166.5 19,-166.5\" stroke=\"black\"/>\n",
       "<text font-family=\"Times,serif\" font-size=\"14.00\" text-anchor=\"middle\" x=\"81.5\" y=\"-185.8\">dropout_2: Dropout</text>\n",
       "<polyline fill=\"none\" points=\"144,-166.5 144,-212.5 \" stroke=\"black\"/>\n",
       "<text font-family=\"Times,serif\" font-size=\"14.00\" text-anchor=\"middle\" x=\"171.5\" y=\"-197.3\">input:</text>\n",
       "<polyline fill=\"none\" points=\"144,-189.5 199,-189.5 \" stroke=\"black\"/>\n",
       "<text font-family=\"Times,serif\" font-size=\"14.00\" text-anchor=\"middle\" x=\"171.5\" y=\"-174.3\">output:</text>\n",
       "<polyline fill=\"none\" points=\"199,-166.5 199,-212.5 \" stroke=\"black\"/>\n",
       "<text font-family=\"Times,serif\" font-size=\"14.00\" text-anchor=\"middle\" x=\"240.5\" y=\"-197.3\">(None, 512)</text>\n",
       "<polyline fill=\"none\" points=\"199,-189.5 282,-189.5 \" stroke=\"black\"/>\n",
       "<text font-family=\"Times,serif\" font-size=\"14.00\" text-anchor=\"middle\" x=\"240.5\" y=\"-174.3\">(None, 512)</text>\n",
       "</g>\n",
       "<!-- 140413844475576&#45;&gt;140413844098800 -->\n",
       "<g class=\"edge\" id=\"edge6\"><title>140413844475576-&gt;140413844098800</title>\n",
       "<path d=\"M150.5,-249.366C150.5,-241.152 150.5,-231.658 150.5,-222.725\" fill=\"none\" stroke=\"black\"/>\n",
       "<polygon fill=\"black\" points=\"154,-222.607 150.5,-212.607 147,-222.607 154,-222.607\" stroke=\"black\"/>\n",
       "</g>\n",
       "<!-- 140413844098856 -->\n",
       "<g class=\"node\" id=\"node8\"><title>140413844098856</title>\n",
       "<polygon fill=\"none\" points=\"30.5,-83.5 30.5,-129.5 270.5,-129.5 270.5,-83.5 30.5,-83.5\" stroke=\"black\"/>\n",
       "<text font-family=\"Times,serif\" font-size=\"14.00\" text-anchor=\"middle\" x=\"81.5\" y=\"-102.8\">dense_3: Dense</text>\n",
       "<polyline fill=\"none\" points=\"132.5,-83.5 132.5,-129.5 \" stroke=\"black\"/>\n",
       "<text font-family=\"Times,serif\" font-size=\"14.00\" text-anchor=\"middle\" x=\"160\" y=\"-114.3\">input:</text>\n",
       "<polyline fill=\"none\" points=\"132.5,-106.5 187.5,-106.5 \" stroke=\"black\"/>\n",
       "<text font-family=\"Times,serif\" font-size=\"14.00\" text-anchor=\"middle\" x=\"160\" y=\"-91.3\">output:</text>\n",
       "<polyline fill=\"none\" points=\"187.5,-83.5 187.5,-129.5 \" stroke=\"black\"/>\n",
       "<text font-family=\"Times,serif\" font-size=\"14.00\" text-anchor=\"middle\" x=\"229\" y=\"-114.3\">(None, 512)</text>\n",
       "<polyline fill=\"none\" points=\"187.5,-106.5 270.5,-106.5 \" stroke=\"black\"/>\n",
       "<text font-family=\"Times,serif\" font-size=\"14.00\" text-anchor=\"middle\" x=\"229\" y=\"-91.3\">(None, 10)</text>\n",
       "</g>\n",
       "<!-- 140413844098800&#45;&gt;140413844098856 -->\n",
       "<g class=\"edge\" id=\"edge7\"><title>140413844098800-&gt;140413844098856</title>\n",
       "<path d=\"M150.5,-166.366C150.5,-158.152 150.5,-148.658 150.5,-139.725\" fill=\"none\" stroke=\"black\"/>\n",
       "<polygon fill=\"black\" points=\"154,-139.607 150.5,-129.607 147,-139.607 154,-139.607\" stroke=\"black\"/>\n",
       "</g>\n",
       "<!-- 140413846657008 -->\n",
       "<g class=\"node\" id=\"node9\"><title>140413846657008</title>\n",
       "<polygon fill=\"none\" points=\"11,-0.5 11,-46.5 290,-46.5 290,-0.5 11,-0.5\" stroke=\"black\"/>\n",
       "<text font-family=\"Times,serif\" font-size=\"14.00\" text-anchor=\"middle\" x=\"85\" y=\"-19.8\">activation_3: Activation</text>\n",
       "<polyline fill=\"none\" points=\"159,-0.5 159,-46.5 \" stroke=\"black\"/>\n",
       "<text font-family=\"Times,serif\" font-size=\"14.00\" text-anchor=\"middle\" x=\"186.5\" y=\"-31.3\">input:</text>\n",
       "<polyline fill=\"none\" points=\"159,-23.5 214,-23.5 \" stroke=\"black\"/>\n",
       "<text font-family=\"Times,serif\" font-size=\"14.00\" text-anchor=\"middle\" x=\"186.5\" y=\"-8.3\">output:</text>\n",
       "<polyline fill=\"none\" points=\"214,-0.5 214,-46.5 \" stroke=\"black\"/>\n",
       "<text font-family=\"Times,serif\" font-size=\"14.00\" text-anchor=\"middle\" x=\"252\" y=\"-31.3\">(None, 10)</text>\n",
       "<polyline fill=\"none\" points=\"214,-23.5 290,-23.5 \" stroke=\"black\"/>\n",
       "<text font-family=\"Times,serif\" font-size=\"14.00\" text-anchor=\"middle\" x=\"252\" y=\"-8.3\">(None, 10)</text>\n",
       "</g>\n",
       "<!-- 140413844098856&#45;&gt;140413846657008 -->\n",
       "<g class=\"edge\" id=\"edge8\"><title>140413844098856-&gt;140413846657008</title>\n",
       "<path d=\"M150.5,-83.3664C150.5,-75.1516 150.5,-65.6579 150.5,-56.7252\" fill=\"none\" stroke=\"black\"/>\n",
       "<polygon fill=\"black\" points=\"154,-56.6068 150.5,-46.6068 147,-56.6069 154,-56.6068\" stroke=\"black\"/>\n",
       "</g>\n",
       "</g>\n",
       "</svg>"
      ],
      "text/plain": [
       "<IPython.core.display.SVG object>"
      ]
     },
     "execution_count": 11,
     "metadata": {},
     "output_type": "execute_result"
    }
   ],
   "source": [
    "SVG(model_to_dot(model, show_shapes=True, rankdir='TD').create(prog='dot', format='svg'))"
   ]
  },
  {
   "cell_type": "markdown",
   "metadata": {},
   "source": [
    "## Print End Result Accuracy"
   ]
  },
  {
   "cell_type": "code",
   "execution_count": 12,
   "metadata": {},
   "outputs": [
    {
     "name": "stdout",
     "output_type": "stream",
     "text": [
      "1625/1625 [==============================] - 0s 70us/step\n",
      "Test score: 0.24480111964849324\n",
      "Test accuracy: 0.9273846150544973\n"
     ]
    }
   ],
   "source": [
    "score = model.evaluate(X_test, Y_test, verbose=1)\n",
    "print('Test score:', score[0])\n",
    "print('Test accuracy:', score[1])"
   ]
  },
  {
   "cell_type": "markdown",
   "metadata": {},
   "source": [
    "## Display Correct Prediction Examples"
   ]
  },
  {
   "cell_type": "code",
   "execution_count": 13,
   "metadata": {},
   "outputs": [],
   "source": [
    "predicted_classes = model.predict_classes(X_test)\n",
    "\n",
    "correct_indices = np.nonzero(predicted_classes == y_test)[0]\n",
    "incorrect_indices = np.nonzero(predicted_classes != y_test)[0]"
   ]
  },
  {
   "cell_type": "code",
   "execution_count": 14,
   "metadata": {},
   "outputs": [
    {
     "data": {
      "image/png": "[encoded data removed]",
      "text/plain": [
       "<matplotlib.figure.Figure at 0x7fb517fd7320>"
      ]
     },
     "metadata": {},
     "output_type": "display_data"
    }
   ],
   "source": [
    "num_figures = 6\n",
    "plt.figure(figsize=(16,8))\n",
    "for i, correct in enumerate(correct_indices[:num_figures]):\n",
    "    plt.subplot(1,num_figures,i+1)\n",
    "    plt.imshow(X_test[correct].reshape(28,28), cmap='gray', interpolation='none')\n",
    "    plt.title(\"Predicted {}, Class {}\".format(predicted_classes[correct], y_test[correct]))"
   ]
  },
  {
   "cell_type": "markdown",
   "metadata": {},
   "source": [
    "## Display Incorrect Prediction Examples"
   ]
  },
  {
   "cell_type": "code",
   "execution_count": 15,
   "metadata": {},
   "outputs": [
    {
     "data": {
      "image/png": "[encoded data removed]",
      "text/plain": [
       "<matplotlib.figure.Figure at 0x7fb517f11978>"
      ]
     },
     "metadata": {},
     "output_type": "display_data"
    }
   ],
   "source": [
    "num_figures = 6\n",
    "plt.figure(figsize=(16,8))\n",
    "for i, incorrect in enumerate(incorrect_indices[:num_figures]):\n",
    "    plt.subplot(1,num_figures,i+1)\n",
    "    plt.imshow(X_test[incorrect].reshape(28,28), cmap='gray', interpolation='none')\n",
    "    plt.title(\"Predicted {}, Class {}\".format(predicted_classes[incorrect], y_test[incorrect]))"
   ]
  },
  {
   "cell_type": "markdown",
   "metadata": {},
   "source": [
    "## Evaluation of Incorrect Prediction\n",
    "\n",
    "Above are six examples of the algorithm incorrectly predicting certain numbers within the data given. The neural network had difficulties in determining when a curve or line was connected to another or not, and did not accurately locate smaller gaps between lines (as in the third example, where it assumed an '8' and didn't notice the small gap making it a '2'). It also had trouble recognizing less common ways to write certain numbers. It was correctly able to identify a single vertical line as being a '1', but when written as a typed '1', like in example 4, it failed. The algorithm also could not accurately identify numbers that were blurry or poorly written, as the grayscale had a harder time determining separations between lines, as is the case in the final two examples."
   ]
  }
 ],
 "metadata": {
  "kernelspec": {
   "display_name": "Python 3",
   "language": "python",
   "name": "python3"
  },
  "language_info": {
   "codemirror_mode": {
    "name": "ipython",
    "version": 3
   },
   "file_extension": ".py",
   "mimetype": "text/x-python",
   "name": "python",
   "nbconvert_exporter": "python",
   "pygments_lexer": "ipython3",
   "version": "3.5.2"
  }
 },
 "nbformat": 4,
 "nbformat_minor": 2
}
