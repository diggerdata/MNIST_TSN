{
 "cells": [
  {
   "cell_type": "code",
   "execution_count": 1,
   "metadata": {},
   "outputs": [],
   "source": [
    "%matplotlib inline"
   ]
  },
  {
   "cell_type": "markdown",
   "metadata": {},
   "source": [
    "# Artificial Neural Networks\n",
    "TODO: Give an introduction to ANNs."
   ]
  },
  {
   "cell_type": "markdown",
   "metadata": {},
   "source": [
    "## Import Dependencies\n",
    "We start by importing the dependencies."
   ]
  },
  {
   "cell_type": "code",
   "execution_count": 2,
   "metadata": {},
   "outputs": [
    {
     "name": "stderr",
     "output_type": "stream",
     "text": [
      "Using TensorFlow backend.\n"
     ]
    }
   ],
   "source": [
    "import numpy as np\n",
    "import matplotlib.pyplot as plt\n",
    "from keras.datasets import mnist\n",
    "from keras.models import Sequential\n",
    "from keras.layers.core import Dense, Dropout, Activation\n",
    "from keras.utils import np_utils\n",
    "from IPython.display import SVG\n",
    "from keras.utils.vis_utils import model_to_dot\n",
    "from sklearn.metrics import confusion_matrix"
   ]
  },
  {
   "cell_type": "markdown",
   "metadata": {},
   "source": [
    "## Load the Data\n",
    "Here we load the data from *images.npy* and *labels.npy* and print the shape of each."
   ]
  },
  {
   "cell_type": "code",
   "execution_count": 3,
   "metadata": {},
   "outputs": [
    {
     "name": "stdout",
     "output_type": "stream",
     "text": [
      "X_train original shape: (6500, 28, 28)\n",
      "y_train original shape: (6500,)\n"
     ]
    }
   ],
   "source": [
    "# Load the image and label data\n",
    "X_raw = np.load('./data/images.npy')\n",
    "y_raw = np.load('./data/labels.npy')\n",
    "\n",
    "# Print the shape of each\n",
    "print(\"X_train original shape:\", X_raw.shape)\n",
    "print(\"y_train original shape:\", y_raw.shape)"
   ]
  },
  {
   "cell_type": "markdown",
   "metadata": {},
   "source": [
    "## Print Out Example Data\n",
    "Using Matplotlib we display 6 examples of the raw images given to us and the classes they are associated with."
   ]
  },
  {
   "cell_type": "code",
   "execution_count": 4,
   "metadata": {},
   "outputs": [
    {
     "data": {
      "image/png": "[encoded data removed]",
      "text/plain": [
       "<matplotlib.figure.Figure at 0x7fa543b6fc18>"
      ]
     },
     "metadata": {},
     "output_type": "display_data"
    }
   ],
   "source": [
    "num_figures = 6\n",
    "plt.figure(figsize=(16,8))\n",
    "for i in range(num_figures):\n",
    "    plt.subplot(1,num_figures,i+1)\n",
    "    plt.imshow(X_raw[i], cmap='gray', interpolation='none')\n",
    "    plt.title(\"Class {}\".format(y_raw[i]))"
   ]
  },
  {
   "cell_type": "markdown",
   "metadata": {},
   "source": [
    "## Reshape The Data\n",
    "We begin by reshaping the raw data given to us in a *6500x28x28* array into three classes:\n",
    "* **X_train** - The training set which is composed of 60%, or 3900 images, of the raw image data.\n",
    "* **X_valid** - The validation set which is composed of 15%, or 975 images, of the raw image data.\n",
    "* **X_test** - The test set which is composed of 25%, or 1625 images, of the raw image data.\n",
    "\n",
    "For each of these sets, we reshape the *28x28* images into a *1x784* array.\n",
    "\n",
    "Because of the nature of Keras, we have to reshape our label data to be in a 10x1 array, where each label is at its value index. For example, the label `4` would be reshaped to be `[0,0,0,0,1,0,0,0,0]`."
   ]
  },
  {
   "cell_type": "code",
   "execution_count": 5,
   "metadata": {},
   "outputs": [
    {
     "name": "stdout",
     "output_type": "stream",
     "text": [
      "Training matrix shape (3900, 784)\n",
      "Validation matrix shape (975, 784)\n",
      "Testing matrix shape (1625, 784)\n"
     ]
    }
   ],
   "source": [
    "# Split and reshape the images into test, validation, and test sets\n",
    "X_train = X_raw[0:3900].reshape(3900, 784)\n",
    "X_valid = X_raw[3900:4875].reshape(975, 784)\n",
    "X_test = X_raw[4875:6500].reshape(1625, 784)\n",
    "\n",
    "# Split the labels into test, validation, and test sets and put them in a vertical array of length 10\n",
    "y_train = np_utils.to_categorical(y_raw[0:3900], 10)\n",
    "y_valid = np_utils.to_categorical(y_raw[3900:4875], 10)\n",
    "y_test = np_utils.to_categorical(y_raw[4875:6500], 10)\n",
    "y_test_raw = y_raw[4875:6500]\n",
    "\n",
    "# Reformat the images from 0-255 integers to 0-1 floats\n",
    "X_train = X_train.astype('float32')\n",
    "X_valid = X_valid.astype('float32')\n",
    "X_test = X_test.astype('float32')\n",
    "X_train /= 255\n",
    "X_valid /= 255\n",
    "X_test /= 255\n",
    "\n",
    "# Print the shape of the new images\n",
    "print(\"Training matrix shape\", X_train.shape)\n",
    "print(\"Validation matrix shape\", X_valid.shape)\n",
    "print(\"Testing matrix shape\", X_test.shape)"
   ]
  },
  {
   "cell_type": "markdown",
   "metadata": {},
   "source": [
    "## Build Our Model\n",
    "TODO: Add a description of our model."
   ]
  },
  {
   "cell_type": "code",
   "execution_count": 6,
   "metadata": {},
   "outputs": [],
   "source": [
    "model = Sequential()\n",
    "model.add(Dense(512, input_shape=(784,)))\n",
    "model.add(Activation('relu'))\n",
    "model.add(Dropout(0.2))\n",
    "model.add(Dense(512))\n",
    "model.add(Activation('relu'))\n",
    "model.add(Dropout(0.2))\n",
    "model.add(Dense(10))\n",
    "model.add(Activation('softmax'))"
   ]
  },
  {
   "cell_type": "markdown",
   "metadata": {},
   "source": [
    "Next, we compile our model using te `binary_crossentropy` loss function, an `adam` optimizer, and using the accuracy of each epoch as our metric."
   ]
  },
  {
   "cell_type": "code",
   "execution_count": null,
   "metadata": {},
   "outputs": [],
   "source": [
    "model.compile(loss='binary_crossentropy', optimizer='adam', metrics=['accuracy'])"
   ]
  },
  {
   "cell_type": "markdown",
   "metadata": {},
   "source": [
    "### Model Structure"
   ]
  },
  {
   "cell_type": "code",
   "execution_count": 8,
   "metadata": {},
   "outputs": [
    {
     "data": {
      "image/svg+xml": [
       "<svg height=\"719pt\" viewBox=\"0.00 0.00 309.00 719.00\" width=\"309pt\" xmlns=\"http://www.w3.org/2000/svg\" xmlns:xlink=\"http://www.w3.org/1999/xlink\">\n",
       "<g class=\"graph\" id=\"graph0\" transform=\"scale(1 1) rotate(0) translate(4 715)\">\n",
       "<title>G</title>\n",
       "<polygon fill=\"white\" points=\"-4,4 -4,-715 305,-715 305,4 -4,4\" stroke=\"none\"/>\n",
       "<!-- 140347782396000 -->\n",
       "<g class=\"node\" id=\"node1\"><title>140347782396000</title>\n",
       "<polygon fill=\"none\" points=\"0,-664.5 0,-710.5 301,-710.5 301,-664.5 0,-664.5\" stroke=\"black\"/>\n",
       "<text font-family=\"Times,serif\" font-size=\"14.00\" text-anchor=\"middle\" x=\"81.5\" y=\"-683.8\">dense_1_input: InputLayer</text>\n",
       "<polyline fill=\"none\" points=\"163,-664.5 163,-710.5 \" stroke=\"black\"/>\n",
       "<text font-family=\"Times,serif\" font-size=\"14.00\" text-anchor=\"middle\" x=\"190.5\" y=\"-695.3\">input:</text>\n",
       "<polyline fill=\"none\" points=\"163,-687.5 218,-687.5 \" stroke=\"black\"/>\n",
       "<text font-family=\"Times,serif\" font-size=\"14.00\" text-anchor=\"middle\" x=\"190.5\" y=\"-672.3\">output:</text>\n",
       "<polyline fill=\"none\" points=\"218,-664.5 218,-710.5 \" stroke=\"black\"/>\n",
       "<text font-family=\"Times,serif\" font-size=\"14.00\" text-anchor=\"middle\" x=\"259.5\" y=\"-695.3\">(None, 784)</text>\n",
       "<polyline fill=\"none\" points=\"218,-687.5 301,-687.5 \" stroke=\"black\"/>\n",
       "<text font-family=\"Times,serif\" font-size=\"14.00\" text-anchor=\"middle\" x=\"259.5\" y=\"-672.3\">(None, 784)</text>\n",
       "</g>\n",
       "<!-- 140347782394208 -->\n",
       "<g class=\"node\" id=\"node2\"><title>140347782394208</title>\n",
       "<polygon fill=\"none\" points=\"30.5,-581.5 30.5,-627.5 270.5,-627.5 270.5,-581.5 30.5,-581.5\" stroke=\"black\"/>\n",
       "<text font-family=\"Times,serif\" font-size=\"14.00\" text-anchor=\"middle\" x=\"81.5\" y=\"-600.8\">dense_1: Dense</text>\n",
       "<polyline fill=\"none\" points=\"132.5,-581.5 132.5,-627.5 \" stroke=\"black\"/>\n",
       "<text font-family=\"Times,serif\" font-size=\"14.00\" text-anchor=\"middle\" x=\"160\" y=\"-612.3\">input:</text>\n",
       "<polyline fill=\"none\" points=\"132.5,-604.5 187.5,-604.5 \" stroke=\"black\"/>\n",
       "<text font-family=\"Times,serif\" font-size=\"14.00\" text-anchor=\"middle\" x=\"160\" y=\"-589.3\">output:</text>\n",
       "<polyline fill=\"none\" points=\"187.5,-581.5 187.5,-627.5 \" stroke=\"black\"/>\n",
       "<text font-family=\"Times,serif\" font-size=\"14.00\" text-anchor=\"middle\" x=\"229\" y=\"-612.3\">(None, 784)</text>\n",
       "<polyline fill=\"none\" points=\"187.5,-604.5 270.5,-604.5 \" stroke=\"black\"/>\n",
       "<text font-family=\"Times,serif\" font-size=\"14.00\" text-anchor=\"middle\" x=\"229\" y=\"-589.3\">(None, 512)</text>\n",
       "</g>\n",
       "<!-- 140347782396000&#45;&gt;140347782394208 -->\n",
       "<g class=\"edge\" id=\"edge1\"><title>140347782396000-&gt;140347782394208</title>\n",
       "<path d=\"M150.5,-664.366C150.5,-656.152 150.5,-646.658 150.5,-637.725\" fill=\"none\" stroke=\"black\"/>\n",
       "<polygon fill=\"black\" points=\"154,-637.607 150.5,-627.607 147,-637.607 154,-637.607\" stroke=\"black\"/>\n",
       "</g>\n",
       "<!-- 140347736066256 -->\n",
       "<g class=\"node\" id=\"node3\"><title>140347736066256</title>\n",
       "<polygon fill=\"none\" points=\"7.5,-498.5 7.5,-544.5 293.5,-544.5 293.5,-498.5 7.5,-498.5\" stroke=\"black\"/>\n",
       "<text font-family=\"Times,serif\" font-size=\"14.00\" text-anchor=\"middle\" x=\"81.5\" y=\"-517.8\">activation_1: Activation</text>\n",
       "<polyline fill=\"none\" points=\"155.5,-498.5 155.5,-544.5 \" stroke=\"black\"/>\n",
       "<text font-family=\"Times,serif\" font-size=\"14.00\" text-anchor=\"middle\" x=\"183\" y=\"-529.3\">input:</text>\n",
       "<polyline fill=\"none\" points=\"155.5,-521.5 210.5,-521.5 \" stroke=\"black\"/>\n",
       "<text font-family=\"Times,serif\" font-size=\"14.00\" text-anchor=\"middle\" x=\"183\" y=\"-506.3\">output:</text>\n",
       "<polyline fill=\"none\" points=\"210.5,-498.5 210.5,-544.5 \" stroke=\"black\"/>\n",
       "<text font-family=\"Times,serif\" font-size=\"14.00\" text-anchor=\"middle\" x=\"252\" y=\"-529.3\">(None, 512)</text>\n",
       "<polyline fill=\"none\" points=\"210.5,-521.5 293.5,-521.5 \" stroke=\"black\"/>\n",
       "<text font-family=\"Times,serif\" font-size=\"14.00\" text-anchor=\"middle\" x=\"252\" y=\"-506.3\">(None, 512)</text>\n",
       "</g>\n",
       "<!-- 140347782394208&#45;&gt;140347736066256 -->\n",
       "<g class=\"edge\" id=\"edge2\"><title>140347782394208-&gt;140347736066256</title>\n",
       "<path d=\"M150.5,-581.366C150.5,-573.152 150.5,-563.658 150.5,-554.725\" fill=\"none\" stroke=\"black\"/>\n",
       "<polygon fill=\"black\" points=\"154,-554.607 150.5,-544.607 147,-554.607 154,-554.607\" stroke=\"black\"/>\n",
       "</g>\n",
       "<!-- 140347797444536 -->\n",
       "<g class=\"node\" id=\"node4\"><title>140347797444536</title>\n",
       "<polygon fill=\"none\" points=\"19,-415.5 19,-461.5 282,-461.5 282,-415.5 19,-415.5\" stroke=\"black\"/>\n",
       "<text font-family=\"Times,serif\" font-size=\"14.00\" text-anchor=\"middle\" x=\"81.5\" y=\"-434.8\">dropout_1: Dropout</text>\n",
       "<polyline fill=\"none\" points=\"144,-415.5 144,-461.5 \" stroke=\"black\"/>\n",
       "<text font-family=\"Times,serif\" font-size=\"14.00\" text-anchor=\"middle\" x=\"171.5\" y=\"-446.3\">input:</text>\n",
       "<polyline fill=\"none\" points=\"144,-438.5 199,-438.5 \" stroke=\"black\"/>\n",
       "<text font-family=\"Times,serif\" font-size=\"14.00\" text-anchor=\"middle\" x=\"171.5\" y=\"-423.3\">output:</text>\n",
       "<polyline fill=\"none\" points=\"199,-415.5 199,-461.5 \" stroke=\"black\"/>\n",
       "<text font-family=\"Times,serif\" font-size=\"14.00\" text-anchor=\"middle\" x=\"240.5\" y=\"-446.3\">(None, 512)</text>\n",
       "<polyline fill=\"none\" points=\"199,-438.5 282,-438.5 \" stroke=\"black\"/>\n",
       "<text font-family=\"Times,serif\" font-size=\"14.00\" text-anchor=\"middle\" x=\"240.5\" y=\"-423.3\">(None, 512)</text>\n",
       "</g>\n",
       "<!-- 140347736066256&#45;&gt;140347797444536 -->\n",
       "<g class=\"edge\" id=\"edge3\"><title>140347736066256-&gt;140347797444536</title>\n",
       "<path d=\"M150.5,-498.366C150.5,-490.152 150.5,-480.658 150.5,-471.725\" fill=\"none\" stroke=\"black\"/>\n",
       "<polygon fill=\"black\" points=\"154,-471.607 150.5,-461.607 147,-471.607 154,-471.607\" stroke=\"black\"/>\n",
       "</g>\n",
       "<!-- 140347736065024 -->\n",
       "<g class=\"node\" id=\"node5\"><title>140347736065024</title>\n",
       "<polygon fill=\"none\" points=\"30.5,-332.5 30.5,-378.5 270.5,-378.5 270.5,-332.5 30.5,-332.5\" stroke=\"black\"/>\n",
       "<text font-family=\"Times,serif\" font-size=\"14.00\" text-anchor=\"middle\" x=\"81.5\" y=\"-351.8\">dense_2: Dense</text>\n",
       "<polyline fill=\"none\" points=\"132.5,-332.5 132.5,-378.5 \" stroke=\"black\"/>\n",
       "<text font-family=\"Times,serif\" font-size=\"14.00\" text-anchor=\"middle\" x=\"160\" y=\"-363.3\">input:</text>\n",
       "<polyline fill=\"none\" points=\"132.5,-355.5 187.5,-355.5 \" stroke=\"black\"/>\n",
       "<text font-family=\"Times,serif\" font-size=\"14.00\" text-anchor=\"middle\" x=\"160\" y=\"-340.3\">output:</text>\n",
       "<polyline fill=\"none\" points=\"187.5,-332.5 187.5,-378.5 \" stroke=\"black\"/>\n",
       "<text font-family=\"Times,serif\" font-size=\"14.00\" text-anchor=\"middle\" x=\"229\" y=\"-363.3\">(None, 512)</text>\n",
       "<polyline fill=\"none\" points=\"187.5,-355.5 270.5,-355.5 \" stroke=\"black\"/>\n",
       "<text font-family=\"Times,serif\" font-size=\"14.00\" text-anchor=\"middle\" x=\"229\" y=\"-340.3\">(None, 512)</text>\n",
       "</g>\n",
       "<!-- 140347797444536&#45;&gt;140347736065024 -->\n",
       "<g class=\"edge\" id=\"edge4\"><title>140347797444536-&gt;140347736065024</title>\n",
       "<path d=\"M150.5,-415.366C150.5,-407.152 150.5,-397.658 150.5,-388.725\" fill=\"none\" stroke=\"black\"/>\n",
       "<polygon fill=\"black\" points=\"154,-388.607 150.5,-378.607 147,-388.607 154,-388.607\" stroke=\"black\"/>\n",
       "</g>\n",
       "<!-- 140347736064912 -->\n",
       "<g class=\"node\" id=\"node6\"><title>140347736064912</title>\n",
       "<polygon fill=\"none\" points=\"7.5,-249.5 7.5,-295.5 293.5,-295.5 293.5,-249.5 7.5,-249.5\" stroke=\"black\"/>\n",
       "<text font-family=\"Times,serif\" font-size=\"14.00\" text-anchor=\"middle\" x=\"81.5\" y=\"-268.8\">activation_2: Activation</text>\n",
       "<polyline fill=\"none\" points=\"155.5,-249.5 155.5,-295.5 \" stroke=\"black\"/>\n",
       "<text font-family=\"Times,serif\" font-size=\"14.00\" text-anchor=\"middle\" x=\"183\" y=\"-280.3\">input:</text>\n",
       "<polyline fill=\"none\" points=\"155.5,-272.5 210.5,-272.5 \" stroke=\"black\"/>\n",
       "<text font-family=\"Times,serif\" font-size=\"14.00\" text-anchor=\"middle\" x=\"183\" y=\"-257.3\">output:</text>\n",
       "<polyline fill=\"none\" points=\"210.5,-249.5 210.5,-295.5 \" stroke=\"black\"/>\n",
       "<text font-family=\"Times,serif\" font-size=\"14.00\" text-anchor=\"middle\" x=\"252\" y=\"-280.3\">(None, 512)</text>\n",
       "<polyline fill=\"none\" points=\"210.5,-272.5 293.5,-272.5 \" stroke=\"black\"/>\n",
       "<text font-family=\"Times,serif\" font-size=\"14.00\" text-anchor=\"middle\" x=\"252\" y=\"-257.3\">(None, 512)</text>\n",
       "</g>\n",
       "<!-- 140347736065024&#45;&gt;140347736064912 -->\n",
       "<g class=\"edge\" id=\"edge5\"><title>140347736065024-&gt;140347736064912</title>\n",
       "<path d=\"M150.5,-332.366C150.5,-324.152 150.5,-314.658 150.5,-305.725\" fill=\"none\" stroke=\"black\"/>\n",
       "<polygon fill=\"black\" points=\"154,-305.607 150.5,-295.607 147,-305.607 154,-305.607\" stroke=\"black\"/>\n",
       "</g>\n",
       "<!-- 140347735805176 -->\n",
       "<g class=\"node\" id=\"node7\"><title>140347735805176</title>\n",
       "<polygon fill=\"none\" points=\"19,-166.5 19,-212.5 282,-212.5 282,-166.5 19,-166.5\" stroke=\"black\"/>\n",
       "<text font-family=\"Times,serif\" font-size=\"14.00\" text-anchor=\"middle\" x=\"81.5\" y=\"-185.8\">dropout_2: Dropout</text>\n",
       "<polyline fill=\"none\" points=\"144,-166.5 144,-212.5 \" stroke=\"black\"/>\n",
       "<text font-family=\"Times,serif\" font-size=\"14.00\" text-anchor=\"middle\" x=\"171.5\" y=\"-197.3\">input:</text>\n",
       "<polyline fill=\"none\" points=\"144,-189.5 199,-189.5 \" stroke=\"black\"/>\n",
       "<text font-family=\"Times,serif\" font-size=\"14.00\" text-anchor=\"middle\" x=\"171.5\" y=\"-174.3\">output:</text>\n",
       "<polyline fill=\"none\" points=\"199,-166.5 199,-212.5 \" stroke=\"black\"/>\n",
       "<text font-family=\"Times,serif\" font-size=\"14.00\" text-anchor=\"middle\" x=\"240.5\" y=\"-197.3\">(None, 512)</text>\n",
       "<polyline fill=\"none\" points=\"199,-189.5 282,-189.5 \" stroke=\"black\"/>\n",
       "<text font-family=\"Times,serif\" font-size=\"14.00\" text-anchor=\"middle\" x=\"240.5\" y=\"-174.3\">(None, 512)</text>\n",
       "</g>\n",
       "<!-- 140347736064912&#45;&gt;140347735805176 -->\n",
       "<g class=\"edge\" id=\"edge6\"><title>140347736064912-&gt;140347735805176</title>\n",
       "<path d=\"M150.5,-249.366C150.5,-241.152 150.5,-231.658 150.5,-222.725\" fill=\"none\" stroke=\"black\"/>\n",
       "<polygon fill=\"black\" points=\"154,-222.607 150.5,-212.607 147,-222.607 154,-222.607\" stroke=\"black\"/>\n",
       "</g>\n",
       "<!-- 140347735803328 -->\n",
       "<g class=\"node\" id=\"node8\"><title>140347735803328</title>\n",
       "<polygon fill=\"none\" points=\"30.5,-83.5 30.5,-129.5 270.5,-129.5 270.5,-83.5 30.5,-83.5\" stroke=\"black\"/>\n",
       "<text font-family=\"Times,serif\" font-size=\"14.00\" text-anchor=\"middle\" x=\"81.5\" y=\"-102.8\">dense_3: Dense</text>\n",
       "<polyline fill=\"none\" points=\"132.5,-83.5 132.5,-129.5 \" stroke=\"black\"/>\n",
       "<text font-family=\"Times,serif\" font-size=\"14.00\" text-anchor=\"middle\" x=\"160\" y=\"-114.3\">input:</text>\n",
       "<polyline fill=\"none\" points=\"132.5,-106.5 187.5,-106.5 \" stroke=\"black\"/>\n",
       "<text font-family=\"Times,serif\" font-size=\"14.00\" text-anchor=\"middle\" x=\"160\" y=\"-91.3\">output:</text>\n",
       "<polyline fill=\"none\" points=\"187.5,-83.5 187.5,-129.5 \" stroke=\"black\"/>\n",
       "<text font-family=\"Times,serif\" font-size=\"14.00\" text-anchor=\"middle\" x=\"229\" y=\"-114.3\">(None, 512)</text>\n",
       "<polyline fill=\"none\" points=\"187.5,-106.5 270.5,-106.5 \" stroke=\"black\"/>\n",
       "<text font-family=\"Times,serif\" font-size=\"14.00\" text-anchor=\"middle\" x=\"229\" y=\"-91.3\">(None, 10)</text>\n",
       "</g>\n",
       "<!-- 140347735805176&#45;&gt;140347735803328 -->\n",
       "<g class=\"edge\" id=\"edge7\"><title>140347735805176-&gt;140347735803328</title>\n",
       "<path d=\"M150.5,-166.366C150.5,-158.152 150.5,-148.658 150.5,-139.725\" fill=\"none\" stroke=\"black\"/>\n",
       "<polygon fill=\"black\" points=\"154,-139.607 150.5,-129.607 147,-139.607 154,-139.607\" stroke=\"black\"/>\n",
       "</g>\n",
       "<!-- 140347735951904 -->\n",
       "<g class=\"node\" id=\"node9\"><title>140347735951904</title>\n",
       "<polygon fill=\"none\" points=\"11,-0.5 11,-46.5 290,-46.5 290,-0.5 11,-0.5\" stroke=\"black\"/>\n",
       "<text font-family=\"Times,serif\" font-size=\"14.00\" text-anchor=\"middle\" x=\"85\" y=\"-19.8\">activation_3: Activation</text>\n",
       "<polyline fill=\"none\" points=\"159,-0.5 159,-46.5 \" stroke=\"black\"/>\n",
       "<text font-family=\"Times,serif\" font-size=\"14.00\" text-anchor=\"middle\" x=\"186.5\" y=\"-31.3\">input:</text>\n",
       "<polyline fill=\"none\" points=\"159,-23.5 214,-23.5 \" stroke=\"black\"/>\n",
       "<text font-family=\"Times,serif\" font-size=\"14.00\" text-anchor=\"middle\" x=\"186.5\" y=\"-8.3\">output:</text>\n",
       "<polyline fill=\"none\" points=\"214,-0.5 214,-46.5 \" stroke=\"black\"/>\n",
       "<text font-family=\"Times,serif\" font-size=\"14.00\" text-anchor=\"middle\" x=\"252\" y=\"-31.3\">(None, 10)</text>\n",
       "<polyline fill=\"none\" points=\"214,-23.5 290,-23.5 \" stroke=\"black\"/>\n",
       "<text font-family=\"Times,serif\" font-size=\"14.00\" text-anchor=\"middle\" x=\"252\" y=\"-8.3\">(None, 10)</text>\n",
       "</g>\n",
       "<!-- 140347735803328&#45;&gt;140347735951904 -->\n",
       "<g class=\"edge\" id=\"edge8\"><title>140347735803328-&gt;140347735951904</title>\n",
       "<path d=\"M150.5,-83.3664C150.5,-75.1516 150.5,-65.6579 150.5,-56.7252\" fill=\"none\" stroke=\"black\"/>\n",
       "<polygon fill=\"black\" points=\"154,-56.6068 150.5,-46.6068 147,-56.6069 154,-56.6068\" stroke=\"black\"/>\n",
       "</g>\n",
       "</g>\n",
       "</svg>"
      ],
      "text/plain": [
       "<IPython.core.display.SVG object>"
      ]
     },
     "execution_count": 8,
     "metadata": {},
     "output_type": "execute_result"
    }
   ],
   "source": [
    "SVG(model_to_dot(model, show_shapes=True, rankdir='TD').create(prog='dot', format='svg'))"
   ]
  },
  {
   "cell_type": "markdown",
   "metadata": {},
   "source": [
    "## Train the Model\n",
    "\n",
    "Below 100 epochs of the model are run with a batch size of 128. The overall accuracy of the model was improved to be nearly perfect by the end of the epochs. "
   ]
  },
  {
   "cell_type": "code",
   "execution_count": 9,
   "metadata": {},
   "outputs": [
    {
     "name": "stdout",
     "output_type": "stream",
     "text": [
      "Train on 3900 samples, validate on 975 samples\n",
      "Epoch 1/100\n",
      "3900/3900 [==============================] - 2s 440us/step - loss: 0.1381 - acc: 0.9508 - val_loss: 0.0616 - val_acc: 0.9792\n",
      "Epoch 2/100\n",
      "3900/3900 [==============================] - 0s 24us/step - loss: 0.0545 - acc: 0.9809 - val_loss: 0.0470 - val_acc: 0.9839\n",
      "Epoch 3/100\n",
      "3900/3900 [==============================] - 0s 23us/step - loss: 0.0381 - acc: 0.9871 - val_loss: 0.0423 - val_acc: 0.9864\n",
      "Epoch 4/100\n",
      "3900/3900 [==============================] - 0s 23us/step - loss: 0.0279 - acc: 0.9907 - val_loss: 0.0427 - val_acc: 0.9866\n",
      "Epoch 5/100\n",
      "3900/3900 [==============================] - 0s 24us/step - loss: 0.0210 - acc: 0.9935 - val_loss: 0.0433 - val_acc: 0.9873\n",
      "Epoch 6/100\n",
      "3900/3900 [==============================] - 0s 22us/step - loss: 0.0154 - acc: 0.9949 - val_loss: 0.0467 - val_acc: 0.9869\n",
      "Epoch 7/100\n",
      "3900/3900 [==============================] - 0s 23us/step - loss: 0.0118 - acc: 0.9965 - val_loss: 0.0386 - val_acc: 0.9892\n",
      "Epoch 8/100\n",
      "3900/3900 [==============================] - 0s 23us/step - loss: 0.0082 - acc: 0.9977 - val_loss: 0.0373 - val_acc: 0.9893\n",
      "Epoch 9/100\n",
      "3900/3900 [==============================] - 0s 24us/step - loss: 0.0089 - acc: 0.9975 - val_loss: 0.0441 - val_acc: 0.9876\n",
      "Epoch 10/100\n",
      "3900/3900 [==============================] - 0s 24us/step - loss: 0.0065 - acc: 0.9981 - val_loss: 0.0435 - val_acc: 0.9890\n",
      "Epoch 11/100\n",
      "3900/3900 [==============================] - 0s 24us/step - loss: 0.0043 - acc: 0.9989 - val_loss: 0.0393 - val_acc: 0.9892\n",
      "Epoch 12/100\n",
      "3900/3900 [==============================] - 0s 23us/step - loss: 0.0029 - acc: 0.9994 - val_loss: 0.0431 - val_acc: 0.9899\n",
      "Epoch 13/100\n",
      "3900/3900 [==============================] - 0s 24us/step - loss: 0.0023 - acc: 0.9995 - val_loss: 0.0435 - val_acc: 0.9887\n",
      "Epoch 14/100\n",
      "3900/3900 [==============================] - 0s 23us/step - loss: 0.0022 - acc: 0.9995 - val_loss: 0.0432 - val_acc: 0.9892\n",
      "Epoch 15/100\n",
      "3900/3900 [==============================] - 0s 23us/step - loss: 0.0018 - acc: 0.9998 - val_loss: 0.0440 - val_acc: 0.9882\n",
      "Epoch 16/100\n",
      "3900/3900 [==============================] - 0s 23us/step - loss: 0.0011 - acc: 0.9998 - val_loss: 0.0463 - val_acc: 0.9895\n",
      "Epoch 17/100\n",
      "3900/3900 [==============================] - 0s 23us/step - loss: 0.0010 - acc: 0.9999 - val_loss: 0.0465 - val_acc: 0.9893\n",
      "Epoch 18/100\n",
      "3900/3900 [==============================] - 0s 24us/step - loss: 8.2666e-04 - acc: 0.9999 - val_loss: 0.0487 - val_acc: 0.9891\n",
      "Epoch 19/100\n",
      "3900/3900 [==============================] - 0s 24us/step - loss: 0.0016 - acc: 0.9995 - val_loss: 0.0466 - val_acc: 0.9890\n",
      "Epoch 20/100\n",
      "3900/3900 [==============================] - 0s 23us/step - loss: 0.0013 - acc: 0.9998 - val_loss: 0.0482 - val_acc: 0.9889\n",
      "Epoch 21/100\n",
      "3900/3900 [==============================] - 0s 23us/step - loss: 9.2042e-04 - acc: 0.9998 - val_loss: 0.0496 - val_acc: 0.9886\n",
      "Epoch 22/100\n",
      "3900/3900 [==============================] - 0s 23us/step - loss: 9.8465e-04 - acc: 0.9998 - val_loss: 0.0490 - val_acc: 0.9886\n",
      "Epoch 23/100\n",
      "3900/3900 [==============================] - 0s 23us/step - loss: 8.8299e-04 - acc: 0.9998 - val_loss: 0.0463 - val_acc: 0.9891\n",
      "Epoch 24/100\n",
      "3900/3900 [==============================] - 0s 24us/step - loss: 6.4961e-04 - acc: 0.9999 - val_loss: 0.0506 - val_acc: 0.9893\n",
      "Epoch 25/100\n",
      "3900/3900 [==============================] - 0s 23us/step - loss: 5.3323e-04 - acc: 1.0000 - val_loss: 0.0506 - val_acc: 0.9884\n",
      "Epoch 26/100\n",
      "3900/3900 [==============================] - 0s 23us/step - loss: 9.2098e-04 - acc: 0.9998 - val_loss: 0.0485 - val_acc: 0.9887\n",
      "Epoch 27/100\n",
      "3900/3900 [==============================] - 0s 23us/step - loss: 4.8754e-04 - acc: 1.0000 - val_loss: 0.0527 - val_acc: 0.9891\n",
      "Epoch 28/100\n",
      "3900/3900 [==============================] - 0s 23us/step - loss: 8.1242e-04 - acc: 0.9997 - val_loss: 0.0519 - val_acc: 0.9897\n",
      "Epoch 29/100\n",
      "3900/3900 [==============================] - 0s 24us/step - loss: 0.0024 - acc: 0.9991 - val_loss: 0.0558 - val_acc: 0.9894\n",
      "Epoch 30/100\n",
      "3900/3900 [==============================] - 0s 23us/step - loss: 0.0033 - acc: 0.9988 - val_loss: 0.0491 - val_acc: 0.9888\n",
      "Epoch 31/100\n",
      "3900/3900 [==============================] - 0s 23us/step - loss: 0.0013 - acc: 0.9997 - val_loss: 0.0505 - val_acc: 0.9895\n",
      "Epoch 32/100\n",
      "3900/3900 [==============================] - 0s 23us/step - loss: 0.0013 - acc: 0.9996 - val_loss: 0.0534 - val_acc: 0.9883\n",
      "Epoch 33/100\n",
      "3900/3900 [==============================] - 0s 23us/step - loss: 0.0013 - acc: 0.9995 - val_loss: 0.0637 - val_acc: 0.9874\n",
      "Epoch 34/100\n",
      "3900/3900 [==============================] - 0s 23us/step - loss: 0.0021 - acc: 0.9994 - val_loss: 0.0600 - val_acc: 0.9895\n",
      "Epoch 35/100\n",
      "3900/3900 [==============================] - 0s 23us/step - loss: 0.0026 - acc: 0.9992 - val_loss: 0.0497 - val_acc: 0.9897\n",
      "Epoch 36/100\n",
      "3900/3900 [==============================] - 0s 23us/step - loss: 0.0025 - acc: 0.9992 - val_loss: 0.0619 - val_acc: 0.9890\n",
      "Epoch 37/100\n",
      "3900/3900 [==============================] - 0s 23us/step - loss: 0.0022 - acc: 0.9994 - val_loss: 0.0517 - val_acc: 0.9902\n",
      "Epoch 38/100\n",
      "3900/3900 [==============================] - 0s 23us/step - loss: 9.7038e-04 - acc: 0.9998 - val_loss: 0.0464 - val_acc: 0.9907\n",
      "Epoch 39/100\n",
      "3900/3900 [==============================] - 0s 23us/step - loss: 0.0017 - acc: 0.9994 - val_loss: 0.0682 - val_acc: 0.9861\n",
      "Epoch 40/100\n",
      "3900/3900 [==============================] - 0s 22us/step - loss: 0.0020 - acc: 0.9993 - val_loss: 0.0618 - val_acc: 0.9884\n",
      "Epoch 41/100\n",
      "3900/3900 [==============================] - 0s 23us/step - loss: 7.5863e-04 - acc: 0.9997 - val_loss: 0.0576 - val_acc: 0.9887\n",
      "Epoch 42/100\n",
      "3900/3900 [==============================] - 0s 23us/step - loss: 5.7474e-04 - acc: 0.9998 - val_loss: 0.0560 - val_acc: 0.9894\n",
      "Epoch 43/100\n",
      "3900/3900 [==============================] - 0s 23us/step - loss: 3.5348e-04 - acc: 0.9999 - val_loss: 0.0565 - val_acc: 0.9897\n",
      "Epoch 44/100\n",
      "3900/3900 [==============================] - 0s 23us/step - loss: 2.8219e-04 - acc: 1.0000 - val_loss: 0.0555 - val_acc: 0.9896\n",
      "Epoch 45/100\n",
      "3900/3900 [==============================] - 0s 23us/step - loss: 1.8466e-04 - acc: 1.0000 - val_loss: 0.0567 - val_acc: 0.9896\n",
      "Epoch 46/100\n",
      "3900/3900 [==============================] - 0s 23us/step - loss: 2.1378e-04 - acc: 0.9999 - val_loss: 0.0568 - val_acc: 0.9899\n",
      "Epoch 47/100\n",
      "3900/3900 [==============================] - 0s 22us/step - loss: 1.2889e-04 - acc: 1.0000 - val_loss: 0.0579 - val_acc: 0.9899\n",
      "Epoch 48/100\n",
      "3900/3900 [==============================] - 0s 23us/step - loss: 7.2164e-05 - acc: 1.0000 - val_loss: 0.0589 - val_acc: 0.9893\n",
      "Epoch 49/100\n",
      "3900/3900 [==============================] - 0s 23us/step - loss: 4.9900e-05 - acc: 1.0000 - val_loss: 0.0570 - val_acc: 0.9898\n",
      "Epoch 50/100\n",
      "3900/3900 [==============================] - 0s 22us/step - loss: 5.7406e-05 - acc: 1.0000 - val_loss: 0.0553 - val_acc: 0.9897\n",
      "Epoch 51/100\n",
      "3900/3900 [==============================] - 0s 24us/step - loss: 4.7912e-05 - acc: 1.0000 - val_loss: 0.0557 - val_acc: 0.9891\n",
      "Epoch 52/100\n",
      "3900/3900 [==============================] - 0s 22us/step - loss: 8.5379e-05 - acc: 1.0000 - val_loss: 0.0598 - val_acc: 0.9899\n",
      "Epoch 53/100\n",
      "3900/3900 [==============================] - 0s 24us/step - loss: 7.2794e-05 - acc: 1.0000 - val_loss: 0.0597 - val_acc: 0.9897\n",
      "Epoch 54/100\n",
      "3900/3900 [==============================] - 0s 23us/step - loss: 6.6931e-05 - acc: 1.0000 - val_loss: 0.0552 - val_acc: 0.9901\n",
      "Epoch 55/100\n",
      "3900/3900 [==============================] - 0s 23us/step - loss: 6.1674e-04 - acc: 0.9998 - val_loss: 0.0611 - val_acc: 0.9888\n",
      "Epoch 56/100\n",
      "3900/3900 [==============================] - 0s 23us/step - loss: 0.0063 - acc: 0.9988 - val_loss: 0.0555 - val_acc: 0.9897\n",
      "Epoch 57/100\n",
      "3900/3900 [==============================] - 0s 23us/step - loss: 0.0018 - acc: 0.9994 - val_loss: 0.0610 - val_acc: 0.9891\n",
      "Epoch 58/100\n",
      "3900/3900 [==============================] - 0s 23us/step - loss: 8.6064e-04 - acc: 0.9998 - val_loss: 0.0542 - val_acc: 0.9903\n",
      "Epoch 59/100\n",
      "3900/3900 [==============================] - 0s 23us/step - loss: 4.3273e-04 - acc: 0.9999 - val_loss: 0.0589 - val_acc: 0.9901\n"
     ]
    },
    {
     "name": "stdout",
     "output_type": "stream",
     "text": [
      "Epoch 60/100\n",
      "3900/3900 [==============================] - 0s 23us/step - loss: 0.0011 - acc: 0.9997 - val_loss: 0.0780 - val_acc: 0.9872\n",
      "Epoch 61/100\n",
      "3900/3900 [==============================] - 0s 22us/step - loss: 0.0021 - acc: 0.9992 - val_loss: 0.0679 - val_acc: 0.9882\n",
      "Epoch 62/100\n",
      "3900/3900 [==============================] - 0s 22us/step - loss: 0.0015 - acc: 0.9996 - val_loss: 0.0745 - val_acc: 0.9886\n",
      "Epoch 63/100\n",
      "3900/3900 [==============================] - 0s 23us/step - loss: 0.0021 - acc: 0.9991 - val_loss: 0.0705 - val_acc: 0.9882\n",
      "Epoch 64/100\n",
      "3900/3900 [==============================] - 0s 22us/step - loss: 0.0030 - acc: 0.9988 - val_loss: 0.0661 - val_acc: 0.9893\n",
      "Epoch 65/100\n",
      "3900/3900 [==============================] - 0s 22us/step - loss: 0.0052 - acc: 0.9986 - val_loss: 0.0599 - val_acc: 0.9894\n",
      "Epoch 66/100\n",
      "3900/3900 [==============================] - 0s 22us/step - loss: 0.0043 - acc: 0.9983 - val_loss: 0.0730 - val_acc: 0.9884\n",
      "Epoch 67/100\n",
      "3900/3900 [==============================] - 0s 22us/step - loss: 0.0028 - acc: 0.9992 - val_loss: 0.0656 - val_acc: 0.9875\n",
      "Epoch 68/100\n",
      "3900/3900 [==============================] - 0s 22us/step - loss: 0.0013 - acc: 0.9996 - val_loss: 0.0697 - val_acc: 0.9875\n",
      "Epoch 69/100\n",
      "3900/3900 [==============================] - 0s 22us/step - loss: 0.0021 - acc: 0.9992 - val_loss: 0.0667 - val_acc: 0.9873\n",
      "Epoch 70/100\n",
      "3900/3900 [==============================] - 0s 23us/step - loss: 0.0027 - acc: 0.9993 - val_loss: 0.0617 - val_acc: 0.9890\n",
      "Epoch 71/100\n",
      "3900/3900 [==============================] - 0s 22us/step - loss: 7.7090e-04 - acc: 0.9997 - val_loss: 0.0637 - val_acc: 0.9891\n",
      "Epoch 72/100\n",
      "3900/3900 [==============================] - 0s 22us/step - loss: 8.5580e-04 - acc: 0.9997 - val_loss: 0.0717 - val_acc: 0.9879\n",
      "Epoch 73/100\n",
      "3900/3900 [==============================] - 0s 22us/step - loss: 8.3031e-04 - acc: 0.9997 - val_loss: 0.0664 - val_acc: 0.9896\n",
      "Epoch 74/100\n",
      "3900/3900 [==============================] - 0s 23us/step - loss: 0.0029 - acc: 0.9995 - val_loss: 0.0598 - val_acc: 0.9888\n",
      "Epoch 75/100\n",
      "3900/3900 [==============================] - 0s 22us/step - loss: 0.0030 - acc: 0.9992 - val_loss: 0.0608 - val_acc: 0.9892\n",
      "Epoch 76/100\n",
      "3900/3900 [==============================] - 0s 23us/step - loss: 6.8018e-04 - acc: 0.9998 - val_loss: 0.0628 - val_acc: 0.9887\n",
      "Epoch 77/100\n",
      "3900/3900 [==============================] - 0s 22us/step - loss: 2.1742e-04 - acc: 0.9999 - val_loss: 0.0617 - val_acc: 0.9905\n",
      "Epoch 78/100\n",
      "3900/3900 [==============================] - 0s 22us/step - loss: 9.0591e-05 - acc: 1.0000 - val_loss: 0.0583 - val_acc: 0.9896\n",
      "Epoch 79/100\n",
      "3900/3900 [==============================] - 0s 22us/step - loss: 1.6130e-04 - acc: 0.9999 - val_loss: 0.0675 - val_acc: 0.9896\n",
      "Epoch 80/100\n",
      "3900/3900 [==============================] - 0s 22us/step - loss: 9.7830e-04 - acc: 0.9996 - val_loss: 0.0619 - val_acc: 0.9889\n",
      "Epoch 81/100\n",
      "3900/3900 [==============================] - 0s 21us/step - loss: 0.0029 - acc: 0.9992 - val_loss: 0.0684 - val_acc: 0.9890\n",
      "Epoch 82/100\n",
      "3900/3900 [==============================] - 0s 22us/step - loss: 0.0020 - acc: 0.9994 - val_loss: 0.0806 - val_acc: 0.9881\n",
      "Epoch 83/100\n",
      "3900/3900 [==============================] - 0s 22us/step - loss: 0.0012 - acc: 0.9996 - val_loss: 0.0665 - val_acc: 0.9885\n",
      "Epoch 84/100\n",
      "3900/3900 [==============================] - 0s 22us/step - loss: 2.0169e-04 - acc: 1.0000 - val_loss: 0.0653 - val_acc: 0.9894\n",
      "Epoch 85/100\n",
      "3900/3900 [==============================] - 0s 23us/step - loss: 5.4683e-04 - acc: 0.9999 - val_loss: 0.0672 - val_acc: 0.9893\n",
      "Epoch 86/100\n",
      "3900/3900 [==============================] - 0s 22us/step - loss: 3.9485e-04 - acc: 0.9999 - val_loss: 0.0622 - val_acc: 0.9904\n",
      "Epoch 87/100\n",
      "3900/3900 [==============================] - 0s 22us/step - loss: 0.0011 - acc: 0.9996 - val_loss: 0.0684 - val_acc: 0.9894\n",
      "Epoch 88/100\n",
      "3900/3900 [==============================] - 0s 24us/step - loss: 5.1152e-04 - acc: 0.9998 - val_loss: 0.0661 - val_acc: 0.9897\n",
      "Epoch 89/100\n",
      "3900/3900 [==============================] - 0s 22us/step - loss: 3.0941e-04 - acc: 0.9999 - val_loss: 0.0656 - val_acc: 0.9893\n",
      "Epoch 90/100\n",
      "3900/3900 [==============================] - 0s 22us/step - loss: 2.7258e-04 - acc: 0.9999 - val_loss: 0.0670 - val_acc: 0.9891\n",
      "Epoch 91/100\n",
      "3900/3900 [==============================] - 0s 24us/step - loss: 7.8269e-05 - acc: 1.0000 - val_loss: 0.0637 - val_acc: 0.9894\n",
      "Epoch 92/100\n",
      "3900/3900 [==============================] - 0s 22us/step - loss: 4.8794e-05 - acc: 1.0000 - val_loss: 0.0678 - val_acc: 0.9893\n",
      "Epoch 93/100\n",
      "3900/3900 [==============================] - 0s 22us/step - loss: 1.2531e-04 - acc: 0.9999 - val_loss: 0.0680 - val_acc: 0.9887\n",
      "Epoch 94/100\n",
      "3900/3900 [==============================] - 0s 22us/step - loss: 9.2838e-04 - acc: 0.9996 - val_loss: 0.0785 - val_acc: 0.9886\n",
      "Epoch 95/100\n",
      "3900/3900 [==============================] - 0s 23us/step - loss: 0.0012 - acc: 0.9998 - val_loss: 0.0868 - val_acc: 0.9872\n",
      "Epoch 96/100\n",
      "3900/3900 [==============================] - 0s 23us/step - loss: 0.0016 - acc: 0.9993 - val_loss: 0.0685 - val_acc: 0.9882\n",
      "Epoch 97/100\n",
      "3900/3900 [==============================] - 0s 23us/step - loss: 0.0045 - acc: 0.9989 - val_loss: 0.0695 - val_acc: 0.9894\n",
      "Epoch 98/100\n",
      "3900/3900 [==============================] - 0s 22us/step - loss: 0.0033 - acc: 0.9987 - val_loss: 0.0757 - val_acc: 0.9883\n",
      "Epoch 99/100\n",
      "3900/3900 [==============================] - 0s 22us/step - loss: 0.0014 - acc: 0.9996 - val_loss: 0.0664 - val_acc: 0.9901\n",
      "Epoch 100/100\n",
      "3900/3900 [==============================] - 0s 22us/step - loss: 0.0022 - acc: 0.9993 - val_loss: 0.0649 - val_acc: 0.9899\n"
     ]
    }
   ],
   "source": [
    "history = model.fit(X_train, y_train,\n",
    "          batch_size=128, \n",
    "          epochs=100,\n",
    "          verbose=1,\n",
    "          validation_data=(X_valid, y_valid))"
   ]
  },
  {
   "cell_type": "markdown",
   "metadata": {},
   "source": [
    "## Generate Loss and Accuracy Graphs by Epoch\n",
    "\n",
    "Below we graph the accuracy and loss per epoch for our Artificial Neural Network. Halfway through the program, the accuracy of the middle epochs had a dip in its consistency, however the lowest value was just over 94%, which is an impressive lowest value. "
   ]
  },
  {
   "cell_type": "code",
   "execution_count": 10,
   "metadata": {},
   "outputs": [
    {
     "data": {
      "text/plain": [
       "<matplotlib.legend.Legend at 0x7fa5b56bbc50>"
      ]
     },
     "execution_count": 10,
     "metadata": {},
     "output_type": "execute_result"
    },
    {
     "data": {
      "image/png": "[encoded data removed]",
      "text/plain": [
       "<matplotlib.figure.Figure at 0x7fa53c069fd0>"
      ]
     },
     "metadata": {},
     "output_type": "display_data"
    }
   ],
   "source": [
    "plt.figure(figsize=(16,5))\n",
    "plt.subplot(1,2,1)\n",
    "plt.title('Loss per Epoch')\n",
    "plt.xlabel('Epochs')\n",
    "plt.ylabel('Loss')\n",
    "plt.plot(history.history['loss'])\n",
    "plt.plot(history.history['val_loss'])\n",
    "plt.legend(['Training', 'Validation'])\n",
    "\n",
    "plt.subplot(1,2,2)\n",
    "plt.title('Accuracy per Epoch')\n",
    "plt.xlabel('Epochs')\n",
    "plt.ylabel('Accuracy')\n",
    "plt.plot(history.history['acc'])\n",
    "plt.plot(history.history['val_acc'])\n",
    "plt.legend(['Training', 'Validation'], loc='lower right')"
   ]
  },
  {
   "cell_type": "markdown",
   "metadata": {},
   "source": [
    "## Print End Result Accuracy\n",
    "\n",
    "Overall, our ANN's accuracy on the testing set finished at 99.29%, giving a conclusive success on our model's algorithm. \n",
    "\n",
    "Further below is a confusion matrix demonstrating our model's prediction score. It shows that it was very consistent throughout the entire run. "
   ]
  },
  {
   "cell_type": "code",
   "execution_count": 11,
   "metadata": {},
   "outputs": [
    {
     "name": "stdout",
     "output_type": "stream",
     "text": [
      "1625/1625 [==============================] - 0s 25us/step\n",
      "Test score: 0.043764794775976605\n",
      "Test accuracy: 0.9929230757493239\n"
     ]
    }
   ],
   "source": [
    "score = model.evaluate(X_test, y_test, verbose=1)\n",
    "print('Test score:', score[0])\n",
    "print('Test accuracy:', score[1])"
   ]
  },
  {
   "cell_type": "markdown",
   "metadata": {},
   "source": [
    "## Confusion Matrix"
   ]
  },
  {
   "cell_type": "code",
   "execution_count": 12,
   "metadata": {},
   "outputs": [
    {
     "data": {
      "text/plain": [
       "Text(0.5,1,'Confusion Matrix')"
      ]
     },
     "execution_count": 12,
     "metadata": {},
     "output_type": "execute_result"
    },
    {
     "data": {
      "image/png": "[encoded data removed]",
      "text/plain": [
       "<matplotlib.figure.Figure at 0x7fa5b56c6c88>"
      ]
     },
     "metadata": {},
     "output_type": "display_data"
    }
   ],
   "source": [
    "y_pred = model.predict(X_test)\n",
    "y_pred = y_pred > 0.5\n",
    "\n",
    "cnf_matrix_dt = confusion_matrix(y_test_raw, y_pred.argmax(axis=1))\n",
    "plt.figure(figsize=(5,5))\n",
    "plt.imshow(cnf_matrix_dt, cmap='plasma')\n",
    "plt.colorbar()\n",
    "plt.title(\"Confusion Matrix\")"
   ]
  },
  {
   "cell_type": "markdown",
   "metadata": {},
   "source": [
    "## Display Correct Prediction Examples"
   ]
  },
  {
   "cell_type": "code",
   "execution_count": 13,
   "metadata": {},
   "outputs": [],
   "source": [
    "predicted_classes = model.predict_classes(X_test)\n",
    "correct_indices = np.nonzero(predicted_classes == y_test_raw)[0]\n",
    "incorrect_indices = np.nonzero(predicted_classes != y_test_raw)[0]"
   ]
  },
  {
   "cell_type": "code",
   "execution_count": 14,
   "metadata": {},
   "outputs": [
    {
     "data": {
      "image/png": "[encoded data removed]",
      "text/plain": [
       "<matplotlib.figure.Figure at 0x7fa5340808d0>"
      ]
     },
     "metadata": {},
     "output_type": "display_data"
    }
   ],
   "source": [
    "num_figures = 6\n",
    "plt.figure(figsize=(16,8))\n",
    "for i, correct in enumerate(correct_indices[:num_figures]):\n",
    "    plt.subplot(1,num_figures,i+1)\n",
    "    plt.imshow(X_test[correct].reshape(28,28), cmap='gray', interpolation='none')\n",
    "    plt.title(\"Predicted {}, Class {}\".format(predicted_classes[correct], y_test_raw[correct]))"
   ]
  },
  {
   "cell_type": "markdown",
   "metadata": {},
   "source": [
    "## Display Incorrect Prediction Examples"
   ]
  },
  {
   "cell_type": "code",
   "execution_count": 15,
   "metadata": {},
   "outputs": [
    {
     "data": {
      "image/png": "[encoded data removed]",
      "text/plain": [
       "<matplotlib.figure.Figure at 0x7fa534080898>"
      ]
     },
     "metadata": {},
     "output_type": "display_data"
    }
   ],
   "source": [
    "num_figures = 6\n",
    "plt.figure(figsize=(16,8))\n",
    "for i, incorrect in enumerate(incorrect_indices[:num_figures]):\n",
    "    plt.subplot(1,num_figures,i+1)\n",
    "    plt.imshow(X_test[incorrect].reshape(28,28), cmap='gray', interpolation='none')\n",
    "    plt.title(\"Predicted {}, Class {}\".format(predicted_classes[incorrect], y_test_raw[incorrect]))"
   ]
  },
  {
   "cell_type": "markdown",
   "metadata": {},
   "source": [
    "## Evaluation of Incorrect Prediction\n",
    "\n",
    "Above are six examples of the algorithm incorrectly predicting certain numbers within the data given. The neural network had difficulties in determining when a curve or line was connected to another or not, and did not accurately locate smaller gaps between lines (as in the third example, where it assumed an '8' and didn't notice the small gap making it a '2'). It also had trouble recognizing less common ways to write certain numbers. It was correctly able to identify a single vertical line as being a '1', but when written as a typed '1', like in example 4, it failed. The algorithm also could not accurately identify numbers that were blurry or poorly written, as the grayscale had a harder time determining separations between lines, as is the case in the final two examples."
   ]
  }
 ],
 "metadata": {
  "kernelspec": {
   "display_name": "Python 3",
   "language": "python",
   "name": "python3"
  },
  "language_info": {
   "codemirror_mode": {
    "name": "ipython",
    "version": 3
   },
   "file_extension": ".py",
   "mimetype": "text/x-python",
   "name": "python",
   "nbconvert_exporter": "python",
   "pygments_lexer": "ipython3",
   "version": "3.5.2"
  }
 },
 "nbformat": 4,
 "nbformat_minor": 2
}
