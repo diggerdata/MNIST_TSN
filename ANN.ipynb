{
 "cells": [
  {
   "cell_type": "code",
   "execution_count": 1,
   "metadata": {},
   "outputs": [],
   "source": [
    "%matplotlib inline"
   ]
  },
  {
   "cell_type": "markdown",
   "metadata": {},
   "source": [
    "# Artificial Neural Networks\n",
    "This Artificial Neural Network(ANN) is composed of an input of 784 greyscale ratings from 0-255 representing each of the pixels in the 28x28 image. The 28x28 array representing the image is linearized to an array of length 784. This gets passed through two layers of 512 neurons each, to get an output of ten nodes, with only one activating to resprent the answer from 0-9. 100 epochs were used for training on 3900 of the 6500 data points to achieve a testing accuracy of 96.12%.\n",
    "\n",
    "## Import Dependencies\n",
    "We begin by importing the required packages."
   ]
  },
  {
   "cell_type": "code",
   "execution_count": 2,
   "metadata": {},
   "outputs": [
    {
     "name": "stderr",
     "output_type": "stream",
     "text": [
      "Using TensorFlow backend.\n"
     ]
    }
   ],
   "source": [
    "import numpy as np\n",
    "import matplotlib.pyplot as plt\n",
    "from keras.datasets import mnist\n",
    "from keras.models import Sequential\n",
    "from keras.layers.core import Dense, Dropout, Activation\n",
    "from keras.utils import np_utils\n",
    "from IPython.display import SVG\n",
    "from keras.utils.vis_utils import model_to_dot"
   ]
  },
  {
   "cell_type": "markdown",
   "metadata": {},
   "source": [
    "## Load the Data"
   ]
  },
  {
   "cell_type": "code",
   "execution_count": 3,
   "metadata": {},
   "outputs": [
    {
     "name": "stdout",
     "output_type": "stream",
     "text": [
      "X_train original shape: (6500, 28, 28)\n",
      "y_train original shape: (6500,)\n"
     ]
    }
   ],
   "source": [
    "nb_classes = 10\n",
    "\n",
    "# the data, shuffled and split between tran and test sets\n",
    "X_raw = np.load('./data/images.npy')\n",
    "y_raw = np.load('./data/labels.npy')\n",
    "y_test = y_raw[4875:6500]\n",
    "# print(\"X_train original shape\", X_train.shape)\n",
    "# print(\"y_train original shape\", y_train.shape)\n",
    "print(\"X_train original shape:\", X_raw.shape)\n",
    "print(\"y_train original shape:\", y_raw.shape)"
   ]
  },
  {
   "cell_type": "markdown",
   "metadata": {},
   "source": [
    "### Print Out Example Data\n"
   ]
  },
  {
   "cell_type": "code",
   "execution_count": 4,
   "metadata": {},
   "outputs": [
    {
     "data": {
      "image/png": "[encoded data removed]",
      "text/plain": [
       "<matplotlib.figure.Figure at 0x7f2456d4a710>"
      ]
     },
     "metadata": {},
     "output_type": "display_data"
    }
   ],
   "source": [
    "num_figures = 6\n",
    "plt.figure(figsize=(16,8))\n",
    "for i in range(num_figures):\n",
    "    plt.subplot(1,num_figures,i+1)\n",
    "    plt.imshow(X_raw[i], cmap='gray', interpolation='none')\n",
    "    plt.title(\"Class {}\".format(y_raw[i]))"
   ]
  },
  {
   "cell_type": "markdown",
   "metadata": {},
   "source": [
    "## Reshape The Data"
   ]
  },
  {
   "cell_type": "code",
   "execution_count": 5,
   "metadata": {},
   "outputs": [
    {
     "name": "stdout",
     "output_type": "stream",
     "text": [
      "Training matrix shape (3900, 784)\n",
      "Validation matrix shape (975, 784)\n",
      "Testing matrix shape (1625, 784)\n"
     ]
    }
   ],
   "source": [
    "X_train = X_raw[0:3900].reshape(3900, 784)\n",
    "X_valid = X_raw[3900:4875].reshape(975, 784)\n",
    "X_test = X_raw[4875:6500].reshape(1625, 784)\n",
    "\n",
    "X_train = X_train.astype('float32')\n",
    "X_valid = X_valid.astype('float32')\n",
    "X_test = X_test.astype('float32')\n",
    "X_train /= 255\n",
    "X_valid /= 255\n",
    "X_test /= 255\n",
    "print(\"Training matrix shape\", X_train.shape)\n",
    "print(\"Validation matrix shape\", X_valid.shape)\n",
    "print(\"Testing matrix shape\", X_test.shape)"
   ]
  },
  {
   "cell_type": "code",
   "execution_count": 6,
   "metadata": {},
   "outputs": [],
   "source": [
    "Y_train = np_utils.to_categorical(y_raw[0:3900], nb_classes)\n",
    "Y_valid = np_utils.to_categorical(y_raw[3900:4875], nb_classes)\n",
    "Y_test = np_utils.to_categorical(y_raw[4875:6500], nb_classes)"
   ]
  },
  {
   "cell_type": "markdown",
   "metadata": {},
   "source": [
    "## Build Our Model"
   ]
  },
  {
   "cell_type": "code",
   "execution_count": 7,
   "metadata": {},
   "outputs": [],
   "source": [
    "model = Sequential()\n",
    "model.add(Dense(512, input_shape=(784,)))\n",
    "model.add(Activation('relu'))\n",
    "                           \n",
    "model.add(Dropout(0.2))\n",
    "model.add(Dense(512))\n",
    "model.add(Activation('relu'))\n",
    "model.add(Dropout(0.2))\n",
    "model.add(Dense(10))\n",
    "model.add(Activation('softmax'))"
   ]
  },
  {
   "cell_type": "code",
   "execution_count": 8,
   "metadata": {},
   "outputs": [],
   "source": [
    "model.compile(loss='categorical_crossentropy', optimizer='sgd', metrics=['accuracy'])"
   ]
  },
  {
   "cell_type": "markdown",
   "metadata": {},
   "source": [
    "## Train the Model"
   ]
  },
  {
   "cell_type": "code",
   "execution_count": 9,
   "metadata": {},
   "outputs": [
    {
     "name": "stdout",
     "output_type": "stream",
     "text": [
      "Train on 3900 samples, validate on 975 samples\n",
      "Epoch 1/100\n",
      "3900/3900 [==============================] - 0s 122us/step - loss: 2.2766 - acc: 0.1638 - val_loss: 2.1379 - val_acc: 0.3990\n",
      "Epoch 2/100\n",
      "3900/3900 [==============================] - 0s 19us/step - loss: 2.0722 - acc: 0.3964 - val_loss: 1.9306 - val_acc: 0.6308\n",
      "Epoch 3/100\n",
      "3900/3900 [==============================] - 0s 19us/step - loss: 1.8766 - acc: 0.5467 - val_loss: 1.7192 - val_acc: 0.6903\n",
      "Epoch 4/100\n",
      "3900/3900 [==============================] - 0s 19us/step - loss: 1.6766 - acc: 0.6518 - val_loss: 1.5046 - val_acc: 0.7251\n",
      "Epoch 5/100\n",
      "3900/3900 [==============================] - 0s 19us/step - loss: 1.4754 - acc: 0.6936 - val_loss: 1.3042 - val_acc: 0.7559\n",
      "Epoch 6/100\n",
      "3900/3900 [==============================] - 0s 19us/step - loss: 1.2985 - acc: 0.7215 - val_loss: 1.1304 - val_acc: 0.7826\n",
      "Epoch 7/100\n",
      "3900/3900 [==============================] - 0s 20us/step - loss: 1.1393 - acc: 0.7559 - val_loss: 0.9888 - val_acc: 0.8021\n",
      "Epoch 8/100\n",
      "3900/3900 [==============================] - 0s 18us/step - loss: 1.0221 - acc: 0.7687 - val_loss: 0.8758 - val_acc: 0.8164\n",
      "Epoch 9/100\n",
      "3900/3900 [==============================] - 0s 19us/step - loss: 0.9169 - acc: 0.7856 - val_loss: 0.7917 - val_acc: 0.8267\n",
      "Epoch 10/100\n",
      "3900/3900 [==============================] - 0s 19us/step - loss: 0.8325 - acc: 0.8064 - val_loss: 0.7223 - val_acc: 0.8349\n",
      "Epoch 11/100\n",
      "3900/3900 [==============================] - 0s 18us/step - loss: 0.7756 - acc: 0.8054 - val_loss: 0.6646 - val_acc: 0.8513\n",
      "Epoch 12/100\n",
      "3900/3900 [==============================] - 0s 19us/step - loss: 0.7237 - acc: 0.8187 - val_loss: 0.6226 - val_acc: 0.8605\n",
      "Epoch 13/100\n",
      "3900/3900 [==============================] - 0s 19us/step - loss: 0.6918 - acc: 0.8218 - val_loss: 0.5856 - val_acc: 0.8687\n",
      "Epoch 14/100\n",
      "3900/3900 [==============================] - 0s 18us/step - loss: 0.6425 - acc: 0.8344 - val_loss: 0.5595 - val_acc: 0.8759\n",
      "Epoch 15/100\n",
      "3900/3900 [==============================] - 0s 18us/step - loss: 0.6209 - acc: 0.8382 - val_loss: 0.5306 - val_acc: 0.8718\n",
      "Epoch 16/100\n",
      "3900/3900 [==============================] - 0s 19us/step - loss: 0.5904 - acc: 0.8423 - val_loss: 0.5091 - val_acc: 0.8769\n",
      "Epoch 17/100\n",
      "3900/3900 [==============================] - 0s 18us/step - loss: 0.5644 - acc: 0.8472 - val_loss: 0.4919 - val_acc: 0.8800\n",
      "Epoch 18/100\n",
      "3900/3900 [==============================] - 0s 18us/step - loss: 0.5459 - acc: 0.8595 - val_loss: 0.4752 - val_acc: 0.8831\n",
      "Epoch 19/100\n",
      "3900/3900 [==============================] - 0s 18us/step - loss: 0.5253 - acc: 0.8562 - val_loss: 0.4603 - val_acc: 0.8872\n",
      "Epoch 20/100\n",
      "3900/3900 [==============================] - 0s 18us/step - loss: 0.5160 - acc: 0.8569 - val_loss: 0.4482 - val_acc: 0.8851\n",
      "Epoch 21/100\n",
      "3900/3900 [==============================] - 0s 18us/step - loss: 0.5047 - acc: 0.8633 - val_loss: 0.4371 - val_acc: 0.8872\n",
      "Epoch 22/100\n",
      "3900/3900 [==============================] - 0s 19us/step - loss: 0.4906 - acc: 0.8623 - val_loss: 0.4266 - val_acc: 0.8892\n",
      "Epoch 23/100\n",
      "3900/3900 [==============================] - 0s 19us/step - loss: 0.4713 - acc: 0.8690 - val_loss: 0.4182 - val_acc: 0.8913\n",
      "Epoch 24/100\n",
      "3900/3900 [==============================] - 0s 18us/step - loss: 0.4596 - acc: 0.8700 - val_loss: 0.4082 - val_acc: 0.8944\n",
      "Epoch 25/100\n",
      "3900/3900 [==============================] - 0s 18us/step - loss: 0.4501 - acc: 0.8751 - val_loss: 0.4010 - val_acc: 0.8954\n",
      "Epoch 26/100\n",
      "3900/3900 [==============================] - 0s 18us/step - loss: 0.4323 - acc: 0.8749 - val_loss: 0.3955 - val_acc: 0.8933\n",
      "Epoch 27/100\n",
      "3900/3900 [==============================] - 0s 18us/step - loss: 0.4342 - acc: 0.8746 - val_loss: 0.3886 - val_acc: 0.8964\n",
      "Epoch 28/100\n",
      "3900/3900 [==============================] - 0s 18us/step - loss: 0.4250 - acc: 0.8772 - val_loss: 0.3792 - val_acc: 0.9015\n",
      "Epoch 29/100\n",
      "3900/3900 [==============================] - 0s 23us/step - loss: 0.4207 - acc: 0.8841 - val_loss: 0.3770 - val_acc: 0.8985\n",
      "Epoch 30/100\n",
      "3900/3900 [==============================] - 0s 20us/step - loss: 0.4059 - acc: 0.8815 - val_loss: 0.3736 - val_acc: 0.8985\n",
      "Epoch 31/100\n",
      "3900/3900 [==============================] - 0s 18us/step - loss: 0.4010 - acc: 0.8887 - val_loss: 0.3679 - val_acc: 0.9005\n",
      "Epoch 32/100\n",
      "3900/3900 [==============================] - 0s 19us/step - loss: 0.4022 - acc: 0.8872 - val_loss: 0.3634 - val_acc: 0.9005\n",
      "Epoch 33/100\n",
      "3900/3900 [==============================] - 0s 20us/step - loss: 0.3922 - acc: 0.8828 - val_loss: 0.3569 - val_acc: 0.9036\n",
      "Epoch 34/100\n",
      "3900/3900 [==============================] - 0s 18us/step - loss: 0.3823 - acc: 0.8908 - val_loss: 0.3576 - val_acc: 0.9026\n",
      "Epoch 35/100\n",
      "3900/3900 [==============================] - 0s 19us/step - loss: 0.3806 - acc: 0.8885 - val_loss: 0.3499 - val_acc: 0.9036\n",
      "Epoch 36/100\n",
      "3900/3900 [==============================] - 0s 17us/step - loss: 0.3691 - acc: 0.8995 - val_loss: 0.3476 - val_acc: 0.9036\n",
      "Epoch 37/100\n",
      "3900/3900 [==============================] - 0s 20us/step - loss: 0.3657 - acc: 0.8992 - val_loss: 0.3483 - val_acc: 0.9015\n",
      "Epoch 38/100\n",
      "3900/3900 [==============================] - 0s 21us/step - loss: 0.3589 - acc: 0.8969 - val_loss: 0.3432 - val_acc: 0.9026\n",
      "Epoch 39/100\n",
      "3900/3900 [==============================] - 0s 22us/step - loss: 0.3551 - acc: 0.8982 - val_loss: 0.3375 - val_acc: 0.9026\n",
      "Epoch 40/100\n",
      "3900/3900 [==============================] - 0s 18us/step - loss: 0.3511 - acc: 0.9010 - val_loss: 0.3380 - val_acc: 0.9036\n",
      "Epoch 41/100\n",
      "3900/3900 [==============================] - 0s 17us/step - loss: 0.3446 - acc: 0.9023 - val_loss: 0.3343 - val_acc: 0.9056\n",
      "Epoch 42/100\n",
      "3900/3900 [==============================] - 0s 20us/step - loss: 0.3402 - acc: 0.9033 - val_loss: 0.3327 - val_acc: 0.9046\n",
      "Epoch 43/100\n",
      "3900/3900 [==============================] - 0s 18us/step - loss: 0.3376 - acc: 0.9067 - val_loss: 0.3248 - val_acc: 0.9077\n",
      "Epoch 44/100\n",
      "3900/3900 [==============================] - 0s 18us/step - loss: 0.3327 - acc: 0.9031 - val_loss: 0.3284 - val_acc: 0.9056\n",
      "Epoch 45/100\n",
      "3900/3900 [==============================] - 0s 18us/step - loss: 0.3296 - acc: 0.9092 - val_loss: 0.3267 - val_acc: 0.9015\n",
      "Epoch 46/100\n",
      "3900/3900 [==============================] - 0s 18us/step - loss: 0.3250 - acc: 0.9090 - val_loss: 0.3218 - val_acc: 0.9067\n",
      "Epoch 47/100\n",
      "3900/3900 [==============================] - 0s 20us/step - loss: 0.3271 - acc: 0.9072 - val_loss: 0.3230 - val_acc: 0.9067\n",
      "Epoch 48/100\n",
      "3900/3900 [==============================] - 0s 18us/step - loss: 0.3209 - acc: 0.9105 - val_loss: 0.3194 - val_acc: 0.9077\n",
      "Epoch 49/100\n",
      "3900/3900 [==============================] - 0s 18us/step - loss: 0.3141 - acc: 0.9100 - val_loss: 0.3152 - val_acc: 0.9077\n",
      "Epoch 50/100\n",
      "3900/3900 [==============================] - 0s 17us/step - loss: 0.3133 - acc: 0.9095 - val_loss: 0.3148 - val_acc: 0.9097\n",
      "Epoch 51/100\n",
      "3900/3900 [==============================] - 0s 18us/step - loss: 0.3059 - acc: 0.9103 - val_loss: 0.3090 - val_acc: 0.9097\n",
      "Epoch 52/100\n",
      "3900/3900 [==============================] - 0s 17us/step - loss: 0.3041 - acc: 0.9190 - val_loss: 0.3146 - val_acc: 0.9046\n",
      "Epoch 53/100\n",
      "3900/3900 [==============================] - 0s 17us/step - loss: 0.3054 - acc: 0.9128 - val_loss: 0.3092 - val_acc: 0.9087\n",
      "Epoch 54/100\n",
      "3900/3900 [==============================] - 0s 17us/step - loss: 0.2988 - acc: 0.9159 - val_loss: 0.3049 - val_acc: 0.9138\n",
      "Epoch 55/100\n",
      "3900/3900 [==============================] - 0s 17us/step - loss: 0.2996 - acc: 0.9141 - val_loss: 0.3050 - val_acc: 0.9087\n",
      "Epoch 56/100\n",
      "3900/3900 [==============================] - 0s 18us/step - loss: 0.2955 - acc: 0.9141 - val_loss: 0.3031 - val_acc: 0.9128\n",
      "Epoch 57/100\n",
      "3900/3900 [==============================] - 0s 18us/step - loss: 0.2896 - acc: 0.9141 - val_loss: 0.2996 - val_acc: 0.9149\n",
      "Epoch 58/100\n",
      "3900/3900 [==============================] - 0s 19us/step - loss: 0.2879 - acc: 0.9203 - val_loss: 0.2998 - val_acc: 0.9169\n",
      "Epoch 59/100\n",
      "3900/3900 [==============================] - 0s 18us/step - loss: 0.2848 - acc: 0.9172 - val_loss: 0.2975 - val_acc: 0.9190\n",
      "Epoch 60/100\n"
     ]
    },
    {
     "name": "stdout",
     "output_type": "stream",
     "text": [
      "3900/3900 [==============================] - 0s 17us/step - loss: 0.2786 - acc: 0.9228 - val_loss: 0.2977 - val_acc: 0.9179\n",
      "Epoch 61/100\n",
      "3900/3900 [==============================] - 0s 17us/step - loss: 0.2835 - acc: 0.9205 - val_loss: 0.2990 - val_acc: 0.9169\n",
      "Epoch 62/100\n",
      "3900/3900 [==============================] - 0s 18us/step - loss: 0.2825 - acc: 0.9172 - val_loss: 0.2956 - val_acc: 0.9179\n",
      "Epoch 63/100\n",
      "3900/3900 [==============================] - 0s 17us/step - loss: 0.2743 - acc: 0.9205 - val_loss: 0.2949 - val_acc: 0.9179\n",
      "Epoch 64/100\n",
      "3900/3900 [==============================] - 0s 16us/step - loss: 0.2693 - acc: 0.9223 - val_loss: 0.2969 - val_acc: 0.9138\n",
      "Epoch 65/100\n",
      "3900/3900 [==============================] - 0s 17us/step - loss: 0.2715 - acc: 0.9249 - val_loss: 0.2919 - val_acc: 0.9159\n",
      "Epoch 66/100\n",
      "3900/3900 [==============================] - 0s 17us/step - loss: 0.2671 - acc: 0.9251 - val_loss: 0.2917 - val_acc: 0.9159\n",
      "Epoch 67/100\n",
      "3900/3900 [==============================] - 0s 17us/step - loss: 0.2710 - acc: 0.9210 - val_loss: 0.2934 - val_acc: 0.9149\n",
      "Epoch 68/100\n",
      "3900/3900 [==============================] - 0s 17us/step - loss: 0.2674 - acc: 0.9218 - val_loss: 0.2877 - val_acc: 0.9200\n",
      "Epoch 69/100\n",
      "3900/3900 [==============================] - 0s 18us/step - loss: 0.2570 - acc: 0.9292 - val_loss: 0.2850 - val_acc: 0.9200\n",
      "Epoch 70/100\n",
      "3900/3900 [==============================] - 0s 17us/step - loss: 0.2618 - acc: 0.9236 - val_loss: 0.2871 - val_acc: 0.9190\n",
      "Epoch 71/100\n",
      "3900/3900 [==============================] - 0s 18us/step - loss: 0.2565 - acc: 0.9264 - val_loss: 0.2861 - val_acc: 0.9210\n",
      "Epoch 72/100\n",
      "3900/3900 [==============================] - 0s 17us/step - loss: 0.2513 - acc: 0.9305 - val_loss: 0.2854 - val_acc: 0.9221\n",
      "Epoch 73/100\n",
      "3900/3900 [==============================] - 0s 16us/step - loss: 0.2481 - acc: 0.9313 - val_loss: 0.2823 - val_acc: 0.9231\n",
      "Epoch 74/100\n",
      "3900/3900 [==============================] - 0s 17us/step - loss: 0.2484 - acc: 0.9303 - val_loss: 0.2848 - val_acc: 0.9200\n",
      "Epoch 75/100\n",
      "3900/3900 [==============================] - 0s 17us/step - loss: 0.2538 - acc: 0.9241 - val_loss: 0.2827 - val_acc: 0.9200\n",
      "Epoch 76/100\n",
      "3900/3900 [==============================] - 0s 17us/step - loss: 0.2444 - acc: 0.9310 - val_loss: 0.2791 - val_acc: 0.9221\n",
      "Epoch 77/100\n",
      "3900/3900 [==============================] - 0s 18us/step - loss: 0.2477 - acc: 0.9269 - val_loss: 0.2822 - val_acc: 0.9210\n",
      "Epoch 78/100\n",
      "3900/3900 [==============================] - 0s 17us/step - loss: 0.2392 - acc: 0.9303 - val_loss: 0.2766 - val_acc: 0.9231\n",
      "Epoch 79/100\n",
      "3900/3900 [==============================] - 0s 17us/step - loss: 0.2414 - acc: 0.9300 - val_loss: 0.2801 - val_acc: 0.9221\n",
      "Epoch 80/100\n",
      "3900/3900 [==============================] - 0s 18us/step - loss: 0.2311 - acc: 0.9318 - val_loss: 0.2763 - val_acc: 0.9231\n",
      "Epoch 81/100\n",
      "3900/3900 [==============================] - 0s 17us/step - loss: 0.2385 - acc: 0.9269 - val_loss: 0.2776 - val_acc: 0.9241\n",
      "Epoch 82/100\n",
      "3900/3900 [==============================] - 0s 17us/step - loss: 0.2392 - acc: 0.9310 - val_loss: 0.2796 - val_acc: 0.9190\n",
      "Epoch 83/100\n",
      "3900/3900 [==============================] - 0s 17us/step - loss: 0.2340 - acc: 0.9308 - val_loss: 0.2738 - val_acc: 0.9241\n",
      "Epoch 84/100\n",
      "3900/3900 [==============================] - 0s 18us/step - loss: 0.2240 - acc: 0.9362 - val_loss: 0.2747 - val_acc: 0.9231\n",
      "Epoch 85/100\n",
      "3900/3900 [==============================] - 0s 17us/step - loss: 0.2288 - acc: 0.9323 - val_loss: 0.2721 - val_acc: 0.9241\n",
      "Epoch 86/100\n",
      "3900/3900 [==============================] - 0s 17us/step - loss: 0.2267 - acc: 0.9346 - val_loss: 0.2728 - val_acc: 0.9272\n",
      "Epoch 87/100\n",
      "3900/3900 [==============================] - 0s 17us/step - loss: 0.2274 - acc: 0.9331 - val_loss: 0.2725 - val_acc: 0.9241\n",
      "Epoch 88/100\n",
      "3900/3900 [==============================] - 0s 17us/step - loss: 0.2235 - acc: 0.9359 - val_loss: 0.2720 - val_acc: 0.9262\n",
      "Epoch 89/100\n",
      "3900/3900 [==============================] - 0s 17us/step - loss: 0.2258 - acc: 0.9338 - val_loss: 0.2715 - val_acc: 0.9231\n",
      "Epoch 90/100\n",
      "3900/3900 [==============================] - 0s 19us/step - loss: 0.2193 - acc: 0.9403 - val_loss: 0.2723 - val_acc: 0.9241\n",
      "Epoch 91/100\n",
      "3900/3900 [==============================] - 0s 18us/step - loss: 0.2153 - acc: 0.9385 - val_loss: 0.2691 - val_acc: 0.9251\n",
      "Epoch 92/100\n",
      "3900/3900 [==============================] - 0s 17us/step - loss: 0.2185 - acc: 0.9344 - val_loss: 0.2674 - val_acc: 0.9272\n",
      "Epoch 93/100\n",
      "3900/3900 [==============================] - 0s 18us/step - loss: 0.2184 - acc: 0.9318 - val_loss: 0.2690 - val_acc: 0.9241\n",
      "Epoch 94/100\n",
      "3900/3900 [==============================] - 0s 17us/step - loss: 0.2156 - acc: 0.9356 - val_loss: 0.2675 - val_acc: 0.9241\n",
      "Epoch 95/100\n",
      "3900/3900 [==============================] - 0s 17us/step - loss: 0.2098 - acc: 0.9382 - val_loss: 0.2689 - val_acc: 0.9241\n",
      "Epoch 96/100\n",
      "3900/3900 [==============================] - 0s 16us/step - loss: 0.2114 - acc: 0.9382 - val_loss: 0.2665 - val_acc: 0.9251\n",
      "Epoch 97/100\n",
      "3900/3900 [==============================] - 0s 16us/step - loss: 0.2081 - acc: 0.9421 - val_loss: 0.2685 - val_acc: 0.9241\n",
      "Epoch 98/100\n",
      "3900/3900 [==============================] - 0s 17us/step - loss: 0.2037 - acc: 0.9451 - val_loss: 0.2656 - val_acc: 0.9272\n",
      "Epoch 99/100\n",
      "3900/3900 [==============================] - 0s 16us/step - loss: 0.2080 - acc: 0.9415 - val_loss: 0.2635 - val_acc: 0.9262\n",
      "Epoch 100/100\n",
      "3900/3900 [==============================] - 0s 18us/step - loss: 0.2052 - acc: 0.9428 - val_loss: 0.2662 - val_acc: 0.9231\n"
     ]
    }
   ],
   "source": [
    "history = model.fit(X_train, Y_train,\n",
    "          batch_size=128, \n",
    "          epochs=100,\n",
    "          verbose=1,\n",
    "          validation_data=(X_valid, Y_valid))"
   ]
  },
  {
   "cell_type": "markdown",
   "metadata": {},
   "source": [
    "## Generate Loss and Accuracy Graphs by Epoch"
   ]
  },
  {
   "cell_type": "code",
   "execution_count": 10,
   "metadata": {},
   "outputs": [
    {
     "data": {
      "text/plain": [
       "<matplotlib.legend.Legend at 0x7f2454458f60>"
      ]
     },
     "execution_count": 10,
     "metadata": {},
     "output_type": "execute_result"
    },
    {
     "data": {
      "image/png": "[encoded data removed]",
      "text/plain": [
       "<matplotlib.figure.Figure at 0x7f24547e8a58>"
      ]
     },
     "metadata": {},
     "output_type": "display_data"
    }
   ],
   "source": [
    "plt.figure(figsize=(16,5))\n",
    "plt.subplot(1,2,1)\n",
    "plt.title('Loss per Epoch')\n",
    "plt.xlabel('Epochs')\n",
    "plt.ylabel('Loss')\n",
    "plt.plot(history.history['loss'])\n",
    "plt.plot(history.history['val_loss'])\n",
    "plt.legend(['Training', 'Validation'])\n",
    "\n",
    "plt.subplot(1,2,2)\n",
    "plt.title('Accuracy per Epoch')\n",
    "plt.xlabel('Epochs')\n",
    "plt.ylabel('Accuracy')\n",
    "plt.plot(history.history['acc'])\n",
    "plt.plot(history.history['val_acc'])\n",
    "plt.legend(['Training', 'Validation'], loc='lower right')"
   ]
  },
  {
   "cell_type": "code",
   "execution_count": 14,
   "metadata": {},
   "outputs": [
    {
     "data": {
      "image/svg+xml": [
       "<svg height=\"719pt\" viewBox=\"0.00 0.00 309.00 719.00\" width=\"309pt\" xmlns=\"http://www.w3.org/2000/svg\" xmlns:xlink=\"http://www.w3.org/1999/xlink\">\n",
       "<g class=\"graph\" id=\"graph0\" transform=\"scale(1 1) rotate(0) translate(4 715)\">\n",
       "<title>G</title>\n",
       "<polygon fill=\"white\" points=\"-4,4 -4,-715 305,-715 305,4 -4,4\" stroke=\"none\"/>\n",
       "<!-- 139794009393416 -->\n",
       "<g class=\"node\" id=\"node1\"><title>139794009393416</title>\n",
       "<polygon fill=\"none\" points=\"0,-664.5 0,-710.5 301,-710.5 301,-664.5 0,-664.5\" stroke=\"black\"/>\n",
       "<text font-family=\"Times,serif\" font-size=\"14.00\" text-anchor=\"middle\" x=\"81.5\" y=\"-683.8\">dense_1_input: InputLayer</text>\n",
       "<polyline fill=\"none\" points=\"163,-664.5 163,-710.5 \" stroke=\"black\"/>\n",
       "<text font-family=\"Times,serif\" font-size=\"14.00\" text-anchor=\"middle\" x=\"190.5\" y=\"-695.3\">input:</text>\n",
       "<polyline fill=\"none\" points=\"163,-687.5 218,-687.5 \" stroke=\"black\"/>\n",
       "<text font-family=\"Times,serif\" font-size=\"14.00\" text-anchor=\"middle\" x=\"190.5\" y=\"-672.3\">output:</text>\n",
       "<polyline fill=\"none\" points=\"218,-664.5 218,-710.5 \" stroke=\"black\"/>\n",
       "<text font-family=\"Times,serif\" font-size=\"14.00\" text-anchor=\"middle\" x=\"259.5\" y=\"-695.3\">(None, 784)</text>\n",
       "<polyline fill=\"none\" points=\"218,-687.5 301,-687.5 \" stroke=\"black\"/>\n",
       "<text font-family=\"Times,serif\" font-size=\"14.00\" text-anchor=\"middle\" x=\"259.5\" y=\"-672.3\">(None, 784)</text>\n",
       "</g>\n",
       "<!-- 139794009371704 -->\n",
       "<g class=\"node\" id=\"node2\"><title>139794009371704</title>\n",
       "<polygon fill=\"none\" points=\"30.5,-581.5 30.5,-627.5 270.5,-627.5 270.5,-581.5 30.5,-581.5\" stroke=\"black\"/>\n",
       "<text font-family=\"Times,serif\" font-size=\"14.00\" text-anchor=\"middle\" x=\"81.5\" y=\"-600.8\">dense_1: Dense</text>\n",
       "<polyline fill=\"none\" points=\"132.5,-581.5 132.5,-627.5 \" stroke=\"black\"/>\n",
       "<text font-family=\"Times,serif\" font-size=\"14.00\" text-anchor=\"middle\" x=\"160\" y=\"-612.3\">input:</text>\n",
       "<polyline fill=\"none\" points=\"132.5,-604.5 187.5,-604.5 \" stroke=\"black\"/>\n",
       "<text font-family=\"Times,serif\" font-size=\"14.00\" text-anchor=\"middle\" x=\"160\" y=\"-589.3\">output:</text>\n",
       "<polyline fill=\"none\" points=\"187.5,-581.5 187.5,-627.5 \" stroke=\"black\"/>\n",
       "<text font-family=\"Times,serif\" font-size=\"14.00\" text-anchor=\"middle\" x=\"229\" y=\"-612.3\">(None, 784)</text>\n",
       "<polyline fill=\"none\" points=\"187.5,-604.5 270.5,-604.5 \" stroke=\"black\"/>\n",
       "<text font-family=\"Times,serif\" font-size=\"14.00\" text-anchor=\"middle\" x=\"229\" y=\"-589.3\">(None, 512)</text>\n",
       "</g>\n",
       "<!-- 139794009393416&#45;&gt;139794009371704 -->\n",
       "<g class=\"edge\" id=\"edge1\"><title>139794009393416-&gt;139794009371704</title>\n",
       "<path d=\"M150.5,-664.366C150.5,-656.152 150.5,-646.658 150.5,-637.725\" fill=\"none\" stroke=\"black\"/>\n",
       "<polygon fill=\"black\" points=\"154,-637.607 150.5,-627.607 147,-637.607 154,-637.607\" stroke=\"black\"/>\n",
       "</g>\n",
       "<!-- 139794009374448 -->\n",
       "<g class=\"node\" id=\"node3\"><title>139794009374448</title>\n",
       "<polygon fill=\"none\" points=\"7.5,-498.5 7.5,-544.5 293.5,-544.5 293.5,-498.5 7.5,-498.5\" stroke=\"black\"/>\n",
       "<text font-family=\"Times,serif\" font-size=\"14.00\" text-anchor=\"middle\" x=\"81.5\" y=\"-517.8\">activation_1: Activation</text>\n",
       "<polyline fill=\"none\" points=\"155.5,-498.5 155.5,-544.5 \" stroke=\"black\"/>\n",
       "<text font-family=\"Times,serif\" font-size=\"14.00\" text-anchor=\"middle\" x=\"183\" y=\"-529.3\">input:</text>\n",
       "<polyline fill=\"none\" points=\"155.5,-521.5 210.5,-521.5 \" stroke=\"black\"/>\n",
       "<text font-family=\"Times,serif\" font-size=\"14.00\" text-anchor=\"middle\" x=\"183\" y=\"-506.3\">output:</text>\n",
       "<polyline fill=\"none\" points=\"210.5,-498.5 210.5,-544.5 \" stroke=\"black\"/>\n",
       "<text font-family=\"Times,serif\" font-size=\"14.00\" text-anchor=\"middle\" x=\"252\" y=\"-529.3\">(None, 512)</text>\n",
       "<polyline fill=\"none\" points=\"210.5,-521.5 293.5,-521.5 \" stroke=\"black\"/>\n",
       "<text font-family=\"Times,serif\" font-size=\"14.00\" text-anchor=\"middle\" x=\"252\" y=\"-506.3\">(None, 512)</text>\n",
       "</g>\n",
       "<!-- 139794009371704&#45;&gt;139794009374448 -->\n",
       "<g class=\"edge\" id=\"edge2\"><title>139794009371704-&gt;139794009374448</title>\n",
       "<path d=\"M150.5,-581.366C150.5,-573.152 150.5,-563.658 150.5,-554.725\" fill=\"none\" stroke=\"black\"/>\n",
       "<polygon fill=\"black\" points=\"154,-554.607 150.5,-544.607 147,-554.607 154,-554.607\" stroke=\"black\"/>\n",
       "</g>\n",
       "<!-- 139794009392072 -->\n",
       "<g class=\"node\" id=\"node4\"><title>139794009392072</title>\n",
       "<polygon fill=\"none\" points=\"19,-415.5 19,-461.5 282,-461.5 282,-415.5 19,-415.5\" stroke=\"black\"/>\n",
       "<text font-family=\"Times,serif\" font-size=\"14.00\" text-anchor=\"middle\" x=\"81.5\" y=\"-434.8\">dropout_1: Dropout</text>\n",
       "<polyline fill=\"none\" points=\"144,-415.5 144,-461.5 \" stroke=\"black\"/>\n",
       "<text font-family=\"Times,serif\" font-size=\"14.00\" text-anchor=\"middle\" x=\"171.5\" y=\"-446.3\">input:</text>\n",
       "<polyline fill=\"none\" points=\"144,-438.5 199,-438.5 \" stroke=\"black\"/>\n",
       "<text font-family=\"Times,serif\" font-size=\"14.00\" text-anchor=\"middle\" x=\"171.5\" y=\"-423.3\">output:</text>\n",
       "<polyline fill=\"none\" points=\"199,-415.5 199,-461.5 \" stroke=\"black\"/>\n",
       "<text font-family=\"Times,serif\" font-size=\"14.00\" text-anchor=\"middle\" x=\"240.5\" y=\"-446.3\">(None, 512)</text>\n",
       "<polyline fill=\"none\" points=\"199,-438.5 282,-438.5 \" stroke=\"black\"/>\n",
       "<text font-family=\"Times,serif\" font-size=\"14.00\" text-anchor=\"middle\" x=\"240.5\" y=\"-423.3\">(None, 512)</text>\n",
       "</g>\n",
       "<!-- 139794009374448&#45;&gt;139794009392072 -->\n",
       "<g class=\"edge\" id=\"edge3\"><title>139794009374448-&gt;139794009392072</title>\n",
       "<path d=\"M150.5,-498.366C150.5,-490.152 150.5,-480.658 150.5,-471.725\" fill=\"none\" stroke=\"black\"/>\n",
       "<polygon fill=\"black\" points=\"154,-471.607 150.5,-461.607 147,-471.607 154,-471.607\" stroke=\"black\"/>\n",
       "</g>\n",
       "<!-- 139794012378392 -->\n",
       "<g class=\"node\" id=\"node5\"><title>139794012378392</title>\n",
       "<polygon fill=\"none\" points=\"30.5,-332.5 30.5,-378.5 270.5,-378.5 270.5,-332.5 30.5,-332.5\" stroke=\"black\"/>\n",
       "<text font-family=\"Times,serif\" font-size=\"14.00\" text-anchor=\"middle\" x=\"81.5\" y=\"-351.8\">dense_2: Dense</text>\n",
       "<polyline fill=\"none\" points=\"132.5,-332.5 132.5,-378.5 \" stroke=\"black\"/>\n",
       "<text font-family=\"Times,serif\" font-size=\"14.00\" text-anchor=\"middle\" x=\"160\" y=\"-363.3\">input:</text>\n",
       "<polyline fill=\"none\" points=\"132.5,-355.5 187.5,-355.5 \" stroke=\"black\"/>\n",
       "<text font-family=\"Times,serif\" font-size=\"14.00\" text-anchor=\"middle\" x=\"160\" y=\"-340.3\">output:</text>\n",
       "<polyline fill=\"none\" points=\"187.5,-332.5 187.5,-378.5 \" stroke=\"black\"/>\n",
       "<text font-family=\"Times,serif\" font-size=\"14.00\" text-anchor=\"middle\" x=\"229\" y=\"-363.3\">(None, 512)</text>\n",
       "<polyline fill=\"none\" points=\"187.5,-355.5 270.5,-355.5 \" stroke=\"black\"/>\n",
       "<text font-family=\"Times,serif\" font-size=\"14.00\" text-anchor=\"middle\" x=\"229\" y=\"-340.3\">(None, 512)</text>\n",
       "</g>\n",
       "<!-- 139794009392072&#45;&gt;139794012378392 -->\n",
       "<g class=\"edge\" id=\"edge4\"><title>139794009392072-&gt;139794012378392</title>\n",
       "<path d=\"M150.5,-415.366C150.5,-407.152 150.5,-397.658 150.5,-388.725\" fill=\"none\" stroke=\"black\"/>\n",
       "<polygon fill=\"black\" points=\"154,-388.607 150.5,-378.607 147,-388.607 154,-388.607\" stroke=\"black\"/>\n",
       "</g>\n",
       "<!-- 139794012629200 -->\n",
       "<g class=\"node\" id=\"node6\"><title>139794012629200</title>\n",
       "<polygon fill=\"none\" points=\"7.5,-249.5 7.5,-295.5 293.5,-295.5 293.5,-249.5 7.5,-249.5\" stroke=\"black\"/>\n",
       "<text font-family=\"Times,serif\" font-size=\"14.00\" text-anchor=\"middle\" x=\"81.5\" y=\"-268.8\">activation_2: Activation</text>\n",
       "<polyline fill=\"none\" points=\"155.5,-249.5 155.5,-295.5 \" stroke=\"black\"/>\n",
       "<text font-family=\"Times,serif\" font-size=\"14.00\" text-anchor=\"middle\" x=\"183\" y=\"-280.3\">input:</text>\n",
       "<polyline fill=\"none\" points=\"155.5,-272.5 210.5,-272.5 \" stroke=\"black\"/>\n",
       "<text font-family=\"Times,serif\" font-size=\"14.00\" text-anchor=\"middle\" x=\"183\" y=\"-257.3\">output:</text>\n",
       "<polyline fill=\"none\" points=\"210.5,-249.5 210.5,-295.5 \" stroke=\"black\"/>\n",
       "<text font-family=\"Times,serif\" font-size=\"14.00\" text-anchor=\"middle\" x=\"252\" y=\"-280.3\">(None, 512)</text>\n",
       "<polyline fill=\"none\" points=\"210.5,-272.5 293.5,-272.5 \" stroke=\"black\"/>\n",
       "<text font-family=\"Times,serif\" font-size=\"14.00\" text-anchor=\"middle\" x=\"252\" y=\"-257.3\">(None, 512)</text>\n",
       "</g>\n",
       "<!-- 139794012378392&#45;&gt;139794012629200 -->\n",
       "<g class=\"edge\" id=\"edge5\"><title>139794012378392-&gt;139794012629200</title>\n",
       "<path d=\"M150.5,-332.366C150.5,-324.152 150.5,-314.658 150.5,-305.725\" fill=\"none\" stroke=\"black\"/>\n",
       "<polygon fill=\"black\" points=\"154,-305.607 150.5,-295.607 147,-305.607 154,-305.607\" stroke=\"black\"/>\n",
       "</g>\n",
       "<!-- 139794012007616 -->\n",
       "<g class=\"node\" id=\"node7\"><title>139794012007616</title>\n",
       "<polygon fill=\"none\" points=\"19,-166.5 19,-212.5 282,-212.5 282,-166.5 19,-166.5\" stroke=\"black\"/>\n",
       "<text font-family=\"Times,serif\" font-size=\"14.00\" text-anchor=\"middle\" x=\"81.5\" y=\"-185.8\">dropout_2: Dropout</text>\n",
       "<polyline fill=\"none\" points=\"144,-166.5 144,-212.5 \" stroke=\"black\"/>\n",
       "<text font-family=\"Times,serif\" font-size=\"14.00\" text-anchor=\"middle\" x=\"171.5\" y=\"-197.3\">input:</text>\n",
       "<polyline fill=\"none\" points=\"144,-189.5 199,-189.5 \" stroke=\"black\"/>\n",
       "<text font-family=\"Times,serif\" font-size=\"14.00\" text-anchor=\"middle\" x=\"171.5\" y=\"-174.3\">output:</text>\n",
       "<polyline fill=\"none\" points=\"199,-166.5 199,-212.5 \" stroke=\"black\"/>\n",
       "<text font-family=\"Times,serif\" font-size=\"14.00\" text-anchor=\"middle\" x=\"240.5\" y=\"-197.3\">(None, 512)</text>\n",
       "<polyline fill=\"none\" points=\"199,-189.5 282,-189.5 \" stroke=\"black\"/>\n",
       "<text font-family=\"Times,serif\" font-size=\"14.00\" text-anchor=\"middle\" x=\"240.5\" y=\"-174.3\">(None, 512)</text>\n",
       "</g>\n",
       "<!-- 139794012629200&#45;&gt;139794012007616 -->\n",
       "<g class=\"edge\" id=\"edge6\"><title>139794012629200-&gt;139794012007616</title>\n",
       "<path d=\"M150.5,-249.366C150.5,-241.152 150.5,-231.658 150.5,-222.725\" fill=\"none\" stroke=\"black\"/>\n",
       "<polygon fill=\"black\" points=\"154,-222.607 150.5,-212.607 147,-222.607 154,-222.607\" stroke=\"black\"/>\n",
       "</g>\n",
       "<!-- 139794012006048 -->\n",
       "<g class=\"node\" id=\"node8\"><title>139794012006048</title>\n",
       "<polygon fill=\"none\" points=\"30.5,-83.5 30.5,-129.5 270.5,-129.5 270.5,-83.5 30.5,-83.5\" stroke=\"black\"/>\n",
       "<text font-family=\"Times,serif\" font-size=\"14.00\" text-anchor=\"middle\" x=\"81.5\" y=\"-102.8\">dense_3: Dense</text>\n",
       "<polyline fill=\"none\" points=\"132.5,-83.5 132.5,-129.5 \" stroke=\"black\"/>\n",
       "<text font-family=\"Times,serif\" font-size=\"14.00\" text-anchor=\"middle\" x=\"160\" y=\"-114.3\">input:</text>\n",
       "<polyline fill=\"none\" points=\"132.5,-106.5 187.5,-106.5 \" stroke=\"black\"/>\n",
       "<text font-family=\"Times,serif\" font-size=\"14.00\" text-anchor=\"middle\" x=\"160\" y=\"-91.3\">output:</text>\n",
       "<polyline fill=\"none\" points=\"187.5,-83.5 187.5,-129.5 \" stroke=\"black\"/>\n",
       "<text font-family=\"Times,serif\" font-size=\"14.00\" text-anchor=\"middle\" x=\"229\" y=\"-114.3\">(None, 512)</text>\n",
       "<polyline fill=\"none\" points=\"187.5,-106.5 270.5,-106.5 \" stroke=\"black\"/>\n",
       "<text font-family=\"Times,serif\" font-size=\"14.00\" text-anchor=\"middle\" x=\"229\" y=\"-91.3\">(None, 10)</text>\n",
       "</g>\n",
       "<!-- 139794012007616&#45;&gt;139794012006048 -->\n",
       "<g class=\"edge\" id=\"edge7\"><title>139794012007616-&gt;139794012006048</title>\n",
       "<path d=\"M150.5,-166.366C150.5,-158.152 150.5,-148.658 150.5,-139.725\" fill=\"none\" stroke=\"black\"/>\n",
       "<polygon fill=\"black\" points=\"154,-139.607 150.5,-129.607 147,-139.607 154,-139.607\" stroke=\"black\"/>\n",
       "</g>\n",
       "<!-- 139794012100536 -->\n",
       "<g class=\"node\" id=\"node9\"><title>139794012100536</title>\n",
       "<polygon fill=\"none\" points=\"11,-0.5 11,-46.5 290,-46.5 290,-0.5 11,-0.5\" stroke=\"black\"/>\n",
       "<text font-family=\"Times,serif\" font-size=\"14.00\" text-anchor=\"middle\" x=\"85\" y=\"-19.8\">activation_3: Activation</text>\n",
       "<polyline fill=\"none\" points=\"159,-0.5 159,-46.5 \" stroke=\"black\"/>\n",
       "<text font-family=\"Times,serif\" font-size=\"14.00\" text-anchor=\"middle\" x=\"186.5\" y=\"-31.3\">input:</text>\n",
       "<polyline fill=\"none\" points=\"159,-23.5 214,-23.5 \" stroke=\"black\"/>\n",
       "<text font-family=\"Times,serif\" font-size=\"14.00\" text-anchor=\"middle\" x=\"186.5\" y=\"-8.3\">output:</text>\n",
       "<polyline fill=\"none\" points=\"214,-0.5 214,-46.5 \" stroke=\"black\"/>\n",
       "<text font-family=\"Times,serif\" font-size=\"14.00\" text-anchor=\"middle\" x=\"252\" y=\"-31.3\">(None, 10)</text>\n",
       "<polyline fill=\"none\" points=\"214,-23.5 290,-23.5 \" stroke=\"black\"/>\n",
       "<text font-family=\"Times,serif\" font-size=\"14.00\" text-anchor=\"middle\" x=\"252\" y=\"-8.3\">(None, 10)</text>\n",
       "</g>\n",
       "<!-- 139794012006048&#45;&gt;139794012100536 -->\n",
       "<g class=\"edge\" id=\"edge8\"><title>139794012006048-&gt;139794012100536</title>\n",
       "<path d=\"M150.5,-83.3664C150.5,-75.1516 150.5,-65.6579 150.5,-56.7252\" fill=\"none\" stroke=\"black\"/>\n",
       "<polygon fill=\"black\" points=\"154,-56.6068 150.5,-46.6068 147,-56.6069 154,-56.6068\" stroke=\"black\"/>\n",
       "</g>\n",
       "</g>\n",
       "</svg>"
      ],
      "text/plain": [
       "<IPython.core.display.SVG object>"
      ]
     },
     "execution_count": 14,
     "metadata": {},
     "output_type": "execute_result"
    }
   ],
   "source": [
    "SVG(model_to_dot(model, show_shapes=True, rankdir='TD').create(prog='dot', format='svg'))"
   ]
  },
  {
   "cell_type": "markdown",
   "metadata": {},
   "source": [
    "## Print End Result Accuracy"
   ]
  },
  {
   "cell_type": "code",
   "execution_count": 12,
   "metadata": {},
   "outputs": [
    {
     "name": "stdout",
     "output_type": "stream",
     "text": [
      "1625/1625 [==============================] - 0s 66us/step\n",
      "Test score: 0.3314927610109489\n",
      "Test accuracy: 0.952\n"
     ]
    }
   ],
   "source": [
    "score = model.evaluate(X_test, Y_test, verbose=1)\n",
    "print('Test score:', score[0])\n",
    "print('Test accuracy:', score[1])"
   ]
  },
  {
   "cell_type": "markdown",
   "metadata": {},
   "source": [
    "## Display Correct Prediction Examples"
   ]
  },
  {
   "cell_type": "code",
   "execution_count": 13,
   "metadata": {},
   "outputs": [],
   "source": [
    "predicted_classes = model.predict_classes(X_test)\n",
    "\n",
    "correct_indices = np.nonzero(predicted_classes == y_test)[0]\n",
    "incorrect_indices = np.nonzero(predicted_classes != y_test)[0]"
   ]
  },
  {
   "cell_type": "code",
   "execution_count": 14,
   "metadata": {},
   "outputs": [
    {
     "data": {
      "image/png": "[encoded data removed]",
      "text/plain": [
       "<matplotlib.figure.Figure at 0x7f10994a0048>"
      ]
     },
     "metadata": {},
     "output_type": "display_data"
    }
   ],
   "source": [
    "num_figures = 6\n",
    "plt.figure(figsize=(16,8))\n",
    "for i, correct in enumerate(correct_indices[:num_figures]):\n",
    "    plt.subplot(1,num_figures,i+1)\n",
    "    plt.imshow(X_test[correct].reshape(28,28), cmap='gray', interpolation='none')\n",
    "    plt.title(\"Predicted {}, Class {}\".format(predicted_classes[correct], y_test[correct]))"
   ]
  },
  {
   "cell_type": "markdown",
   "metadata": {},
   "source": [
    "## Display Incorrect Prediction Examples"
   ]
  },
  {
   "cell_type": "code",
   "execution_count": 15,
   "metadata": {},
   "outputs": [
    {
     "data": {
      "image/png": "[encoded data removed]",
      "text/plain": [
       "<matplotlib.figure.Figure at 0x7f10994334e0>"
      ]
     },
     "metadata": {},
     "output_type": "display_data"
    }
   ],
   "source": [
    "num_figures = 6\n",
    "plt.figure(figsize=(16,8))\n",
    "for i, incorrect in enumerate(incorrect_indices[:num_figures]):\n",
    "    plt.subplot(1,num_figures,i+1)\n",
    "    plt.imshow(X_test[incorrect].reshape(28,28), cmap='gray', interpolation='none')\n",
    "    plt.title(\"Predicted {}, Class {}\".format(predicted_classes[incorrect], y_test[incorrect]))"
   ]
  },
  {
   "cell_type": "markdown",
   "metadata": {},
   "source": [
    "## Evaluation of Incorrect Prediction\n",
    "\n",
    "Above are six examples of the algorithm incorrectly predicting certain numbers within the data given. The neural network had difficulties in determining when a curve or line was connected to another or not, and did not accurately locate smaller gaps between lines (as in the third example, where it assumed an '8' and didn't notice the small gap making it a '2'). It also had trouble recognizing less common ways to write certain numbers. It was correctly able to identify a single vertical line as being a '1', but when written as a typed '1', like in example 4, it failed. The algorithm also could not accurately identify numbers that were blurry or poorly written, as the grayscale had a harder time determining separations between lines, as is the case in the final two examples."
   ]
  }
 ],
 "metadata": {
  "kernelspec": {
   "display_name": "Python 3",
   "language": "python",
   "name": "python3"
  },
  "language_info": {
   "codemirror_mode": {
    "name": "ipython",
    "version": 3
   },
   "file_extension": ".py",
   "mimetype": "text/x-python",
   "name": "python",
   "nbconvert_exporter": "python",
   "pygments_lexer": "ipython3",
   "version": "3.5.2"
  }
 },
 "nbformat": 4,
 "nbformat_minor": 2
}
